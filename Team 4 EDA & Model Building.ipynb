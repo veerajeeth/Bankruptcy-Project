{
  "nbformat": 4,
  "nbformat_minor": 0,
  "metadata": {
    "colab": {
      "provenance": []
    },
    "kernelspec": {
      "name": "python3",
      "display_name": "Python 3"
    },
    "language_info": {
      "name": "python"
    }
  },
  "cells": [
    {
      "cell_type": "code",
      "source": [
        "import numpy as np\n",
        "import pandas as pd\n",
        "import matplotlib.pyplot as plt\n",
        "import plotly.express as px\n",
        "from sklearn.model_selection import train_test_split\n",
        "from sklearn.preprocessing import StandardScaler\n",
        "from sklearn.neighbors import KNeighborsClassifier\n",
        "from sklearn.svm import LinearSVC,SVC\n",
        "from sklearn.neural_network import MLPClassifier\n",
        "from sklearn.ensemble import RandomForestClassifier,GradientBoostingClassifier\n",
        "from sklearn.decomposition import PCA\n",
        "import seaborn as sns\n",
        "import warnings\n",
        "warnings.filterwarnings(action='ignore')"
      ],
      "metadata": {
        "id": "kk_umrwgZpbq"
      },
      "execution_count": 38,
      "outputs": []
    },
    {
      "cell_type": "code",
      "source": [
        "from google.colab import files\n",
        "uploaded=files.upload()"
      ],
      "metadata": {
        "colab": {
          "base_uri": "https://localhost:8080/",
          "height": 73
        },
        "id": "En7YwzEobEWo",
        "outputId": "ec50d042-1bc3-4e64-b0ae-8ca3cd153fb6"
      },
      "execution_count": 2,
      "outputs": [
        {
          "output_type": "display_data",
          "data": {
            "text/plain": [
              "<IPython.core.display.HTML object>"
            ],
            "text/html": [
              "\n",
              "     <input type=\"file\" id=\"files-ed249673-a2c5-4b50-a35f-f6a15da64e80\" name=\"files[]\" multiple disabled\n",
              "        style=\"border:none\" />\n",
              "     <output id=\"result-ed249673-a2c5-4b50-a35f-f6a15da64e80\">\n",
              "      Upload widget is only available when the cell has been executed in the\n",
              "      current browser session. Please rerun this cell to enable.\n",
              "      </output>\n",
              "      <script>// Copyright 2017 Google LLC\n",
              "//\n",
              "// Licensed under the Apache License, Version 2.0 (the \"License\");\n",
              "// you may not use this file except in compliance with the License.\n",
              "// You may obtain a copy of the License at\n",
              "//\n",
              "//      http://www.apache.org/licenses/LICENSE-2.0\n",
              "//\n",
              "// Unless required by applicable law or agreed to in writing, software\n",
              "// distributed under the License is distributed on an \"AS IS\" BASIS,\n",
              "// WITHOUT WARRANTIES OR CONDITIONS OF ANY KIND, either express or implied.\n",
              "// See the License for the specific language governing permissions and\n",
              "// limitations under the License.\n",
              "\n",
              "/**\n",
              " * @fileoverview Helpers for google.colab Python module.\n",
              " */\n",
              "(function(scope) {\n",
              "function span(text, styleAttributes = {}) {\n",
              "  const element = document.createElement('span');\n",
              "  element.textContent = text;\n",
              "  for (const key of Object.keys(styleAttributes)) {\n",
              "    element.style[key] = styleAttributes[key];\n",
              "  }\n",
              "  return element;\n",
              "}\n",
              "\n",
              "// Max number of bytes which will be uploaded at a time.\n",
              "const MAX_PAYLOAD_SIZE = 100 * 1024;\n",
              "\n",
              "function _uploadFiles(inputId, outputId) {\n",
              "  const steps = uploadFilesStep(inputId, outputId);\n",
              "  const outputElement = document.getElementById(outputId);\n",
              "  // Cache steps on the outputElement to make it available for the next call\n",
              "  // to uploadFilesContinue from Python.\n",
              "  outputElement.steps = steps;\n",
              "\n",
              "  return _uploadFilesContinue(outputId);\n",
              "}\n",
              "\n",
              "// This is roughly an async generator (not supported in the browser yet),\n",
              "// where there are multiple asynchronous steps and the Python side is going\n",
              "// to poll for completion of each step.\n",
              "// This uses a Promise to block the python side on completion of each step,\n",
              "// then passes the result of the previous step as the input to the next step.\n",
              "function _uploadFilesContinue(outputId) {\n",
              "  const outputElement = document.getElementById(outputId);\n",
              "  const steps = outputElement.steps;\n",
              "\n",
              "  const next = steps.next(outputElement.lastPromiseValue);\n",
              "  return Promise.resolve(next.value.promise).then((value) => {\n",
              "    // Cache the last promise value to make it available to the next\n",
              "    // step of the generator.\n",
              "    outputElement.lastPromiseValue = value;\n",
              "    return next.value.response;\n",
              "  });\n",
              "}\n",
              "\n",
              "/**\n",
              " * Generator function which is called between each async step of the upload\n",
              " * process.\n",
              " * @param {string} inputId Element ID of the input file picker element.\n",
              " * @param {string} outputId Element ID of the output display.\n",
              " * @return {!Iterable<!Object>} Iterable of next steps.\n",
              " */\n",
              "function* uploadFilesStep(inputId, outputId) {\n",
              "  const inputElement = document.getElementById(inputId);\n",
              "  inputElement.disabled = false;\n",
              "\n",
              "  const outputElement = document.getElementById(outputId);\n",
              "  outputElement.innerHTML = '';\n",
              "\n",
              "  const pickedPromise = new Promise((resolve) => {\n",
              "    inputElement.addEventListener('change', (e) => {\n",
              "      resolve(e.target.files);\n",
              "    });\n",
              "  });\n",
              "\n",
              "  const cancel = document.createElement('button');\n",
              "  inputElement.parentElement.appendChild(cancel);\n",
              "  cancel.textContent = 'Cancel upload';\n",
              "  const cancelPromise = new Promise((resolve) => {\n",
              "    cancel.onclick = () => {\n",
              "      resolve(null);\n",
              "    };\n",
              "  });\n",
              "\n",
              "  // Wait for the user to pick the files.\n",
              "  const files = yield {\n",
              "    promise: Promise.race([pickedPromise, cancelPromise]),\n",
              "    response: {\n",
              "      action: 'starting',\n",
              "    }\n",
              "  };\n",
              "\n",
              "  cancel.remove();\n",
              "\n",
              "  // Disable the input element since further picks are not allowed.\n",
              "  inputElement.disabled = true;\n",
              "\n",
              "  if (!files) {\n",
              "    return {\n",
              "      response: {\n",
              "        action: 'complete',\n",
              "      }\n",
              "    };\n",
              "  }\n",
              "\n",
              "  for (const file of files) {\n",
              "    const li = document.createElement('li');\n",
              "    li.append(span(file.name, {fontWeight: 'bold'}));\n",
              "    li.append(span(\n",
              "        `(${file.type || 'n/a'}) - ${file.size} bytes, ` +\n",
              "        `last modified: ${\n",
              "            file.lastModifiedDate ? file.lastModifiedDate.toLocaleDateString() :\n",
              "                                    'n/a'} - `));\n",
              "    const percent = span('0% done');\n",
              "    li.appendChild(percent);\n",
              "\n",
              "    outputElement.appendChild(li);\n",
              "\n",
              "    const fileDataPromise = new Promise((resolve) => {\n",
              "      const reader = new FileReader();\n",
              "      reader.onload = (e) => {\n",
              "        resolve(e.target.result);\n",
              "      };\n",
              "      reader.readAsArrayBuffer(file);\n",
              "    });\n",
              "    // Wait for the data to be ready.\n",
              "    let fileData = yield {\n",
              "      promise: fileDataPromise,\n",
              "      response: {\n",
              "        action: 'continue',\n",
              "      }\n",
              "    };\n",
              "\n",
              "    // Use a chunked sending to avoid message size limits. See b/62115660.\n",
              "    let position = 0;\n",
              "    do {\n",
              "      const length = Math.min(fileData.byteLength - position, MAX_PAYLOAD_SIZE);\n",
              "      const chunk = new Uint8Array(fileData, position, length);\n",
              "      position += length;\n",
              "\n",
              "      const base64 = btoa(String.fromCharCode.apply(null, chunk));\n",
              "      yield {\n",
              "        response: {\n",
              "          action: 'append',\n",
              "          file: file.name,\n",
              "          data: base64,\n",
              "        },\n",
              "      };\n",
              "\n",
              "      let percentDone = fileData.byteLength === 0 ?\n",
              "          100 :\n",
              "          Math.round((position / fileData.byteLength) * 100);\n",
              "      percent.textContent = `${percentDone}% done`;\n",
              "\n",
              "    } while (position < fileData.byteLength);\n",
              "  }\n",
              "\n",
              "  // All done.\n",
              "  yield {\n",
              "    response: {\n",
              "      action: 'complete',\n",
              "    }\n",
              "  };\n",
              "}\n",
              "\n",
              "scope.google = scope.google || {};\n",
              "scope.google.colab = scope.google.colab || {};\n",
              "scope.google.colab._files = {\n",
              "  _uploadFiles,\n",
              "  _uploadFilesContinue,\n",
              "};\n",
              "})(self);\n",
              "</script> "
            ]
          },
          "metadata": {}
        },
        {
          "output_type": "stream",
          "name": "stdout",
          "text": [
            "Saving bankruptcy-prevention.csv to bankruptcy-prevention.csv\n"
          ]
        }
      ]
    },
    {
      "cell_type": "code",
      "source": [
        "bankrupt=pd.read_csv('bankruptcy-prevention.csv',sep=';')\n",
        "bankrupt"
      ],
      "metadata": {
        "colab": {
          "base_uri": "https://localhost:8080/",
          "height": 423
        },
        "id": "XgHhrbeSbEaH",
        "outputId": "a6d0901a-7cdf-4e1c-caf5-51a0c443192e"
      },
      "execution_count": 3,
      "outputs": [
        {
          "output_type": "execute_result",
          "data": {
            "text/plain": [
              "     industrial_risk   management_risk   financial_flexibility   credibility  \\\n",
              "0                0.5               1.0                     0.0           0.0   \n",
              "1                0.0               1.0                     0.0           0.0   \n",
              "2                1.0               0.0                     0.0           0.0   \n",
              "3                0.5               0.0                     0.0           0.5   \n",
              "4                1.0               1.0                     0.0           0.0   \n",
              "..               ...               ...                     ...           ...   \n",
              "245              0.0               1.0                     1.0           1.0   \n",
              "246              1.0               1.0                     0.5           1.0   \n",
              "247              0.0               1.0                     1.0           0.5   \n",
              "248              1.0               0.0                     0.5           1.0   \n",
              "249              1.0               0.0                     0.5           0.5   \n",
              "\n",
              "      competitiveness   operating_risk           class  \n",
              "0                 0.0              0.5      bankruptcy  \n",
              "1                 0.0              1.0      bankruptcy  \n",
              "2                 0.0              1.0      bankruptcy  \n",
              "3                 0.0              1.0      bankruptcy  \n",
              "4                 0.0              1.0      bankruptcy  \n",
              "..                ...              ...             ...  \n",
              "245               1.0              1.0  non-bankruptcy  \n",
              "246               1.0              0.0  non-bankruptcy  \n",
              "247               0.5              0.0  non-bankruptcy  \n",
              "248               0.5              0.0  non-bankruptcy  \n",
              "249               1.0              1.0  non-bankruptcy  \n",
              "\n",
              "[250 rows x 7 columns]"
            ],
            "text/html": [
              "\n",
              "  <div id=\"df-a542d89c-ca59-4056-acfc-81b7e65a7a60\">\n",
              "    <div class=\"colab-df-container\">\n",
              "      <div>\n",
              "<style scoped>\n",
              "    .dataframe tbody tr th:only-of-type {\n",
              "        vertical-align: middle;\n",
              "    }\n",
              "\n",
              "    .dataframe tbody tr th {\n",
              "        vertical-align: top;\n",
              "    }\n",
              "\n",
              "    .dataframe thead th {\n",
              "        text-align: right;\n",
              "    }\n",
              "</style>\n",
              "<table border=\"1\" class=\"dataframe\">\n",
              "  <thead>\n",
              "    <tr style=\"text-align: right;\">\n",
              "      <th></th>\n",
              "      <th>industrial_risk</th>\n",
              "      <th>management_risk</th>\n",
              "      <th>financial_flexibility</th>\n",
              "      <th>credibility</th>\n",
              "      <th>competitiveness</th>\n",
              "      <th>operating_risk</th>\n",
              "      <th>class</th>\n",
              "    </tr>\n",
              "  </thead>\n",
              "  <tbody>\n",
              "    <tr>\n",
              "      <th>0</th>\n",
              "      <td>0.5</td>\n",
              "      <td>1.0</td>\n",
              "      <td>0.0</td>\n",
              "      <td>0.0</td>\n",
              "      <td>0.0</td>\n",
              "      <td>0.5</td>\n",
              "      <td>bankruptcy</td>\n",
              "    </tr>\n",
              "    <tr>\n",
              "      <th>1</th>\n",
              "      <td>0.0</td>\n",
              "      <td>1.0</td>\n",
              "      <td>0.0</td>\n",
              "      <td>0.0</td>\n",
              "      <td>0.0</td>\n",
              "      <td>1.0</td>\n",
              "      <td>bankruptcy</td>\n",
              "    </tr>\n",
              "    <tr>\n",
              "      <th>2</th>\n",
              "      <td>1.0</td>\n",
              "      <td>0.0</td>\n",
              "      <td>0.0</td>\n",
              "      <td>0.0</td>\n",
              "      <td>0.0</td>\n",
              "      <td>1.0</td>\n",
              "      <td>bankruptcy</td>\n",
              "    </tr>\n",
              "    <tr>\n",
              "      <th>3</th>\n",
              "      <td>0.5</td>\n",
              "      <td>0.0</td>\n",
              "      <td>0.0</td>\n",
              "      <td>0.5</td>\n",
              "      <td>0.0</td>\n",
              "      <td>1.0</td>\n",
              "      <td>bankruptcy</td>\n",
              "    </tr>\n",
              "    <tr>\n",
              "      <th>4</th>\n",
              "      <td>1.0</td>\n",
              "      <td>1.0</td>\n",
              "      <td>0.0</td>\n",
              "      <td>0.0</td>\n",
              "      <td>0.0</td>\n",
              "      <td>1.0</td>\n",
              "      <td>bankruptcy</td>\n",
              "    </tr>\n",
              "    <tr>\n",
              "      <th>...</th>\n",
              "      <td>...</td>\n",
              "      <td>...</td>\n",
              "      <td>...</td>\n",
              "      <td>...</td>\n",
              "      <td>...</td>\n",
              "      <td>...</td>\n",
              "      <td>...</td>\n",
              "    </tr>\n",
              "    <tr>\n",
              "      <th>245</th>\n",
              "      <td>0.0</td>\n",
              "      <td>1.0</td>\n",
              "      <td>1.0</td>\n",
              "      <td>1.0</td>\n",
              "      <td>1.0</td>\n",
              "      <td>1.0</td>\n",
              "      <td>non-bankruptcy</td>\n",
              "    </tr>\n",
              "    <tr>\n",
              "      <th>246</th>\n",
              "      <td>1.0</td>\n",
              "      <td>1.0</td>\n",
              "      <td>0.5</td>\n",
              "      <td>1.0</td>\n",
              "      <td>1.0</td>\n",
              "      <td>0.0</td>\n",
              "      <td>non-bankruptcy</td>\n",
              "    </tr>\n",
              "    <tr>\n",
              "      <th>247</th>\n",
              "      <td>0.0</td>\n",
              "      <td>1.0</td>\n",
              "      <td>1.0</td>\n",
              "      <td>0.5</td>\n",
              "      <td>0.5</td>\n",
              "      <td>0.0</td>\n",
              "      <td>non-bankruptcy</td>\n",
              "    </tr>\n",
              "    <tr>\n",
              "      <th>248</th>\n",
              "      <td>1.0</td>\n",
              "      <td>0.0</td>\n",
              "      <td>0.5</td>\n",
              "      <td>1.0</td>\n",
              "      <td>0.5</td>\n",
              "      <td>0.0</td>\n",
              "      <td>non-bankruptcy</td>\n",
              "    </tr>\n",
              "    <tr>\n",
              "      <th>249</th>\n",
              "      <td>1.0</td>\n",
              "      <td>0.0</td>\n",
              "      <td>0.5</td>\n",
              "      <td>0.5</td>\n",
              "      <td>1.0</td>\n",
              "      <td>1.0</td>\n",
              "      <td>non-bankruptcy</td>\n",
              "    </tr>\n",
              "  </tbody>\n",
              "</table>\n",
              "<p>250 rows × 7 columns</p>\n",
              "</div>\n",
              "      <button class=\"colab-df-convert\" onclick=\"convertToInteractive('df-a542d89c-ca59-4056-acfc-81b7e65a7a60')\"\n",
              "              title=\"Convert this dataframe to an interactive table.\"\n",
              "              style=\"display:none;\">\n",
              "        \n",
              "  <svg xmlns=\"http://www.w3.org/2000/svg\" height=\"24px\"viewBox=\"0 0 24 24\"\n",
              "       width=\"24px\">\n",
              "    <path d=\"M0 0h24v24H0V0z\" fill=\"none\"/>\n",
              "    <path d=\"M18.56 5.44l.94 2.06.94-2.06 2.06-.94-2.06-.94-.94-2.06-.94 2.06-2.06.94zm-11 1L8.5 8.5l.94-2.06 2.06-.94-2.06-.94L8.5 2.5l-.94 2.06-2.06.94zm10 10l.94 2.06.94-2.06 2.06-.94-2.06-.94-.94-2.06-.94 2.06-2.06.94z\"/><path d=\"M17.41 7.96l-1.37-1.37c-.4-.4-.92-.59-1.43-.59-.52 0-1.04.2-1.43.59L10.3 9.45l-7.72 7.72c-.78.78-.78 2.05 0 2.83L4 21.41c.39.39.9.59 1.41.59.51 0 1.02-.2 1.41-.59l7.78-7.78 2.81-2.81c.8-.78.8-2.07 0-2.86zM5.41 20L4 18.59l7.72-7.72 1.47 1.35L5.41 20z\"/>\n",
              "  </svg>\n",
              "      </button>\n",
              "      \n",
              "  <style>\n",
              "    .colab-df-container {\n",
              "      display:flex;\n",
              "      flex-wrap:wrap;\n",
              "      gap: 12px;\n",
              "    }\n",
              "\n",
              "    .colab-df-convert {\n",
              "      background-color: #E8F0FE;\n",
              "      border: none;\n",
              "      border-radius: 50%;\n",
              "      cursor: pointer;\n",
              "      display: none;\n",
              "      fill: #1967D2;\n",
              "      height: 32px;\n",
              "      padding: 0 0 0 0;\n",
              "      width: 32px;\n",
              "    }\n",
              "\n",
              "    .colab-df-convert:hover {\n",
              "      background-color: #E2EBFA;\n",
              "      box-shadow: 0px 1px 2px rgba(60, 64, 67, 0.3), 0px 1px 3px 1px rgba(60, 64, 67, 0.15);\n",
              "      fill: #174EA6;\n",
              "    }\n",
              "\n",
              "    [theme=dark] .colab-df-convert {\n",
              "      background-color: #3B4455;\n",
              "      fill: #D2E3FC;\n",
              "    }\n",
              "\n",
              "    [theme=dark] .colab-df-convert:hover {\n",
              "      background-color: #434B5C;\n",
              "      box-shadow: 0px 1px 3px 1px rgba(0, 0, 0, 0.15);\n",
              "      filter: drop-shadow(0px 1px 2px rgba(0, 0, 0, 0.3));\n",
              "      fill: #FFFFFF;\n",
              "    }\n",
              "  </style>\n",
              "\n",
              "      <script>\n",
              "        const buttonEl =\n",
              "          document.querySelector('#df-a542d89c-ca59-4056-acfc-81b7e65a7a60 button.colab-df-convert');\n",
              "        buttonEl.style.display =\n",
              "          google.colab.kernel.accessAllowed ? 'block' : 'none';\n",
              "\n",
              "        async function convertToInteractive(key) {\n",
              "          const element = document.querySelector('#df-a542d89c-ca59-4056-acfc-81b7e65a7a60');\n",
              "          const dataTable =\n",
              "            await google.colab.kernel.invokeFunction('convertToInteractive',\n",
              "                                                     [key], {});\n",
              "          if (!dataTable) return;\n",
              "\n",
              "          const docLinkHtml = 'Like what you see? Visit the ' +\n",
              "            '<a target=\"_blank\" href=https://colab.research.google.com/notebooks/data_table.ipynb>data table notebook</a>'\n",
              "            + ' to learn more about interactive tables.';\n",
              "          element.innerHTML = '';\n",
              "          dataTable['output_type'] = 'display_data';\n",
              "          await google.colab.output.renderOutput(dataTable, element);\n",
              "          const docLink = document.createElement('div');\n",
              "          docLink.innerHTML = docLinkHtml;\n",
              "          element.appendChild(docLink);\n",
              "        }\n",
              "      </script>\n",
              "    </div>\n",
              "  </div>\n",
              "  "
            ]
          },
          "metadata": {},
          "execution_count": 3
        }
      ]
    },
    {
      "cell_type": "code",
      "source": [
        "bankrupt.info()"
      ],
      "metadata": {
        "colab": {
          "base_uri": "https://localhost:8080/"
        },
        "id": "F4wpRJHSfLWL",
        "outputId": "d7eb76f6-8dce-4225-fac5-eb5ccbf52f08"
      },
      "execution_count": 4,
      "outputs": [
        {
          "output_type": "stream",
          "name": "stdout",
          "text": [
            "<class 'pandas.core.frame.DataFrame'>\n",
            "RangeIndex: 250 entries, 0 to 249\n",
            "Data columns (total 7 columns):\n",
            " #   Column                  Non-Null Count  Dtype  \n",
            "---  ------                  --------------  -----  \n",
            " 0   industrial_risk         250 non-null    float64\n",
            " 1    management_risk        250 non-null    float64\n",
            " 2    financial_flexibility  250 non-null    float64\n",
            " 3    credibility            250 non-null    float64\n",
            " 4    competitiveness        250 non-null    float64\n",
            " 5    operating_risk         250 non-null    float64\n",
            " 6    class                  250 non-null    object \n",
            "dtypes: float64(6), object(1)\n",
            "memory usage: 13.8+ KB\n"
          ]
        }
      ]
    },
    {
      "cell_type": "code",
      "source": [
        "bankrupt.describe()"
      ],
      "metadata": {
        "colab": {
          "base_uri": "https://localhost:8080/",
          "height": 300
        },
        "id": "BXBG9dpObE1q",
        "outputId": "4fbfbd36-2dd1-4a30-8f32-15191b10eb89"
      },
      "execution_count": 5,
      "outputs": [
        {
          "output_type": "execute_result",
          "data": {
            "text/plain": [
              "       industrial_risk   management_risk   financial_flexibility  \\\n",
              "count       250.000000        250.000000              250.000000   \n",
              "mean          0.518000          0.614000                0.376000   \n",
              "std           0.411526          0.410705                0.401583   \n",
              "min           0.000000          0.000000                0.000000   \n",
              "25%           0.000000          0.500000                0.000000   \n",
              "50%           0.500000          0.500000                0.500000   \n",
              "75%           1.000000          1.000000                0.500000   \n",
              "max           1.000000          1.000000                1.000000   \n",
              "\n",
              "        credibility   competitiveness   operating_risk  \n",
              "count    250.000000        250.000000       250.000000  \n",
              "mean       0.470000          0.476000         0.570000  \n",
              "std        0.415682          0.440682         0.434575  \n",
              "min        0.000000          0.000000         0.000000  \n",
              "25%        0.000000          0.000000         0.000000  \n",
              "50%        0.500000          0.500000         0.500000  \n",
              "75%        1.000000          1.000000         1.000000  \n",
              "max        1.000000          1.000000         1.000000  "
            ],
            "text/html": [
              "\n",
              "  <div id=\"df-13b06466-9957-481b-adfa-6bff191d47d7\">\n",
              "    <div class=\"colab-df-container\">\n",
              "      <div>\n",
              "<style scoped>\n",
              "    .dataframe tbody tr th:only-of-type {\n",
              "        vertical-align: middle;\n",
              "    }\n",
              "\n",
              "    .dataframe tbody tr th {\n",
              "        vertical-align: top;\n",
              "    }\n",
              "\n",
              "    .dataframe thead th {\n",
              "        text-align: right;\n",
              "    }\n",
              "</style>\n",
              "<table border=\"1\" class=\"dataframe\">\n",
              "  <thead>\n",
              "    <tr style=\"text-align: right;\">\n",
              "      <th></th>\n",
              "      <th>industrial_risk</th>\n",
              "      <th>management_risk</th>\n",
              "      <th>financial_flexibility</th>\n",
              "      <th>credibility</th>\n",
              "      <th>competitiveness</th>\n",
              "      <th>operating_risk</th>\n",
              "    </tr>\n",
              "  </thead>\n",
              "  <tbody>\n",
              "    <tr>\n",
              "      <th>count</th>\n",
              "      <td>250.000000</td>\n",
              "      <td>250.000000</td>\n",
              "      <td>250.000000</td>\n",
              "      <td>250.000000</td>\n",
              "      <td>250.000000</td>\n",
              "      <td>250.000000</td>\n",
              "    </tr>\n",
              "    <tr>\n",
              "      <th>mean</th>\n",
              "      <td>0.518000</td>\n",
              "      <td>0.614000</td>\n",
              "      <td>0.376000</td>\n",
              "      <td>0.470000</td>\n",
              "      <td>0.476000</td>\n",
              "      <td>0.570000</td>\n",
              "    </tr>\n",
              "    <tr>\n",
              "      <th>std</th>\n",
              "      <td>0.411526</td>\n",
              "      <td>0.410705</td>\n",
              "      <td>0.401583</td>\n",
              "      <td>0.415682</td>\n",
              "      <td>0.440682</td>\n",
              "      <td>0.434575</td>\n",
              "    </tr>\n",
              "    <tr>\n",
              "      <th>min</th>\n",
              "      <td>0.000000</td>\n",
              "      <td>0.000000</td>\n",
              "      <td>0.000000</td>\n",
              "      <td>0.000000</td>\n",
              "      <td>0.000000</td>\n",
              "      <td>0.000000</td>\n",
              "    </tr>\n",
              "    <tr>\n",
              "      <th>25%</th>\n",
              "      <td>0.000000</td>\n",
              "      <td>0.500000</td>\n",
              "      <td>0.000000</td>\n",
              "      <td>0.000000</td>\n",
              "      <td>0.000000</td>\n",
              "      <td>0.000000</td>\n",
              "    </tr>\n",
              "    <tr>\n",
              "      <th>50%</th>\n",
              "      <td>0.500000</td>\n",
              "      <td>0.500000</td>\n",
              "      <td>0.500000</td>\n",
              "      <td>0.500000</td>\n",
              "      <td>0.500000</td>\n",
              "      <td>0.500000</td>\n",
              "    </tr>\n",
              "    <tr>\n",
              "      <th>75%</th>\n",
              "      <td>1.000000</td>\n",
              "      <td>1.000000</td>\n",
              "      <td>0.500000</td>\n",
              "      <td>1.000000</td>\n",
              "      <td>1.000000</td>\n",
              "      <td>1.000000</td>\n",
              "    </tr>\n",
              "    <tr>\n",
              "      <th>max</th>\n",
              "      <td>1.000000</td>\n",
              "      <td>1.000000</td>\n",
              "      <td>1.000000</td>\n",
              "      <td>1.000000</td>\n",
              "      <td>1.000000</td>\n",
              "      <td>1.000000</td>\n",
              "    </tr>\n",
              "  </tbody>\n",
              "</table>\n",
              "</div>\n",
              "      <button class=\"colab-df-convert\" onclick=\"convertToInteractive('df-13b06466-9957-481b-adfa-6bff191d47d7')\"\n",
              "              title=\"Convert this dataframe to an interactive table.\"\n",
              "              style=\"display:none;\">\n",
              "        \n",
              "  <svg xmlns=\"http://www.w3.org/2000/svg\" height=\"24px\"viewBox=\"0 0 24 24\"\n",
              "       width=\"24px\">\n",
              "    <path d=\"M0 0h24v24H0V0z\" fill=\"none\"/>\n",
              "    <path d=\"M18.56 5.44l.94 2.06.94-2.06 2.06-.94-2.06-.94-.94-2.06-.94 2.06-2.06.94zm-11 1L8.5 8.5l.94-2.06 2.06-.94-2.06-.94L8.5 2.5l-.94 2.06-2.06.94zm10 10l.94 2.06.94-2.06 2.06-.94-2.06-.94-.94-2.06-.94 2.06-2.06.94z\"/><path d=\"M17.41 7.96l-1.37-1.37c-.4-.4-.92-.59-1.43-.59-.52 0-1.04.2-1.43.59L10.3 9.45l-7.72 7.72c-.78.78-.78 2.05 0 2.83L4 21.41c.39.39.9.59 1.41.59.51 0 1.02-.2 1.41-.59l7.78-7.78 2.81-2.81c.8-.78.8-2.07 0-2.86zM5.41 20L4 18.59l7.72-7.72 1.47 1.35L5.41 20z\"/>\n",
              "  </svg>\n",
              "      </button>\n",
              "      \n",
              "  <style>\n",
              "    .colab-df-container {\n",
              "      display:flex;\n",
              "      flex-wrap:wrap;\n",
              "      gap: 12px;\n",
              "    }\n",
              "\n",
              "    .colab-df-convert {\n",
              "      background-color: #E8F0FE;\n",
              "      border: none;\n",
              "      border-radius: 50%;\n",
              "      cursor: pointer;\n",
              "      display: none;\n",
              "      fill: #1967D2;\n",
              "      height: 32px;\n",
              "      padding: 0 0 0 0;\n",
              "      width: 32px;\n",
              "    }\n",
              "\n",
              "    .colab-df-convert:hover {\n",
              "      background-color: #E2EBFA;\n",
              "      box-shadow: 0px 1px 2px rgba(60, 64, 67, 0.3), 0px 1px 3px 1px rgba(60, 64, 67, 0.15);\n",
              "      fill: #174EA6;\n",
              "    }\n",
              "\n",
              "    [theme=dark] .colab-df-convert {\n",
              "      background-color: #3B4455;\n",
              "      fill: #D2E3FC;\n",
              "    }\n",
              "\n",
              "    [theme=dark] .colab-df-convert:hover {\n",
              "      background-color: #434B5C;\n",
              "      box-shadow: 0px 1px 3px 1px rgba(0, 0, 0, 0.15);\n",
              "      filter: drop-shadow(0px 1px 2px rgba(0, 0, 0, 0.3));\n",
              "      fill: #FFFFFF;\n",
              "    }\n",
              "  </style>\n",
              "\n",
              "      <script>\n",
              "        const buttonEl =\n",
              "          document.querySelector('#df-13b06466-9957-481b-adfa-6bff191d47d7 button.colab-df-convert');\n",
              "        buttonEl.style.display =\n",
              "          google.colab.kernel.accessAllowed ? 'block' : 'none';\n",
              "\n",
              "        async function convertToInteractive(key) {\n",
              "          const element = document.querySelector('#df-13b06466-9957-481b-adfa-6bff191d47d7');\n",
              "          const dataTable =\n",
              "            await google.colab.kernel.invokeFunction('convertToInteractive',\n",
              "                                                     [key], {});\n",
              "          if (!dataTable) return;\n",
              "\n",
              "          const docLinkHtml = 'Like what you see? Visit the ' +\n",
              "            '<a target=\"_blank\" href=https://colab.research.google.com/notebooks/data_table.ipynb>data table notebook</a>'\n",
              "            + ' to learn more about interactive tables.';\n",
              "          element.innerHTML = '';\n",
              "          dataTable['output_type'] = 'display_data';\n",
              "          await google.colab.output.renderOutput(dataTable, element);\n",
              "          const docLink = document.createElement('div');\n",
              "          docLink.innerHTML = docLinkHtml;\n",
              "          element.appendChild(docLink);\n",
              "        }\n",
              "      </script>\n",
              "    </div>\n",
              "  </div>\n",
              "  "
            ]
          },
          "metadata": {},
          "execution_count": 5
        }
      ]
    },
    {
      "cell_type": "code",
      "source": [
        "print(bankrupt.info())\n",
        "print(bankrupt.shape)"
      ],
      "metadata": {
        "colab": {
          "base_uri": "https://localhost:8080/"
        },
        "id": "UlvDu6Qfkf8a",
        "outputId": "6cf67694-5581-441c-b1e9-134d8caf8ea3"
      },
      "execution_count": 6,
      "outputs": [
        {
          "output_type": "stream",
          "name": "stdout",
          "text": [
            "<class 'pandas.core.frame.DataFrame'>\n",
            "RangeIndex: 250 entries, 0 to 249\n",
            "Data columns (total 7 columns):\n",
            " #   Column                  Non-Null Count  Dtype  \n",
            "---  ------                  --------------  -----  \n",
            " 0   industrial_risk         250 non-null    float64\n",
            " 1    management_risk        250 non-null    float64\n",
            " 2    financial_flexibility  250 non-null    float64\n",
            " 3    credibility            250 non-null    float64\n",
            " 4    competitiveness        250 non-null    float64\n",
            " 5    operating_risk         250 non-null    float64\n",
            " 6    class                  250 non-null    object \n",
            "dtypes: float64(6), object(1)\n",
            "memory usage: 13.8+ KB\n",
            "None\n",
            "(250, 7)\n"
          ]
        }
      ]
    },
    {
      "cell_type": "code",
      "source": [
        "bankrupt.isnull().sum()"
      ],
      "metadata": {
        "colab": {
          "base_uri": "https://localhost:8080/"
        },
        "id": "Puz-9p6pkf_p",
        "outputId": "6320f376-46e7-4723-a8f9-97206c73d402"
      },
      "execution_count": 7,
      "outputs": [
        {
          "output_type": "execute_result",
          "data": {
            "text/plain": [
              "industrial_risk           0\n",
              " management_risk          0\n",
              " financial_flexibility    0\n",
              " credibility              0\n",
              " competitiveness          0\n",
              " operating_risk           0\n",
              " class                    0\n",
              "dtype: int64"
            ]
          },
          "metadata": {},
          "execution_count": 7
        }
      ]
    },
    {
      "cell_type": "code",
      "source": [
        "bankrupt_new = bankrupt.iloc[:,:]\n",
        "bankrupt_new"
      ],
      "metadata": {
        "colab": {
          "base_uri": "https://localhost:8080/",
          "height": 423
        },
        "id": "Zp5SuIeLkgDY",
        "outputId": "a722529d-3118-4bf8-bc7a-2da4101f5a45"
      },
      "execution_count": 8,
      "outputs": [
        {
          "output_type": "execute_result",
          "data": {
            "text/plain": [
              "     industrial_risk   management_risk   financial_flexibility   credibility  \\\n",
              "0                0.5               1.0                     0.0           0.0   \n",
              "1                0.0               1.0                     0.0           0.0   \n",
              "2                1.0               0.0                     0.0           0.0   \n",
              "3                0.5               0.0                     0.0           0.5   \n",
              "4                1.0               1.0                     0.0           0.0   \n",
              "..               ...               ...                     ...           ...   \n",
              "245              0.0               1.0                     1.0           1.0   \n",
              "246              1.0               1.0                     0.5           1.0   \n",
              "247              0.0               1.0                     1.0           0.5   \n",
              "248              1.0               0.0                     0.5           1.0   \n",
              "249              1.0               0.0                     0.5           0.5   \n",
              "\n",
              "      competitiveness   operating_risk           class  \n",
              "0                 0.0              0.5      bankruptcy  \n",
              "1                 0.0              1.0      bankruptcy  \n",
              "2                 0.0              1.0      bankruptcy  \n",
              "3                 0.0              1.0      bankruptcy  \n",
              "4                 0.0              1.0      bankruptcy  \n",
              "..                ...              ...             ...  \n",
              "245               1.0              1.0  non-bankruptcy  \n",
              "246               1.0              0.0  non-bankruptcy  \n",
              "247               0.5              0.0  non-bankruptcy  \n",
              "248               0.5              0.0  non-bankruptcy  \n",
              "249               1.0              1.0  non-bankruptcy  \n",
              "\n",
              "[250 rows x 7 columns]"
            ],
            "text/html": [
              "\n",
              "  <div id=\"df-f59f2031-dbb0-4d40-88f3-aed338e68b4b\">\n",
              "    <div class=\"colab-df-container\">\n",
              "      <div>\n",
              "<style scoped>\n",
              "    .dataframe tbody tr th:only-of-type {\n",
              "        vertical-align: middle;\n",
              "    }\n",
              "\n",
              "    .dataframe tbody tr th {\n",
              "        vertical-align: top;\n",
              "    }\n",
              "\n",
              "    .dataframe thead th {\n",
              "        text-align: right;\n",
              "    }\n",
              "</style>\n",
              "<table border=\"1\" class=\"dataframe\">\n",
              "  <thead>\n",
              "    <tr style=\"text-align: right;\">\n",
              "      <th></th>\n",
              "      <th>industrial_risk</th>\n",
              "      <th>management_risk</th>\n",
              "      <th>financial_flexibility</th>\n",
              "      <th>credibility</th>\n",
              "      <th>competitiveness</th>\n",
              "      <th>operating_risk</th>\n",
              "      <th>class</th>\n",
              "    </tr>\n",
              "  </thead>\n",
              "  <tbody>\n",
              "    <tr>\n",
              "      <th>0</th>\n",
              "      <td>0.5</td>\n",
              "      <td>1.0</td>\n",
              "      <td>0.0</td>\n",
              "      <td>0.0</td>\n",
              "      <td>0.0</td>\n",
              "      <td>0.5</td>\n",
              "      <td>bankruptcy</td>\n",
              "    </tr>\n",
              "    <tr>\n",
              "      <th>1</th>\n",
              "      <td>0.0</td>\n",
              "      <td>1.0</td>\n",
              "      <td>0.0</td>\n",
              "      <td>0.0</td>\n",
              "      <td>0.0</td>\n",
              "      <td>1.0</td>\n",
              "      <td>bankruptcy</td>\n",
              "    </tr>\n",
              "    <tr>\n",
              "      <th>2</th>\n",
              "      <td>1.0</td>\n",
              "      <td>0.0</td>\n",
              "      <td>0.0</td>\n",
              "      <td>0.0</td>\n",
              "      <td>0.0</td>\n",
              "      <td>1.0</td>\n",
              "      <td>bankruptcy</td>\n",
              "    </tr>\n",
              "    <tr>\n",
              "      <th>3</th>\n",
              "      <td>0.5</td>\n",
              "      <td>0.0</td>\n",
              "      <td>0.0</td>\n",
              "      <td>0.5</td>\n",
              "      <td>0.0</td>\n",
              "      <td>1.0</td>\n",
              "      <td>bankruptcy</td>\n",
              "    </tr>\n",
              "    <tr>\n",
              "      <th>4</th>\n",
              "      <td>1.0</td>\n",
              "      <td>1.0</td>\n",
              "      <td>0.0</td>\n",
              "      <td>0.0</td>\n",
              "      <td>0.0</td>\n",
              "      <td>1.0</td>\n",
              "      <td>bankruptcy</td>\n",
              "    </tr>\n",
              "    <tr>\n",
              "      <th>...</th>\n",
              "      <td>...</td>\n",
              "      <td>...</td>\n",
              "      <td>...</td>\n",
              "      <td>...</td>\n",
              "      <td>...</td>\n",
              "      <td>...</td>\n",
              "      <td>...</td>\n",
              "    </tr>\n",
              "    <tr>\n",
              "      <th>245</th>\n",
              "      <td>0.0</td>\n",
              "      <td>1.0</td>\n",
              "      <td>1.0</td>\n",
              "      <td>1.0</td>\n",
              "      <td>1.0</td>\n",
              "      <td>1.0</td>\n",
              "      <td>non-bankruptcy</td>\n",
              "    </tr>\n",
              "    <tr>\n",
              "      <th>246</th>\n",
              "      <td>1.0</td>\n",
              "      <td>1.0</td>\n",
              "      <td>0.5</td>\n",
              "      <td>1.0</td>\n",
              "      <td>1.0</td>\n",
              "      <td>0.0</td>\n",
              "      <td>non-bankruptcy</td>\n",
              "    </tr>\n",
              "    <tr>\n",
              "      <th>247</th>\n",
              "      <td>0.0</td>\n",
              "      <td>1.0</td>\n",
              "      <td>1.0</td>\n",
              "      <td>0.5</td>\n",
              "      <td>0.5</td>\n",
              "      <td>0.0</td>\n",
              "      <td>non-bankruptcy</td>\n",
              "    </tr>\n",
              "    <tr>\n",
              "      <th>248</th>\n",
              "      <td>1.0</td>\n",
              "      <td>0.0</td>\n",
              "      <td>0.5</td>\n",
              "      <td>1.0</td>\n",
              "      <td>0.5</td>\n",
              "      <td>0.0</td>\n",
              "      <td>non-bankruptcy</td>\n",
              "    </tr>\n",
              "    <tr>\n",
              "      <th>249</th>\n",
              "      <td>1.0</td>\n",
              "      <td>0.0</td>\n",
              "      <td>0.5</td>\n",
              "      <td>0.5</td>\n",
              "      <td>1.0</td>\n",
              "      <td>1.0</td>\n",
              "      <td>non-bankruptcy</td>\n",
              "    </tr>\n",
              "  </tbody>\n",
              "</table>\n",
              "<p>250 rows × 7 columns</p>\n",
              "</div>\n",
              "      <button class=\"colab-df-convert\" onclick=\"convertToInteractive('df-f59f2031-dbb0-4d40-88f3-aed338e68b4b')\"\n",
              "              title=\"Convert this dataframe to an interactive table.\"\n",
              "              style=\"display:none;\">\n",
              "        \n",
              "  <svg xmlns=\"http://www.w3.org/2000/svg\" height=\"24px\"viewBox=\"0 0 24 24\"\n",
              "       width=\"24px\">\n",
              "    <path d=\"M0 0h24v24H0V0z\" fill=\"none\"/>\n",
              "    <path d=\"M18.56 5.44l.94 2.06.94-2.06 2.06-.94-2.06-.94-.94-2.06-.94 2.06-2.06.94zm-11 1L8.5 8.5l.94-2.06 2.06-.94-2.06-.94L8.5 2.5l-.94 2.06-2.06.94zm10 10l.94 2.06.94-2.06 2.06-.94-2.06-.94-.94-2.06-.94 2.06-2.06.94z\"/><path d=\"M17.41 7.96l-1.37-1.37c-.4-.4-.92-.59-1.43-.59-.52 0-1.04.2-1.43.59L10.3 9.45l-7.72 7.72c-.78.78-.78 2.05 0 2.83L4 21.41c.39.39.9.59 1.41.59.51 0 1.02-.2 1.41-.59l7.78-7.78 2.81-2.81c.8-.78.8-2.07 0-2.86zM5.41 20L4 18.59l7.72-7.72 1.47 1.35L5.41 20z\"/>\n",
              "  </svg>\n",
              "      </button>\n",
              "      \n",
              "  <style>\n",
              "    .colab-df-container {\n",
              "      display:flex;\n",
              "      flex-wrap:wrap;\n",
              "      gap: 12px;\n",
              "    }\n",
              "\n",
              "    .colab-df-convert {\n",
              "      background-color: #E8F0FE;\n",
              "      border: none;\n",
              "      border-radius: 50%;\n",
              "      cursor: pointer;\n",
              "      display: none;\n",
              "      fill: #1967D2;\n",
              "      height: 32px;\n",
              "      padding: 0 0 0 0;\n",
              "      width: 32px;\n",
              "    }\n",
              "\n",
              "    .colab-df-convert:hover {\n",
              "      background-color: #E2EBFA;\n",
              "      box-shadow: 0px 1px 2px rgba(60, 64, 67, 0.3), 0px 1px 3px 1px rgba(60, 64, 67, 0.15);\n",
              "      fill: #174EA6;\n",
              "    }\n",
              "\n",
              "    [theme=dark] .colab-df-convert {\n",
              "      background-color: #3B4455;\n",
              "      fill: #D2E3FC;\n",
              "    }\n",
              "\n",
              "    [theme=dark] .colab-df-convert:hover {\n",
              "      background-color: #434B5C;\n",
              "      box-shadow: 0px 1px 3px 1px rgba(0, 0, 0, 0.15);\n",
              "      filter: drop-shadow(0px 1px 2px rgba(0, 0, 0, 0.3));\n",
              "      fill: #FFFFFF;\n",
              "    }\n",
              "  </style>\n",
              "\n",
              "      <script>\n",
              "        const buttonEl =\n",
              "          document.querySelector('#df-f59f2031-dbb0-4d40-88f3-aed338e68b4b button.colab-df-convert');\n",
              "        buttonEl.style.display =\n",
              "          google.colab.kernel.accessAllowed ? 'block' : 'none';\n",
              "\n",
              "        async function convertToInteractive(key) {\n",
              "          const element = document.querySelector('#df-f59f2031-dbb0-4d40-88f3-aed338e68b4b');\n",
              "          const dataTable =\n",
              "            await google.colab.kernel.invokeFunction('convertToInteractive',\n",
              "                                                     [key], {});\n",
              "          if (!dataTable) return;\n",
              "\n",
              "          const docLinkHtml = 'Like what you see? Visit the ' +\n",
              "            '<a target=\"_blank\" href=https://colab.research.google.com/notebooks/data_table.ipynb>data table notebook</a>'\n",
              "            + ' to learn more about interactive tables.';\n",
              "          element.innerHTML = '';\n",
              "          dataTable['output_type'] = 'display_data';\n",
              "          await google.colab.output.renderOutput(dataTable, element);\n",
              "          const docLink = document.createElement('div');\n",
              "          docLink.innerHTML = docLinkHtml;\n",
              "          element.appendChild(docLink);\n",
              "        }\n",
              "      </script>\n",
              "    </div>\n",
              "  </div>\n",
              "  "
            ]
          },
          "metadata": {},
          "execution_count": 8
        }
      ]
    },
    {
      "cell_type": "code",
      "source": [
        "bankrupt_new[\"class_yn\"] = 1\n",
        "bankrupt_new"
      ],
      "metadata": {
        "colab": {
          "base_uri": "https://localhost:8080/",
          "height": 423
        },
        "id": "yDrLt6sikgGB",
        "outputId": "12bc9841-c3d6-45a0-f65b-bb2cbcc3f589"
      },
      "execution_count": 9,
      "outputs": [
        {
          "output_type": "execute_result",
          "data": {
            "text/plain": [
              "     industrial_risk   management_risk   financial_flexibility   credibility  \\\n",
              "0                0.5               1.0                     0.0           0.0   \n",
              "1                0.0               1.0                     0.0           0.0   \n",
              "2                1.0               0.0                     0.0           0.0   \n",
              "3                0.5               0.0                     0.0           0.5   \n",
              "4                1.0               1.0                     0.0           0.0   \n",
              "..               ...               ...                     ...           ...   \n",
              "245              0.0               1.0                     1.0           1.0   \n",
              "246              1.0               1.0                     0.5           1.0   \n",
              "247              0.0               1.0                     1.0           0.5   \n",
              "248              1.0               0.0                     0.5           1.0   \n",
              "249              1.0               0.0                     0.5           0.5   \n",
              "\n",
              "      competitiveness   operating_risk           class  class_yn  \n",
              "0                 0.0              0.5      bankruptcy         1  \n",
              "1                 0.0              1.0      bankruptcy         1  \n",
              "2                 0.0              1.0      bankruptcy         1  \n",
              "3                 0.0              1.0      bankruptcy         1  \n",
              "4                 0.0              1.0      bankruptcy         1  \n",
              "..                ...              ...             ...       ...  \n",
              "245               1.0              1.0  non-bankruptcy         1  \n",
              "246               1.0              0.0  non-bankruptcy         1  \n",
              "247               0.5              0.0  non-bankruptcy         1  \n",
              "248               0.5              0.0  non-bankruptcy         1  \n",
              "249               1.0              1.0  non-bankruptcy         1  \n",
              "\n",
              "[250 rows x 8 columns]"
            ],
            "text/html": [
              "\n",
              "  <div id=\"df-cdf2755d-6323-48a4-9497-0aa627181654\">\n",
              "    <div class=\"colab-df-container\">\n",
              "      <div>\n",
              "<style scoped>\n",
              "    .dataframe tbody tr th:only-of-type {\n",
              "        vertical-align: middle;\n",
              "    }\n",
              "\n",
              "    .dataframe tbody tr th {\n",
              "        vertical-align: top;\n",
              "    }\n",
              "\n",
              "    .dataframe thead th {\n",
              "        text-align: right;\n",
              "    }\n",
              "</style>\n",
              "<table border=\"1\" class=\"dataframe\">\n",
              "  <thead>\n",
              "    <tr style=\"text-align: right;\">\n",
              "      <th></th>\n",
              "      <th>industrial_risk</th>\n",
              "      <th>management_risk</th>\n",
              "      <th>financial_flexibility</th>\n",
              "      <th>credibility</th>\n",
              "      <th>competitiveness</th>\n",
              "      <th>operating_risk</th>\n",
              "      <th>class</th>\n",
              "      <th>class_yn</th>\n",
              "    </tr>\n",
              "  </thead>\n",
              "  <tbody>\n",
              "    <tr>\n",
              "      <th>0</th>\n",
              "      <td>0.5</td>\n",
              "      <td>1.0</td>\n",
              "      <td>0.0</td>\n",
              "      <td>0.0</td>\n",
              "      <td>0.0</td>\n",
              "      <td>0.5</td>\n",
              "      <td>bankruptcy</td>\n",
              "      <td>1</td>\n",
              "    </tr>\n",
              "    <tr>\n",
              "      <th>1</th>\n",
              "      <td>0.0</td>\n",
              "      <td>1.0</td>\n",
              "      <td>0.0</td>\n",
              "      <td>0.0</td>\n",
              "      <td>0.0</td>\n",
              "      <td>1.0</td>\n",
              "      <td>bankruptcy</td>\n",
              "      <td>1</td>\n",
              "    </tr>\n",
              "    <tr>\n",
              "      <th>2</th>\n",
              "      <td>1.0</td>\n",
              "      <td>0.0</td>\n",
              "      <td>0.0</td>\n",
              "      <td>0.0</td>\n",
              "      <td>0.0</td>\n",
              "      <td>1.0</td>\n",
              "      <td>bankruptcy</td>\n",
              "      <td>1</td>\n",
              "    </tr>\n",
              "    <tr>\n",
              "      <th>3</th>\n",
              "      <td>0.5</td>\n",
              "      <td>0.0</td>\n",
              "      <td>0.0</td>\n",
              "      <td>0.5</td>\n",
              "      <td>0.0</td>\n",
              "      <td>1.0</td>\n",
              "      <td>bankruptcy</td>\n",
              "      <td>1</td>\n",
              "    </tr>\n",
              "    <tr>\n",
              "      <th>4</th>\n",
              "      <td>1.0</td>\n",
              "      <td>1.0</td>\n",
              "      <td>0.0</td>\n",
              "      <td>0.0</td>\n",
              "      <td>0.0</td>\n",
              "      <td>1.0</td>\n",
              "      <td>bankruptcy</td>\n",
              "      <td>1</td>\n",
              "    </tr>\n",
              "    <tr>\n",
              "      <th>...</th>\n",
              "      <td>...</td>\n",
              "      <td>...</td>\n",
              "      <td>...</td>\n",
              "      <td>...</td>\n",
              "      <td>...</td>\n",
              "      <td>...</td>\n",
              "      <td>...</td>\n",
              "      <td>...</td>\n",
              "    </tr>\n",
              "    <tr>\n",
              "      <th>245</th>\n",
              "      <td>0.0</td>\n",
              "      <td>1.0</td>\n",
              "      <td>1.0</td>\n",
              "      <td>1.0</td>\n",
              "      <td>1.0</td>\n",
              "      <td>1.0</td>\n",
              "      <td>non-bankruptcy</td>\n",
              "      <td>1</td>\n",
              "    </tr>\n",
              "    <tr>\n",
              "      <th>246</th>\n",
              "      <td>1.0</td>\n",
              "      <td>1.0</td>\n",
              "      <td>0.5</td>\n",
              "      <td>1.0</td>\n",
              "      <td>1.0</td>\n",
              "      <td>0.0</td>\n",
              "      <td>non-bankruptcy</td>\n",
              "      <td>1</td>\n",
              "    </tr>\n",
              "    <tr>\n",
              "      <th>247</th>\n",
              "      <td>0.0</td>\n",
              "      <td>1.0</td>\n",
              "      <td>1.0</td>\n",
              "      <td>0.5</td>\n",
              "      <td>0.5</td>\n",
              "      <td>0.0</td>\n",
              "      <td>non-bankruptcy</td>\n",
              "      <td>1</td>\n",
              "    </tr>\n",
              "    <tr>\n",
              "      <th>248</th>\n",
              "      <td>1.0</td>\n",
              "      <td>0.0</td>\n",
              "      <td>0.5</td>\n",
              "      <td>1.0</td>\n",
              "      <td>0.5</td>\n",
              "      <td>0.0</td>\n",
              "      <td>non-bankruptcy</td>\n",
              "      <td>1</td>\n",
              "    </tr>\n",
              "    <tr>\n",
              "      <th>249</th>\n",
              "      <td>1.0</td>\n",
              "      <td>0.0</td>\n",
              "      <td>0.5</td>\n",
              "      <td>0.5</td>\n",
              "      <td>1.0</td>\n",
              "      <td>1.0</td>\n",
              "      <td>non-bankruptcy</td>\n",
              "      <td>1</td>\n",
              "    </tr>\n",
              "  </tbody>\n",
              "</table>\n",
              "<p>250 rows × 8 columns</p>\n",
              "</div>\n",
              "      <button class=\"colab-df-convert\" onclick=\"convertToInteractive('df-cdf2755d-6323-48a4-9497-0aa627181654')\"\n",
              "              title=\"Convert this dataframe to an interactive table.\"\n",
              "              style=\"display:none;\">\n",
              "        \n",
              "  <svg xmlns=\"http://www.w3.org/2000/svg\" height=\"24px\"viewBox=\"0 0 24 24\"\n",
              "       width=\"24px\">\n",
              "    <path d=\"M0 0h24v24H0V0z\" fill=\"none\"/>\n",
              "    <path d=\"M18.56 5.44l.94 2.06.94-2.06 2.06-.94-2.06-.94-.94-2.06-.94 2.06-2.06.94zm-11 1L8.5 8.5l.94-2.06 2.06-.94-2.06-.94L8.5 2.5l-.94 2.06-2.06.94zm10 10l.94 2.06.94-2.06 2.06-.94-2.06-.94-.94-2.06-.94 2.06-2.06.94z\"/><path d=\"M17.41 7.96l-1.37-1.37c-.4-.4-.92-.59-1.43-.59-.52 0-1.04.2-1.43.59L10.3 9.45l-7.72 7.72c-.78.78-.78 2.05 0 2.83L4 21.41c.39.39.9.59 1.41.59.51 0 1.02-.2 1.41-.59l7.78-7.78 2.81-2.81c.8-.78.8-2.07 0-2.86zM5.41 20L4 18.59l7.72-7.72 1.47 1.35L5.41 20z\"/>\n",
              "  </svg>\n",
              "      </button>\n",
              "      \n",
              "  <style>\n",
              "    .colab-df-container {\n",
              "      display:flex;\n",
              "      flex-wrap:wrap;\n",
              "      gap: 12px;\n",
              "    }\n",
              "\n",
              "    .colab-df-convert {\n",
              "      background-color: #E8F0FE;\n",
              "      border: none;\n",
              "      border-radius: 50%;\n",
              "      cursor: pointer;\n",
              "      display: none;\n",
              "      fill: #1967D2;\n",
              "      height: 32px;\n",
              "      padding: 0 0 0 0;\n",
              "      width: 32px;\n",
              "    }\n",
              "\n",
              "    .colab-df-convert:hover {\n",
              "      background-color: #E2EBFA;\n",
              "      box-shadow: 0px 1px 2px rgba(60, 64, 67, 0.3), 0px 1px 3px 1px rgba(60, 64, 67, 0.15);\n",
              "      fill: #174EA6;\n",
              "    }\n",
              "\n",
              "    [theme=dark] .colab-df-convert {\n",
              "      background-color: #3B4455;\n",
              "      fill: #D2E3FC;\n",
              "    }\n",
              "\n",
              "    [theme=dark] .colab-df-convert:hover {\n",
              "      background-color: #434B5C;\n",
              "      box-shadow: 0px 1px 3px 1px rgba(0, 0, 0, 0.15);\n",
              "      filter: drop-shadow(0px 1px 2px rgba(0, 0, 0, 0.3));\n",
              "      fill: #FFFFFF;\n",
              "    }\n",
              "  </style>\n",
              "\n",
              "      <script>\n",
              "        const buttonEl =\n",
              "          document.querySelector('#df-cdf2755d-6323-48a4-9497-0aa627181654 button.colab-df-convert');\n",
              "        buttonEl.style.display =\n",
              "          google.colab.kernel.accessAllowed ? 'block' : 'none';\n",
              "\n",
              "        async function convertToInteractive(key) {\n",
              "          const element = document.querySelector('#df-cdf2755d-6323-48a4-9497-0aa627181654');\n",
              "          const dataTable =\n",
              "            await google.colab.kernel.invokeFunction('convertToInteractive',\n",
              "                                                     [key], {});\n",
              "          if (!dataTable) return;\n",
              "\n",
              "          const docLinkHtml = 'Like what you see? Visit the ' +\n",
              "            '<a target=\"_blank\" href=https://colab.research.google.com/notebooks/data_table.ipynb>data table notebook</a>'\n",
              "            + ' to learn more about interactive tables.';\n",
              "          element.innerHTML = '';\n",
              "          dataTable['output_type'] = 'display_data';\n",
              "          await google.colab.output.renderOutput(dataTable, element);\n",
              "          const docLink = document.createElement('div');\n",
              "          docLink.innerHTML = docLinkHtml;\n",
              "          element.appendChild(docLink);\n",
              "        }\n",
              "      </script>\n",
              "    </div>\n",
              "  </div>\n",
              "  "
            ]
          },
          "metadata": {},
          "execution_count": 9
        }
      ]
    },
    {
      "cell_type": "markdown",
      "source": [
        "Here we are changing the target variable to bankruptcy=0,non=bankruptcy=1"
      ],
      "metadata": {
        "id": "Vzjh9Lj3ksvf"
      }
    },
    {
      "cell_type": "code",
      "source": [
        "bankrupt_new.loc[bankrupt[' class'] == 'bankruptcy', 'class_yn'] = 0"
      ],
      "metadata": {
        "id": "-Y3dfWAOkgJH"
      },
      "execution_count": 10,
      "outputs": []
    },
    {
      "cell_type": "code",
      "source": [
        "bankrupt_new"
      ],
      "metadata": {
        "colab": {
          "base_uri": "https://localhost:8080/",
          "height": 423
        },
        "id": "T1mbhO3MkgMr",
        "outputId": "d9f97705-2ca7-4cc8-b76d-6762c1c74b94"
      },
      "execution_count": 11,
      "outputs": [
        {
          "output_type": "execute_result",
          "data": {
            "text/plain": [
              "     industrial_risk   management_risk   financial_flexibility   credibility  \\\n",
              "0                0.5               1.0                     0.0           0.0   \n",
              "1                0.0               1.0                     0.0           0.0   \n",
              "2                1.0               0.0                     0.0           0.0   \n",
              "3                0.5               0.0                     0.0           0.5   \n",
              "4                1.0               1.0                     0.0           0.0   \n",
              "..               ...               ...                     ...           ...   \n",
              "245              0.0               1.0                     1.0           1.0   \n",
              "246              1.0               1.0                     0.5           1.0   \n",
              "247              0.0               1.0                     1.0           0.5   \n",
              "248              1.0               0.0                     0.5           1.0   \n",
              "249              1.0               0.0                     0.5           0.5   \n",
              "\n",
              "      competitiveness   operating_risk           class  class_yn  \n",
              "0                 0.0              0.5      bankruptcy         0  \n",
              "1                 0.0              1.0      bankruptcy         0  \n",
              "2                 0.0              1.0      bankruptcy         0  \n",
              "3                 0.0              1.0      bankruptcy         0  \n",
              "4                 0.0              1.0      bankruptcy         0  \n",
              "..                ...              ...             ...       ...  \n",
              "245               1.0              1.0  non-bankruptcy         1  \n",
              "246               1.0              0.0  non-bankruptcy         1  \n",
              "247               0.5              0.0  non-bankruptcy         1  \n",
              "248               0.5              0.0  non-bankruptcy         1  \n",
              "249               1.0              1.0  non-bankruptcy         1  \n",
              "\n",
              "[250 rows x 8 columns]"
            ],
            "text/html": [
              "\n",
              "  <div id=\"df-ba368818-1ebc-40c9-9e7e-1122d88b82de\">\n",
              "    <div class=\"colab-df-container\">\n",
              "      <div>\n",
              "<style scoped>\n",
              "    .dataframe tbody tr th:only-of-type {\n",
              "        vertical-align: middle;\n",
              "    }\n",
              "\n",
              "    .dataframe tbody tr th {\n",
              "        vertical-align: top;\n",
              "    }\n",
              "\n",
              "    .dataframe thead th {\n",
              "        text-align: right;\n",
              "    }\n",
              "</style>\n",
              "<table border=\"1\" class=\"dataframe\">\n",
              "  <thead>\n",
              "    <tr style=\"text-align: right;\">\n",
              "      <th></th>\n",
              "      <th>industrial_risk</th>\n",
              "      <th>management_risk</th>\n",
              "      <th>financial_flexibility</th>\n",
              "      <th>credibility</th>\n",
              "      <th>competitiveness</th>\n",
              "      <th>operating_risk</th>\n",
              "      <th>class</th>\n",
              "      <th>class_yn</th>\n",
              "    </tr>\n",
              "  </thead>\n",
              "  <tbody>\n",
              "    <tr>\n",
              "      <th>0</th>\n",
              "      <td>0.5</td>\n",
              "      <td>1.0</td>\n",
              "      <td>0.0</td>\n",
              "      <td>0.0</td>\n",
              "      <td>0.0</td>\n",
              "      <td>0.5</td>\n",
              "      <td>bankruptcy</td>\n",
              "      <td>0</td>\n",
              "    </tr>\n",
              "    <tr>\n",
              "      <th>1</th>\n",
              "      <td>0.0</td>\n",
              "      <td>1.0</td>\n",
              "      <td>0.0</td>\n",
              "      <td>0.0</td>\n",
              "      <td>0.0</td>\n",
              "      <td>1.0</td>\n",
              "      <td>bankruptcy</td>\n",
              "      <td>0</td>\n",
              "    </tr>\n",
              "    <tr>\n",
              "      <th>2</th>\n",
              "      <td>1.0</td>\n",
              "      <td>0.0</td>\n",
              "      <td>0.0</td>\n",
              "      <td>0.0</td>\n",
              "      <td>0.0</td>\n",
              "      <td>1.0</td>\n",
              "      <td>bankruptcy</td>\n",
              "      <td>0</td>\n",
              "    </tr>\n",
              "    <tr>\n",
              "      <th>3</th>\n",
              "      <td>0.5</td>\n",
              "      <td>0.0</td>\n",
              "      <td>0.0</td>\n",
              "      <td>0.5</td>\n",
              "      <td>0.0</td>\n",
              "      <td>1.0</td>\n",
              "      <td>bankruptcy</td>\n",
              "      <td>0</td>\n",
              "    </tr>\n",
              "    <tr>\n",
              "      <th>4</th>\n",
              "      <td>1.0</td>\n",
              "      <td>1.0</td>\n",
              "      <td>0.0</td>\n",
              "      <td>0.0</td>\n",
              "      <td>0.0</td>\n",
              "      <td>1.0</td>\n",
              "      <td>bankruptcy</td>\n",
              "      <td>0</td>\n",
              "    </tr>\n",
              "    <tr>\n",
              "      <th>...</th>\n",
              "      <td>...</td>\n",
              "      <td>...</td>\n",
              "      <td>...</td>\n",
              "      <td>...</td>\n",
              "      <td>...</td>\n",
              "      <td>...</td>\n",
              "      <td>...</td>\n",
              "      <td>...</td>\n",
              "    </tr>\n",
              "    <tr>\n",
              "      <th>245</th>\n",
              "      <td>0.0</td>\n",
              "      <td>1.0</td>\n",
              "      <td>1.0</td>\n",
              "      <td>1.0</td>\n",
              "      <td>1.0</td>\n",
              "      <td>1.0</td>\n",
              "      <td>non-bankruptcy</td>\n",
              "      <td>1</td>\n",
              "    </tr>\n",
              "    <tr>\n",
              "      <th>246</th>\n",
              "      <td>1.0</td>\n",
              "      <td>1.0</td>\n",
              "      <td>0.5</td>\n",
              "      <td>1.0</td>\n",
              "      <td>1.0</td>\n",
              "      <td>0.0</td>\n",
              "      <td>non-bankruptcy</td>\n",
              "      <td>1</td>\n",
              "    </tr>\n",
              "    <tr>\n",
              "      <th>247</th>\n",
              "      <td>0.0</td>\n",
              "      <td>1.0</td>\n",
              "      <td>1.0</td>\n",
              "      <td>0.5</td>\n",
              "      <td>0.5</td>\n",
              "      <td>0.0</td>\n",
              "      <td>non-bankruptcy</td>\n",
              "      <td>1</td>\n",
              "    </tr>\n",
              "    <tr>\n",
              "      <th>248</th>\n",
              "      <td>1.0</td>\n",
              "      <td>0.0</td>\n",
              "      <td>0.5</td>\n",
              "      <td>1.0</td>\n",
              "      <td>0.5</td>\n",
              "      <td>0.0</td>\n",
              "      <td>non-bankruptcy</td>\n",
              "      <td>1</td>\n",
              "    </tr>\n",
              "    <tr>\n",
              "      <th>249</th>\n",
              "      <td>1.0</td>\n",
              "      <td>0.0</td>\n",
              "      <td>0.5</td>\n",
              "      <td>0.5</td>\n",
              "      <td>1.0</td>\n",
              "      <td>1.0</td>\n",
              "      <td>non-bankruptcy</td>\n",
              "      <td>1</td>\n",
              "    </tr>\n",
              "  </tbody>\n",
              "</table>\n",
              "<p>250 rows × 8 columns</p>\n",
              "</div>\n",
              "      <button class=\"colab-df-convert\" onclick=\"convertToInteractive('df-ba368818-1ebc-40c9-9e7e-1122d88b82de')\"\n",
              "              title=\"Convert this dataframe to an interactive table.\"\n",
              "              style=\"display:none;\">\n",
              "        \n",
              "  <svg xmlns=\"http://www.w3.org/2000/svg\" height=\"24px\"viewBox=\"0 0 24 24\"\n",
              "       width=\"24px\">\n",
              "    <path d=\"M0 0h24v24H0V0z\" fill=\"none\"/>\n",
              "    <path d=\"M18.56 5.44l.94 2.06.94-2.06 2.06-.94-2.06-.94-.94-2.06-.94 2.06-2.06.94zm-11 1L8.5 8.5l.94-2.06 2.06-.94-2.06-.94L8.5 2.5l-.94 2.06-2.06.94zm10 10l.94 2.06.94-2.06 2.06-.94-2.06-.94-.94-2.06-.94 2.06-2.06.94z\"/><path d=\"M17.41 7.96l-1.37-1.37c-.4-.4-.92-.59-1.43-.59-.52 0-1.04.2-1.43.59L10.3 9.45l-7.72 7.72c-.78.78-.78 2.05 0 2.83L4 21.41c.39.39.9.59 1.41.59.51 0 1.02-.2 1.41-.59l7.78-7.78 2.81-2.81c.8-.78.8-2.07 0-2.86zM5.41 20L4 18.59l7.72-7.72 1.47 1.35L5.41 20z\"/>\n",
              "  </svg>\n",
              "      </button>\n",
              "      \n",
              "  <style>\n",
              "    .colab-df-container {\n",
              "      display:flex;\n",
              "      flex-wrap:wrap;\n",
              "      gap: 12px;\n",
              "    }\n",
              "\n",
              "    .colab-df-convert {\n",
              "      background-color: #E8F0FE;\n",
              "      border: none;\n",
              "      border-radius: 50%;\n",
              "      cursor: pointer;\n",
              "      display: none;\n",
              "      fill: #1967D2;\n",
              "      height: 32px;\n",
              "      padding: 0 0 0 0;\n",
              "      width: 32px;\n",
              "    }\n",
              "\n",
              "    .colab-df-convert:hover {\n",
              "      background-color: #E2EBFA;\n",
              "      box-shadow: 0px 1px 2px rgba(60, 64, 67, 0.3), 0px 1px 3px 1px rgba(60, 64, 67, 0.15);\n",
              "      fill: #174EA6;\n",
              "    }\n",
              "\n",
              "    [theme=dark] .colab-df-convert {\n",
              "      background-color: #3B4455;\n",
              "      fill: #D2E3FC;\n",
              "    }\n",
              "\n",
              "    [theme=dark] .colab-df-convert:hover {\n",
              "      background-color: #434B5C;\n",
              "      box-shadow: 0px 1px 3px 1px rgba(0, 0, 0, 0.15);\n",
              "      filter: drop-shadow(0px 1px 2px rgba(0, 0, 0, 0.3));\n",
              "      fill: #FFFFFF;\n",
              "    }\n",
              "  </style>\n",
              "\n",
              "      <script>\n",
              "        const buttonEl =\n",
              "          document.querySelector('#df-ba368818-1ebc-40c9-9e7e-1122d88b82de button.colab-df-convert');\n",
              "        buttonEl.style.display =\n",
              "          google.colab.kernel.accessAllowed ? 'block' : 'none';\n",
              "\n",
              "        async function convertToInteractive(key) {\n",
              "          const element = document.querySelector('#df-ba368818-1ebc-40c9-9e7e-1122d88b82de');\n",
              "          const dataTable =\n",
              "            await google.colab.kernel.invokeFunction('convertToInteractive',\n",
              "                                                     [key], {});\n",
              "          if (!dataTable) return;\n",
              "\n",
              "          const docLinkHtml = 'Like what you see? Visit the ' +\n",
              "            '<a target=\"_blank\" href=https://colab.research.google.com/notebooks/data_table.ipynb>data table notebook</a>'\n",
              "            + ' to learn more about interactive tables.';\n",
              "          element.innerHTML = '';\n",
              "          dataTable['output_type'] = 'display_data';\n",
              "          await google.colab.output.renderOutput(dataTable, element);\n",
              "          const docLink = document.createElement('div');\n",
              "          docLink.innerHTML = docLinkHtml;\n",
              "          element.appendChild(docLink);\n",
              "        }\n",
              "      </script>\n",
              "    </div>\n",
              "  </div>\n",
              "  "
            ]
          },
          "metadata": {},
          "execution_count": 11
        }
      ]
    },
    {
      "cell_type": "code",
      "source": [
        "bankrupt_new.drop(' class', inplace = True, axis =1)\n",
        "bankrupt_new.head()"
      ],
      "metadata": {
        "colab": {
          "base_uri": "https://localhost:8080/",
          "height": 206
        },
        "id": "AyasXIdhkgPP",
        "outputId": "c6175a79-2444-4f5b-9f2f-d649378ed4d3"
      },
      "execution_count": 12,
      "outputs": [
        {
          "output_type": "execute_result",
          "data": {
            "text/plain": [
              "   industrial_risk   management_risk   financial_flexibility   credibility  \\\n",
              "0              0.5               1.0                     0.0           0.0   \n",
              "1              0.0               1.0                     0.0           0.0   \n",
              "2              1.0               0.0                     0.0           0.0   \n",
              "3              0.5               0.0                     0.0           0.5   \n",
              "4              1.0               1.0                     0.0           0.0   \n",
              "\n",
              "    competitiveness   operating_risk  class_yn  \n",
              "0               0.0              0.5         0  \n",
              "1               0.0              1.0         0  \n",
              "2               0.0              1.0         0  \n",
              "3               0.0              1.0         0  \n",
              "4               0.0              1.0         0  "
            ],
            "text/html": [
              "\n",
              "  <div id=\"df-e85a9a19-cfa6-4ed7-91bd-3ae09e724ab8\">\n",
              "    <div class=\"colab-df-container\">\n",
              "      <div>\n",
              "<style scoped>\n",
              "    .dataframe tbody tr th:only-of-type {\n",
              "        vertical-align: middle;\n",
              "    }\n",
              "\n",
              "    .dataframe tbody tr th {\n",
              "        vertical-align: top;\n",
              "    }\n",
              "\n",
              "    .dataframe thead th {\n",
              "        text-align: right;\n",
              "    }\n",
              "</style>\n",
              "<table border=\"1\" class=\"dataframe\">\n",
              "  <thead>\n",
              "    <tr style=\"text-align: right;\">\n",
              "      <th></th>\n",
              "      <th>industrial_risk</th>\n",
              "      <th>management_risk</th>\n",
              "      <th>financial_flexibility</th>\n",
              "      <th>credibility</th>\n",
              "      <th>competitiveness</th>\n",
              "      <th>operating_risk</th>\n",
              "      <th>class_yn</th>\n",
              "    </tr>\n",
              "  </thead>\n",
              "  <tbody>\n",
              "    <tr>\n",
              "      <th>0</th>\n",
              "      <td>0.5</td>\n",
              "      <td>1.0</td>\n",
              "      <td>0.0</td>\n",
              "      <td>0.0</td>\n",
              "      <td>0.0</td>\n",
              "      <td>0.5</td>\n",
              "      <td>0</td>\n",
              "    </tr>\n",
              "    <tr>\n",
              "      <th>1</th>\n",
              "      <td>0.0</td>\n",
              "      <td>1.0</td>\n",
              "      <td>0.0</td>\n",
              "      <td>0.0</td>\n",
              "      <td>0.0</td>\n",
              "      <td>1.0</td>\n",
              "      <td>0</td>\n",
              "    </tr>\n",
              "    <tr>\n",
              "      <th>2</th>\n",
              "      <td>1.0</td>\n",
              "      <td>0.0</td>\n",
              "      <td>0.0</td>\n",
              "      <td>0.0</td>\n",
              "      <td>0.0</td>\n",
              "      <td>1.0</td>\n",
              "      <td>0</td>\n",
              "    </tr>\n",
              "    <tr>\n",
              "      <th>3</th>\n",
              "      <td>0.5</td>\n",
              "      <td>0.0</td>\n",
              "      <td>0.0</td>\n",
              "      <td>0.5</td>\n",
              "      <td>0.0</td>\n",
              "      <td>1.0</td>\n",
              "      <td>0</td>\n",
              "    </tr>\n",
              "    <tr>\n",
              "      <th>4</th>\n",
              "      <td>1.0</td>\n",
              "      <td>1.0</td>\n",
              "      <td>0.0</td>\n",
              "      <td>0.0</td>\n",
              "      <td>0.0</td>\n",
              "      <td>1.0</td>\n",
              "      <td>0</td>\n",
              "    </tr>\n",
              "  </tbody>\n",
              "</table>\n",
              "</div>\n",
              "      <button class=\"colab-df-convert\" onclick=\"convertToInteractive('df-e85a9a19-cfa6-4ed7-91bd-3ae09e724ab8')\"\n",
              "              title=\"Convert this dataframe to an interactive table.\"\n",
              "              style=\"display:none;\">\n",
              "        \n",
              "  <svg xmlns=\"http://www.w3.org/2000/svg\" height=\"24px\"viewBox=\"0 0 24 24\"\n",
              "       width=\"24px\">\n",
              "    <path d=\"M0 0h24v24H0V0z\" fill=\"none\"/>\n",
              "    <path d=\"M18.56 5.44l.94 2.06.94-2.06 2.06-.94-2.06-.94-.94-2.06-.94 2.06-2.06.94zm-11 1L8.5 8.5l.94-2.06 2.06-.94-2.06-.94L8.5 2.5l-.94 2.06-2.06.94zm10 10l.94 2.06.94-2.06 2.06-.94-2.06-.94-.94-2.06-.94 2.06-2.06.94z\"/><path d=\"M17.41 7.96l-1.37-1.37c-.4-.4-.92-.59-1.43-.59-.52 0-1.04.2-1.43.59L10.3 9.45l-7.72 7.72c-.78.78-.78 2.05 0 2.83L4 21.41c.39.39.9.59 1.41.59.51 0 1.02-.2 1.41-.59l7.78-7.78 2.81-2.81c.8-.78.8-2.07 0-2.86zM5.41 20L4 18.59l7.72-7.72 1.47 1.35L5.41 20z\"/>\n",
              "  </svg>\n",
              "      </button>\n",
              "      \n",
              "  <style>\n",
              "    .colab-df-container {\n",
              "      display:flex;\n",
              "      flex-wrap:wrap;\n",
              "      gap: 12px;\n",
              "    }\n",
              "\n",
              "    .colab-df-convert {\n",
              "      background-color: #E8F0FE;\n",
              "      border: none;\n",
              "      border-radius: 50%;\n",
              "      cursor: pointer;\n",
              "      display: none;\n",
              "      fill: #1967D2;\n",
              "      height: 32px;\n",
              "      padding: 0 0 0 0;\n",
              "      width: 32px;\n",
              "    }\n",
              "\n",
              "    .colab-df-convert:hover {\n",
              "      background-color: #E2EBFA;\n",
              "      box-shadow: 0px 1px 2px rgba(60, 64, 67, 0.3), 0px 1px 3px 1px rgba(60, 64, 67, 0.15);\n",
              "      fill: #174EA6;\n",
              "    }\n",
              "\n",
              "    [theme=dark] .colab-df-convert {\n",
              "      background-color: #3B4455;\n",
              "      fill: #D2E3FC;\n",
              "    }\n",
              "\n",
              "    [theme=dark] .colab-df-convert:hover {\n",
              "      background-color: #434B5C;\n",
              "      box-shadow: 0px 1px 3px 1px rgba(0, 0, 0, 0.15);\n",
              "      filter: drop-shadow(0px 1px 2px rgba(0, 0, 0, 0.3));\n",
              "      fill: #FFFFFF;\n",
              "    }\n",
              "  </style>\n",
              "\n",
              "      <script>\n",
              "        const buttonEl =\n",
              "          document.querySelector('#df-e85a9a19-cfa6-4ed7-91bd-3ae09e724ab8 button.colab-df-convert');\n",
              "        buttonEl.style.display =\n",
              "          google.colab.kernel.accessAllowed ? 'block' : 'none';\n",
              "\n",
              "        async function convertToInteractive(key) {\n",
              "          const element = document.querySelector('#df-e85a9a19-cfa6-4ed7-91bd-3ae09e724ab8');\n",
              "          const dataTable =\n",
              "            await google.colab.kernel.invokeFunction('convertToInteractive',\n",
              "                                                     [key], {});\n",
              "          if (!dataTable) return;\n",
              "\n",
              "          const docLinkHtml = 'Like what you see? Visit the ' +\n",
              "            '<a target=\"_blank\" href=https://colab.research.google.com/notebooks/data_table.ipynb>data table notebook</a>'\n",
              "            + ' to learn more about interactive tables.';\n",
              "          element.innerHTML = '';\n",
              "          dataTable['output_type'] = 'display_data';\n",
              "          await google.colab.output.renderOutput(dataTable, element);\n",
              "          const docLink = document.createElement('div');\n",
              "          docLink.innerHTML = docLinkHtml;\n",
              "          element.appendChild(docLink);\n",
              "        }\n",
              "      </script>\n",
              "    </div>\n",
              "  </div>\n",
              "  "
            ]
          },
          "metadata": {},
          "execution_count": 12
        }
      ]
    },
    {
      "cell_type": "markdown",
      "source": [
        "Exploratory Data Analysis(EDA)"
      ],
      "metadata": {
        "id": "b_DvFS_FlB_S"
      }
    },
    {
      "cell_type": "code",
      "source": [
        "bankrupt_new.corr()"
      ],
      "metadata": {
        "colab": {
          "base_uri": "https://localhost:8080/",
          "height": 269
        },
        "id": "2z7ht1yCkgSo",
        "outputId": "b4f52ee7-7b5c-43ad-c083-0fad147b461c"
      },
      "execution_count": 13,
      "outputs": [
        {
          "output_type": "execute_result",
          "data": {
            "text/plain": [
              "                        industrial_risk   management_risk  \\\n",
              "industrial_risk                1.000000          0.255127   \n",
              " management_risk               0.255127          1.000000   \n",
              " financial_flexibility        -0.162624         -0.254845   \n",
              " credibility                  -0.014438         -0.303341   \n",
              " competitiveness              -0.257814         -0.306568   \n",
              " operating_risk                0.144507          0.213874   \n",
              "class_yn                      -0.227823         -0.370838   \n",
              "\n",
              "                         financial_flexibility   credibility  \\\n",
              "industrial_risk                      -0.162624     -0.014438   \n",
              " management_risk                     -0.254845     -0.303341   \n",
              " financial_flexibility                1.000000      0.524951   \n",
              " credibility                          0.524951      1.000000   \n",
              " competitiveness                      0.686612      0.675689   \n",
              " operating_risk                      -0.116903     -0.288458   \n",
              "class_yn                              0.751020      0.755909   \n",
              "\n",
              "                         competitiveness   operating_risk  class_yn  \n",
              "industrial_risk                -0.257814         0.144507 -0.227823  \n",
              " management_risk               -0.306568         0.213874 -0.370838  \n",
              " financial_flexibility          0.686612        -0.116903  0.751020  \n",
              " credibility                    0.675689        -0.288458  0.755909  \n",
              " competitiveness                1.000000        -0.211383  0.899452  \n",
              " operating_risk                -0.211383         1.000000 -0.279786  \n",
              "class_yn                        0.899452        -0.279786  1.000000  "
            ],
            "text/html": [
              "\n",
              "  <div id=\"df-b0a4a03a-6571-4bdf-86e8-3e0c69ee5648\">\n",
              "    <div class=\"colab-df-container\">\n",
              "      <div>\n",
              "<style scoped>\n",
              "    .dataframe tbody tr th:only-of-type {\n",
              "        vertical-align: middle;\n",
              "    }\n",
              "\n",
              "    .dataframe tbody tr th {\n",
              "        vertical-align: top;\n",
              "    }\n",
              "\n",
              "    .dataframe thead th {\n",
              "        text-align: right;\n",
              "    }\n",
              "</style>\n",
              "<table border=\"1\" class=\"dataframe\">\n",
              "  <thead>\n",
              "    <tr style=\"text-align: right;\">\n",
              "      <th></th>\n",
              "      <th>industrial_risk</th>\n",
              "      <th>management_risk</th>\n",
              "      <th>financial_flexibility</th>\n",
              "      <th>credibility</th>\n",
              "      <th>competitiveness</th>\n",
              "      <th>operating_risk</th>\n",
              "      <th>class_yn</th>\n",
              "    </tr>\n",
              "  </thead>\n",
              "  <tbody>\n",
              "    <tr>\n",
              "      <th>industrial_risk</th>\n",
              "      <td>1.000000</td>\n",
              "      <td>0.255127</td>\n",
              "      <td>-0.162624</td>\n",
              "      <td>-0.014438</td>\n",
              "      <td>-0.257814</td>\n",
              "      <td>0.144507</td>\n",
              "      <td>-0.227823</td>\n",
              "    </tr>\n",
              "    <tr>\n",
              "      <th>management_risk</th>\n",
              "      <td>0.255127</td>\n",
              "      <td>1.000000</td>\n",
              "      <td>-0.254845</td>\n",
              "      <td>-0.303341</td>\n",
              "      <td>-0.306568</td>\n",
              "      <td>0.213874</td>\n",
              "      <td>-0.370838</td>\n",
              "    </tr>\n",
              "    <tr>\n",
              "      <th>financial_flexibility</th>\n",
              "      <td>-0.162624</td>\n",
              "      <td>-0.254845</td>\n",
              "      <td>1.000000</td>\n",
              "      <td>0.524951</td>\n",
              "      <td>0.686612</td>\n",
              "      <td>-0.116903</td>\n",
              "      <td>0.751020</td>\n",
              "    </tr>\n",
              "    <tr>\n",
              "      <th>credibility</th>\n",
              "      <td>-0.014438</td>\n",
              "      <td>-0.303341</td>\n",
              "      <td>0.524951</td>\n",
              "      <td>1.000000</td>\n",
              "      <td>0.675689</td>\n",
              "      <td>-0.288458</td>\n",
              "      <td>0.755909</td>\n",
              "    </tr>\n",
              "    <tr>\n",
              "      <th>competitiveness</th>\n",
              "      <td>-0.257814</td>\n",
              "      <td>-0.306568</td>\n",
              "      <td>0.686612</td>\n",
              "      <td>0.675689</td>\n",
              "      <td>1.000000</td>\n",
              "      <td>-0.211383</td>\n",
              "      <td>0.899452</td>\n",
              "    </tr>\n",
              "    <tr>\n",
              "      <th>operating_risk</th>\n",
              "      <td>0.144507</td>\n",
              "      <td>0.213874</td>\n",
              "      <td>-0.116903</td>\n",
              "      <td>-0.288458</td>\n",
              "      <td>-0.211383</td>\n",
              "      <td>1.000000</td>\n",
              "      <td>-0.279786</td>\n",
              "    </tr>\n",
              "    <tr>\n",
              "      <th>class_yn</th>\n",
              "      <td>-0.227823</td>\n",
              "      <td>-0.370838</td>\n",
              "      <td>0.751020</td>\n",
              "      <td>0.755909</td>\n",
              "      <td>0.899452</td>\n",
              "      <td>-0.279786</td>\n",
              "      <td>1.000000</td>\n",
              "    </tr>\n",
              "  </tbody>\n",
              "</table>\n",
              "</div>\n",
              "      <button class=\"colab-df-convert\" onclick=\"convertToInteractive('df-b0a4a03a-6571-4bdf-86e8-3e0c69ee5648')\"\n",
              "              title=\"Convert this dataframe to an interactive table.\"\n",
              "              style=\"display:none;\">\n",
              "        \n",
              "  <svg xmlns=\"http://www.w3.org/2000/svg\" height=\"24px\"viewBox=\"0 0 24 24\"\n",
              "       width=\"24px\">\n",
              "    <path d=\"M0 0h24v24H0V0z\" fill=\"none\"/>\n",
              "    <path d=\"M18.56 5.44l.94 2.06.94-2.06 2.06-.94-2.06-.94-.94-2.06-.94 2.06-2.06.94zm-11 1L8.5 8.5l.94-2.06 2.06-.94-2.06-.94L8.5 2.5l-.94 2.06-2.06.94zm10 10l.94 2.06.94-2.06 2.06-.94-2.06-.94-.94-2.06-.94 2.06-2.06.94z\"/><path d=\"M17.41 7.96l-1.37-1.37c-.4-.4-.92-.59-1.43-.59-.52 0-1.04.2-1.43.59L10.3 9.45l-7.72 7.72c-.78.78-.78 2.05 0 2.83L4 21.41c.39.39.9.59 1.41.59.51 0 1.02-.2 1.41-.59l7.78-7.78 2.81-2.81c.8-.78.8-2.07 0-2.86zM5.41 20L4 18.59l7.72-7.72 1.47 1.35L5.41 20z\"/>\n",
              "  </svg>\n",
              "      </button>\n",
              "      \n",
              "  <style>\n",
              "    .colab-df-container {\n",
              "      display:flex;\n",
              "      flex-wrap:wrap;\n",
              "      gap: 12px;\n",
              "    }\n",
              "\n",
              "    .colab-df-convert {\n",
              "      background-color: #E8F0FE;\n",
              "      border: none;\n",
              "      border-radius: 50%;\n",
              "      cursor: pointer;\n",
              "      display: none;\n",
              "      fill: #1967D2;\n",
              "      height: 32px;\n",
              "      padding: 0 0 0 0;\n",
              "      width: 32px;\n",
              "    }\n",
              "\n",
              "    .colab-df-convert:hover {\n",
              "      background-color: #E2EBFA;\n",
              "      box-shadow: 0px 1px 2px rgba(60, 64, 67, 0.3), 0px 1px 3px 1px rgba(60, 64, 67, 0.15);\n",
              "      fill: #174EA6;\n",
              "    }\n",
              "\n",
              "    [theme=dark] .colab-df-convert {\n",
              "      background-color: #3B4455;\n",
              "      fill: #D2E3FC;\n",
              "    }\n",
              "\n",
              "    [theme=dark] .colab-df-convert:hover {\n",
              "      background-color: #434B5C;\n",
              "      box-shadow: 0px 1px 3px 1px rgba(0, 0, 0, 0.15);\n",
              "      filter: drop-shadow(0px 1px 2px rgba(0, 0, 0, 0.3));\n",
              "      fill: #FFFFFF;\n",
              "    }\n",
              "  </style>\n",
              "\n",
              "      <script>\n",
              "        const buttonEl =\n",
              "          document.querySelector('#df-b0a4a03a-6571-4bdf-86e8-3e0c69ee5648 button.colab-df-convert');\n",
              "        buttonEl.style.display =\n",
              "          google.colab.kernel.accessAllowed ? 'block' : 'none';\n",
              "\n",
              "        async function convertToInteractive(key) {\n",
              "          const element = document.querySelector('#df-b0a4a03a-6571-4bdf-86e8-3e0c69ee5648');\n",
              "          const dataTable =\n",
              "            await google.colab.kernel.invokeFunction('convertToInteractive',\n",
              "                                                     [key], {});\n",
              "          if (!dataTable) return;\n",
              "\n",
              "          const docLinkHtml = 'Like what you see? Visit the ' +\n",
              "            '<a target=\"_blank\" href=https://colab.research.google.com/notebooks/data_table.ipynb>data table notebook</a>'\n",
              "            + ' to learn more about interactive tables.';\n",
              "          element.innerHTML = '';\n",
              "          dataTable['output_type'] = 'display_data';\n",
              "          await google.colab.output.renderOutput(dataTable, element);\n",
              "          const docLink = document.createElement('div');\n",
              "          docLink.innerHTML = docLinkHtml;\n",
              "          element.appendChild(docLink);\n",
              "        }\n",
              "      </script>\n",
              "    </div>\n",
              "  </div>\n",
              "  "
            ]
          },
          "metadata": {},
          "execution_count": 13
        }
      ]
    },
    {
      "cell_type": "code",
      "source": [
        "sns.heatmap(bankrupt_new.corr(), vmin = -1, vmax = 1, annot = True)"
      ],
      "metadata": {
        "colab": {
          "base_uri": "https://localhost:8080/",
          "height": 373
        },
        "id": "HgvR7k8IlK1i",
        "outputId": "d1ca1802-9e63-46a7-df34-8857171cfb54"
      },
      "execution_count": 14,
      "outputs": [
        {
          "output_type": "execute_result",
          "data": {
            "text/plain": [
              "<matplotlib.axes._subplots.AxesSubplot at 0x7fb8dcf50e80>"
            ]
          },
          "metadata": {},
          "execution_count": 14
        },
        {
          "output_type": "display_data",
          "data": {
            "text/plain": [
              "<Figure size 432x288 with 2 Axes>"
            ],
            "image/png": "[encoded data removed]"
          },
          "metadata": {
            "needs_background": "light"
          }
        }
      ]
    },
    {
      "cell_type": "code",
      "source": [
        "sns.countplot(x = 'class_yn', data = bankrupt_new, palette = 'hls')"
      ],
      "metadata": {
        "colab": {
          "base_uri": "https://localhost:8080/",
          "height": 297
        },
        "id": "iO_AyZDslK7U",
        "outputId": "0abb6e1d-1124-454d-bd9b-f86333374bed"
      },
      "execution_count": 15,
      "outputs": [
        {
          "output_type": "execute_result",
          "data": {
            "text/plain": [
              "<matplotlib.axes._subplots.AxesSubplot at 0x7fb8da5a4ca0>"
            ]
          },
          "metadata": {},
          "execution_count": 15
        },
        {
          "output_type": "display_data",
          "data": {
            "text/plain": [
              "<Figure size 432x288 with 1 Axes>"
            ],
            "image/png": "[encoded data removed]"
          },
          "metadata": {
            "needs_background": "light"
          }
        }
      ]
    },
    {
      "cell_type": "code",
      "source": [
        "sns.countplot(x = ' financial_flexibility', data = bankrupt_new, palette = 'hls')"
      ],
      "metadata": {
        "colab": {
          "base_uri": "https://localhost:8080/",
          "height": 297
        },
        "id": "YrQRjpUtlK-I",
        "outputId": "92f3df31-853c-41af-ba8f-054434d08f6d"
      },
      "execution_count": 16,
      "outputs": [
        {
          "output_type": "execute_result",
          "data": {
            "text/plain": [
              "<matplotlib.axes._subplots.AxesSubplot at 0x7fb8da5b7580>"
            ]
          },
          "metadata": {},
          "execution_count": 16
        },
        {
          "output_type": "display_data",
          "data": {
            "text/plain": [
              "<Figure size 432x288 with 1 Axes>"
            ],
            "image/png": "[encoded data removed]"
          },
          "metadata": {
            "needs_background": "light"
          }
        }
      ]
    },
    {
      "cell_type": "code",
      "source": [
        "\n",
        "# for visualization \n",
        "\n",
        "pd.crosstab(bankrupt.class_yn, bankrupt.industrial_risk).plot(kind='bar')"
      ],
      "metadata": {
        "colab": {
          "base_uri": "https://localhost:8080/",
          "height": 294
        },
        "id": "e3AuQRFUlLBF",
        "outputId": "b754f4e2-26e1-40cd-9ac7-95b6edb03f5e"
      },
      "execution_count": 17,
      "outputs": [
        {
          "output_type": "execute_result",
          "data": {
            "text/plain": [
              "<matplotlib.axes._subplots.AxesSubplot at 0x7fb8d9fff340>"
            ]
          },
          "metadata": {},
          "execution_count": 17
        },
        {
          "output_type": "display_data",
          "data": {
            "text/plain": [
              "<Figure size 432x288 with 1 Axes>"
            ],
            "image/png": "[encoded data removed]"
          },
          "metadata": {
            "needs_background": "light"
          }
        }
      ]
    },
    {
      "cell_type": "code",
      "source": [
        "bankrupt_new.columns"
      ],
      "metadata": {
        "colab": {
          "base_uri": "https://localhost:8080/"
        },
        "id": "1-GjaGIwlLDt",
        "outputId": "bd3527f9-6f6d-411c-df14-cd403449ab7e"
      },
      "execution_count": 18,
      "outputs": [
        {
          "output_type": "execute_result",
          "data": {
            "text/plain": [
              "Index(['industrial_risk', ' management_risk', ' financial_flexibility',\n",
              "       ' credibility', ' competitiveness', ' operating_risk', 'class_yn'],\n",
              "      dtype='object')"
            ]
          },
          "metadata": {},
          "execution_count": 18
        }
      ]
    },
    {
      "cell_type": "code",
      "source": [
        "pd.crosstab(bankrupt_new[' financial_flexibility'], bankrupt_new['class_yn']).plot(kind = 'bar')"
      ],
      "metadata": {
        "colab": {
          "base_uri": "https://localhost:8080/",
          "height": 303
        },
        "id": "6-RZlmMSlLGo",
        "outputId": "12b5ba2d-50c7-478b-a84c-b9b582e5e457"
      },
      "execution_count": 19,
      "outputs": [
        {
          "output_type": "execute_result",
          "data": {
            "text/plain": [
              "<matplotlib.axes._subplots.AxesSubplot at 0x7fb8d9f77af0>"
            ]
          },
          "metadata": {},
          "execution_count": 19
        },
        {
          "output_type": "display_data",
          "data": {
            "text/plain": [
              "<Figure size 432x288 with 1 Axes>"
            ],
            "image/png": "[encoded data removed]"
          },
          "metadata": {
            "needs_background": "light"
          }
        }
      ]
    },
    {
      "cell_type": "code",
      "source": [
        "pd.crosstab(bankrupt_new[' credibility'], bankrupt_new.class_yn).plot(kind = 'bar')"
      ],
      "metadata": {
        "colab": {
          "base_uri": "https://localhost:8080/",
          "height": 302
        },
        "id": "-WRQGVvylLKh",
        "outputId": "2d498ca6-e0bf-496b-93bc-da699d2c2ab0"
      },
      "execution_count": 20,
      "outputs": [
        {
          "output_type": "execute_result",
          "data": {
            "text/plain": [
              "<matplotlib.axes._subplots.AxesSubplot at 0x7fb8d9f629d0>"
            ]
          },
          "metadata": {},
          "execution_count": 20
        },
        {
          "output_type": "display_data",
          "data": {
            "text/plain": [
              "<Figure size 432x288 with 1 Axes>"
            ],
            "image/png": "[encoded data removed]"
          },
          "metadata": {
            "needs_background": "light"
          }
        }
      ]
    },
    {
      "cell_type": "code",
      "source": [
        "pd.crosstab(bankrupt_new[' operating_risk'], bankrupt_new.class_yn).plot(kind='bar')"
      ],
      "metadata": {
        "colab": {
          "base_uri": "https://localhost:8080/",
          "height": 303
        },
        "id": "F2jZ1NDBlLM_",
        "outputId": "2bc2f5b3-ac70-4f7d-b8a4-5515f199a1fa"
      },
      "execution_count": 21,
      "outputs": [
        {
          "output_type": "execute_result",
          "data": {
            "text/plain": [
              "<matplotlib.axes._subplots.AxesSubplot at 0x7fb8d9ecd970>"
            ]
          },
          "metadata": {},
          "execution_count": 21
        },
        {
          "output_type": "display_data",
          "data": {
            "text/plain": [
              "<Figure size 432x288 with 1 Axes>"
            ],
            "image/png": "[encoded data removed]"
          },
          "metadata": {
            "needs_background": "light"
          }
        }
      ]
    },
    {
      "cell_type": "code",
      "source": [
        "pd.crosstab(bankrupt_new[' financial_flexibility'], bankrupt_new[' credibility']).plot(kind = 'bar')"
      ],
      "metadata": {
        "colab": {
          "base_uri": "https://localhost:8080/",
          "height": 303
        },
        "id": "p0vjujoVlLRR",
        "outputId": "b61040bf-8eac-4fd7-b291-a7958bc0edb9"
      },
      "execution_count": 22,
      "outputs": [
        {
          "output_type": "execute_result",
          "data": {
            "text/plain": [
              "<matplotlib.axes._subplots.AxesSubplot at 0x7fb8d9e32640>"
            ]
          },
          "metadata": {},
          "execution_count": 22
        },
        {
          "output_type": "display_data",
          "data": {
            "text/plain": [
              "<Figure size 432x288 with 1 Axes>"
            ],
            "image/png": "[encoded data removed]"
          },
          "metadata": {
            "needs_background": "light"
          }
        }
      ]
    },
    {
      "cell_type": "code",
      "source": [
        "np.shape(bankrupt_new)\n"
      ],
      "metadata": {
        "colab": {
          "base_uri": "https://localhost:8080/"
        },
        "id": "XX8tSr2tkgVH",
        "outputId": "3dd4059d-9ac9-4d75-b873-9320235105e2"
      },
      "execution_count": 23,
      "outputs": [
        {
          "output_type": "execute_result",
          "data": {
            "text/plain": [
              "(250, 7)"
            ]
          },
          "metadata": {},
          "execution_count": 23
        }
      ]
    },
    {
      "cell_type": "code",
      "source": [
        "# Input\n",
        "x = bankrupt_new.iloc[:,:-1]\n",
        "\n",
        "# Target variable\n",
        "\n",
        "y = bankrupt_new.iloc[:,-1]"
      ],
      "metadata": {
        "id": "AWkWhttpl3JT"
      },
      "execution_count": 24,
      "outputs": []
    },
    {
      "cell_type": "code",
      "source": [
        "from sklearn.model_selection import train_test_split # trian and test\n",
        "from sklearn import metrics\n",
        "from sklearn import preprocessing \n",
        "from sklearn.metrics import classification_report\n"
      ],
      "metadata": {
        "id": "QtTD9Wn7l3Ma"
      },
      "execution_count": 25,
      "outputs": []
    },
    {
      "cell_type": "markdown",
      "source": [
        "Splitting the data into train and test"
      ],
      "metadata": {
        "id": "LnFBEBCemDuX"
      }
    },
    {
      "cell_type": "code",
      "source": [
        "X_train, X_test, y_train, y_test = train_test_split(x,y, test_size = 0.25, random_state = 0)"
      ],
      "metadata": {
        "id": "jGqIM0n-mLK6"
      },
      "execution_count": 31,
      "outputs": []
    },
    {
      "cell_type": "code",
      "source": [
        "from sklearn.metrics import accuracy_score, recall_score, precision_score, f1_score\n",
        "from sklearn.metrics import classification_report, confusion_matrix\n"
      ],
      "metadata": {
        "id": "2Rkv56Pr5bIm"
      },
      "execution_count": 36,
      "outputs": []
    },
    {
      "cell_type": "code",
      "source": [
        "def Visualize_confusion_matrix(y_test, y_pred):\n",
        "    cm = confusion_matrix(y_test, y_pred)\n",
        "    plt.figure(figsize=(7, 5))\n",
        "    sns.heatmap(cm, annot=True, fmt='g', cmap='Oranges',\n",
        "                xticklabels=['No Bankruptcy','Bankruptcy'], yticklabels=['No Bankruptcy','Bankruptcy'])\n",
        "    plt.title('Accuracy: {0:.4f}'.format(accuracy_score(y_test, y_pred)))\n",
        "    plt.ylabel('True Values')\n",
        "    plt.xlabel('Predicted Values')\n",
        "    plt.show()\n",
        "    \n",
        "    print(\"\\n\")\n",
        "    print(\"Classification Report:\")\n",
        "    print(classification_report(y_test, y_pred))\n",
        "    return"
      ],
      "metadata": {
        "id": "a1p5ZWFF5bXX"
      },
      "execution_count": 37,
      "outputs": []
    },
    {
      "cell_type": "markdown",
      "source": [
        "Preparing Models"
      ],
      "metadata": {
        "id": "jBVr7PjPjzT8"
      }
    },
    {
      "cell_type": "markdown",
      "source": [
        "1.Logistic Regression"
      ],
      "metadata": {
        "id": "-1xFm_gjj3e0"
      }
    },
    {
      "cell_type": "markdown",
      "source": [
        "Training the Logestic Regression on the Training test\n"
      ],
      "metadata": {
        "id": "7-FqUMHq58x-"
      }
    },
    {
      "cell_type": "code",
      "source": [
        "from sklearn.linear_model import LogisticRegression\n",
        "LR_model = LogisticRegression(random_state = 0)\n",
        "LR_model.fit(X_train, y_train)\n",
        "y_pred = LR_model.predict(X_test)\n",
        "acc1 = accuracy_score(y_test, y_pred)"
      ],
      "metadata": {
        "id": "ByuMOAeu5pF8"
      },
      "execution_count": 32,
      "outputs": []
    },
    {
      "cell_type": "code",
      "source": [
        "# Train Score\n",
        "train_score = LR_model.score(X_train, y_train)\n",
        "print('Training Score: %0.4f'% train_score)"
      ],
      "metadata": {
        "colab": {
          "base_uri": "https://localhost:8080/"
        },
        "id": "DE00TiRu5pJW",
        "outputId": "a72bfe1c-9c8d-4fa3-d833-705c01dcc29a"
      },
      "execution_count": 33,
      "outputs": [
        {
          "output_type": "stream",
          "name": "stdout",
          "text": [
            "Training Score: 0.9947\n"
          ]
        }
      ]
    },
    {
      "cell_type": "markdown",
      "source": [
        "Testing the Logistic Regression on the Testing set"
      ],
      "metadata": {
        "id": "zxWXC-Ic6F9n"
      }
    },
    {
      "cell_type": "code",
      "source": [
        "# Test score\n",
        "print('Recall score: %0.4f'% recall_score(y_test, y_pred))\n",
        "print('Precision score: %0.4f'% precision_score(y_test, y_pred))\n",
        "print('F1-Score: %0.4f'% f1_score(y_test, y_pred))\n",
        "print('Accuracy score: %0.4f'% accuracy_score(y_test, y_pred))"
      ],
      "metadata": {
        "colab": {
          "base_uri": "https://localhost:8080/"
        },
        "id": "0guoizIl5pMQ",
        "outputId": "db960993-1727-48e6-9fe0-cc70e75f236c"
      },
      "execution_count": 34,
      "outputs": [
        {
          "output_type": "stream",
          "name": "stdout",
          "text": [
            "Recall score: 1.0000\n",
            "Precision score: 1.0000\n",
            "F1-Score: 1.0000\n",
            "Accuracy score: 1.0000\n"
          ]
        }
      ]
    },
    {
      "cell_type": "code",
      "source": [
        "# Test Predictions\n",
        "Visualize_confusion_matrix(y_test, y_pred)"
      ],
      "metadata": {
        "colab": {
          "base_uri": "https://localhost:8080/",
          "height": 558
        },
        "id": "1Z0r63m45pPt",
        "outputId": "d73501e5-7274-4427-a063-729c27a85a63"
      },
      "execution_count": 39,
      "outputs": [
        {
          "output_type": "display_data",
          "data": {
            "text/plain": [
              "<Figure size 504x360 with 2 Axes>"
            ],
            "image/png": "[encoded data removed]"
          },
          "metadata": {
            "needs_background": "light"
          }
        },
        {
          "output_type": "stream",
          "name": "stdout",
          "text": [
            "\n",
            "\n",
            "Classification Report:\n",
            "              precision    recall  f1-score   support\n",
            "\n",
            "           0       1.00      1.00      1.00        26\n",
            "           1       1.00      1.00      1.00        37\n",
            "\n",
            "    accuracy                           1.00        63\n",
            "   macro avg       1.00      1.00      1.00        63\n",
            "weighted avg       1.00      1.00      1.00        63\n",
            "\n"
          ]
        }
      ]
    },
    {
      "cell_type": "markdown",
      "source": [
        "2.Naive Bayes"
      ],
      "metadata": {
        "id": "pBqpwni07Hnw"
      }
    },
    {
      "cell_type": "markdown",
      "source": [
        "Training the Naive Bayes on the training set"
      ],
      "metadata": {
        "id": "T46Atq3r7Hze"
      }
    },
    {
      "cell_type": "code",
      "source": [
        "from sklearn.naive_bayes import GaussianNB\n",
        "NB_model = GaussianNB()\n",
        "NB_model.fit(X_train, y_train)\n",
        "y_pred = NB_model.predict(X_test)\n",
        "acc2 = accuracy_score(y_test, y_pred)"
      ],
      "metadata": {
        "id": "F7j2zcEO5pSy"
      },
      "execution_count": 40,
      "outputs": []
    },
    {
      "cell_type": "code",
      "source": [
        "# Train Score\n",
        "train_score = NB_model.score(X_train, y_train)\n",
        "print('Training Score: %0.4f'% train_score)"
      ],
      "metadata": {
        "colab": {
          "base_uri": "https://localhost:8080/"
        },
        "id": "jaAGO5cA5pWa",
        "outputId": "bc32b4ad-64ec-427c-fc06-3a95af07d6b5"
      },
      "execution_count": 41,
      "outputs": [
        {
          "output_type": "stream",
          "name": "stdout",
          "text": [
            "Training Score: 0.9733\n"
          ]
        }
      ]
    },
    {
      "cell_type": "markdown",
      "source": [
        "Testing the Naive Bayes on the testing set"
      ],
      "metadata": {
        "id": "bvmWesRY7W6S"
      }
    },
    {
      "cell_type": "code",
      "source": [
        "# Test score\n",
        "print('Recall score: %0.4f'% recall_score(y_test, y_pred))\n",
        "print('Precision score: %0.4f'% precision_score(y_test, y_pred))\n",
        "print('F1-Score: %0.4f'% f1_score(y_test, y_pred))\n",
        "print('Accuracy score: %0.4f'% accuracy_score(y_test, y_pred))"
      ],
      "metadata": {
        "colab": {
          "base_uri": "https://localhost:8080/"
        },
        "id": "fsPB9tUM5paV",
        "outputId": "09be5b6e-1bec-4599-ae03-9f22d3aeaff6"
      },
      "execution_count": 42,
      "outputs": [
        {
          "output_type": "stream",
          "name": "stdout",
          "text": [
            "Recall score: 1.0000\n",
            "Precision score: 1.0000\n",
            "F1-Score: 1.0000\n",
            "Accuracy score: 1.0000\n"
          ]
        }
      ]
    },
    {
      "cell_type": "code",
      "source": [
        "# Test Predictions\n",
        "Visualize_confusion_matrix(y_test, y_pred)"
      ],
      "metadata": {
        "colab": {
          "base_uri": "https://localhost:8080/",
          "height": 558
        },
        "id": "5ifpjAJR5pfV",
        "outputId": "c3c0793c-0054-4f88-bffd-d916d846f726"
      },
      "execution_count": 43,
      "outputs": [
        {
          "output_type": "display_data",
          "data": {
            "text/plain": [
              "<Figure size 504x360 with 2 Axes>"
            ],
            "image/png": "[encoded data removed]"
          },
          "metadata": {
            "needs_background": "light"
          }
        },
        {
          "output_type": "stream",
          "name": "stdout",
          "text": [
            "\n",
            "\n",
            "Classification Report:\n",
            "              precision    recall  f1-score   support\n",
            "\n",
            "           0       1.00      1.00      1.00        26\n",
            "           1       1.00      1.00      1.00        37\n",
            "\n",
            "    accuracy                           1.00        63\n",
            "   macro avg       1.00      1.00      1.00        63\n",
            "weighted avg       1.00      1.00      1.00        63\n",
            "\n"
          ]
        }
      ]
    },
    {
      "cell_type": "markdown",
      "source": [
        "3. KNN"
      ],
      "metadata": {
        "id": "6hyi21Mf7iHL"
      }
    },
    {
      "cell_type": "markdown",
      "source": [
        "Training the KNN model on the training set"
      ],
      "metadata": {
        "id": "rL6tuSA77iWG"
      }
    },
    {
      "cell_type": "code",
      "source": [
        "from sklearn.neighbors import KNeighborsClassifier\n",
        "KNN_model = KNeighborsClassifier(n_neighbors = 5, metric = 'minkowski', p = 2)\n",
        "KNN_model.fit(X_train, y_train)\n",
        "y_pred = KNN_model.predict(X_test)\n",
        "acc3 = accuracy_score(y_test, y_pred)"
      ],
      "metadata": {
        "id": "O7hjCAaK5pjf"
      },
      "execution_count": 44,
      "outputs": []
    },
    {
      "cell_type": "code",
      "source": [
        "# Train Score\n",
        "train_score = KNN_model.score(X_train, y_train)\n",
        "print('Training Score: %0.4f'% train_score)"
      ],
      "metadata": {
        "colab": {
          "base_uri": "https://localhost:8080/"
        },
        "id": "7WZJ7yZL5pmp",
        "outputId": "2ffcae9d-0d87-440d-e641-f652d8284213"
      },
      "execution_count": 45,
      "outputs": [
        {
          "output_type": "stream",
          "name": "stdout",
          "text": [
            "Training Score: 0.9893\n"
          ]
        }
      ]
    },
    {
      "cell_type": "markdown",
      "source": [
        "Testing of KNN on the tesing set"
      ],
      "metadata": {
        "id": "x4N8Bncb8Umh"
      }
    },
    {
      "cell_type": "code",
      "source": [
        "# Test score\n",
        "print('Recall score: %0.4f'% recall_score(y_test, y_pred))\n",
        "print('Precision score: %0.4f'% precision_score(y_test, y_pred))\n",
        "print('F1-Score: %0.4f'% f1_score(y_test, y_pred))\n",
        "print('Accuracy score: %0.4f'% accuracy_score(y_test, y_pred))"
      ],
      "metadata": {
        "colab": {
          "base_uri": "https://localhost:8080/"
        },
        "id": "JCrD6Okq5pqP",
        "outputId": "5284457e-c0e8-435c-b263-b839b3bf06fa"
      },
      "execution_count": 46,
      "outputs": [
        {
          "output_type": "stream",
          "name": "stdout",
          "text": [
            "Recall score: 0.9730\n",
            "Precision score: 1.0000\n",
            "F1-Score: 0.9863\n",
            "Accuracy score: 0.9841\n"
          ]
        }
      ]
    },
    {
      "cell_type": "code",
      "source": [
        "# Test Predictions\n",
        "Visualize_confusion_matrix(y_test, y_pred)"
      ],
      "metadata": {
        "colab": {
          "base_uri": "https://localhost:8080/",
          "height": 558
        },
        "id": "shTHiLaS5pt9",
        "outputId": "f3d7f0f9-cefa-4fd7-9aa7-e77d9ca047e5"
      },
      "execution_count": 47,
      "outputs": [
        {
          "output_type": "display_data",
          "data": {
            "text/plain": [
              "<Figure size 504x360 with 2 Axes>"
            ],
            "image/png": "[encoded data removed]"
          },
          "metadata": {
            "needs_background": "light"
          }
        },
        {
          "output_type": "stream",
          "name": "stdout",
          "text": [
            "\n",
            "\n",
            "Classification Report:\n",
            "              precision    recall  f1-score   support\n",
            "\n",
            "           0       0.96      1.00      0.98        26\n",
            "           1       1.00      0.97      0.99        37\n",
            "\n",
            "    accuracy                           0.98        63\n",
            "   macro avg       0.98      0.99      0.98        63\n",
            "weighted avg       0.98      0.98      0.98        63\n",
            "\n"
          ]
        }
      ]
    },
    {
      "cell_type": "markdown",
      "source": [
        "4. Decision Tree"
      ],
      "metadata": {
        "id": "d8hZxrY38pOE"
      }
    },
    {
      "cell_type": "markdown",
      "source": [
        "Training Decision Tree Classification on Train set"
      ],
      "metadata": {
        "id": "cw4nS0Yd8pX9"
      }
    },
    {
      "cell_type": "code",
      "source": [
        "from sklearn.tree import DecisionTreeClassifier\n",
        "DTR_model = DecisionTreeClassifier(criterion = 'entropy', random_state = 0)\n",
        "DTR_model.fit(X_train, y_train)\n",
        "y_pred = DTR_model.predict(X_test)\n",
        "acc4 = accuracy_score(y_test, y_pred)"
      ],
      "metadata": {
        "id": "Jgf6k3hW5pyH"
      },
      "execution_count": 48,
      "outputs": []
    },
    {
      "cell_type": "code",
      "source": [
        "# Train Score\n",
        "train_score = DTR_model.score(X_train, y_train)\n",
        "print('Training Score: %0.4f'% train_score)"
      ],
      "metadata": {
        "colab": {
          "base_uri": "https://localhost:8080/"
        },
        "id": "bpIEgY8n5p1r",
        "outputId": "26515fdd-75ec-4e61-ad1d-194e1c8e7df9"
      },
      "execution_count": 49,
      "outputs": [
        {
          "output_type": "stream",
          "name": "stdout",
          "text": [
            "Training Score: 1.0000\n"
          ]
        }
      ]
    },
    {
      "cell_type": "markdown",
      "source": [
        "Testing Decision Tree Classifier on the Testing Set"
      ],
      "metadata": {
        "id": "35TBD9HN84jB"
      }
    },
    {
      "cell_type": "code",
      "source": [
        "# Test score\n",
        "print('Recall score: %0.4f'% recall_score(y_test, y_pred))\n",
        "print('Precision score: %0.4f'% precision_score(y_test, y_pred))\n",
        "print('F1-Score: %0.4f'% f1_score(y_test, y_pred))\n",
        "print('Accuracy score: %0.4f'% accuracy_score(y_test, y_pred))"
      ],
      "metadata": {
        "colab": {
          "base_uri": "https://localhost:8080/"
        },
        "id": "ZhVhLEKe5p5i",
        "outputId": "a3440d79-d46f-4514-b50b-b1241aec158e"
      },
      "execution_count": 50,
      "outputs": [
        {
          "output_type": "stream",
          "name": "stdout",
          "text": [
            "Recall score: 0.9730\n",
            "Precision score: 1.0000\n",
            "F1-Score: 0.9863\n",
            "Accuracy score: 0.9841\n"
          ]
        }
      ]
    },
    {
      "cell_type": "code",
      "source": [
        "# Test Predictions\n",
        "Visualize_confusion_matrix(y_test, y_pred)"
      ],
      "metadata": {
        "colab": {
          "base_uri": "https://localhost:8080/",
          "height": 558
        },
        "id": "40KTL8EE5p9m",
        "outputId": "c939bef6-f912-41ab-f1c4-6904f55e2b01"
      },
      "execution_count": 51,
      "outputs": [
        {
          "output_type": "display_data",
          "data": {
            "text/plain": [
              "<Figure size 504x360 with 2 Axes>"
            ],
            "image/png": "[encoded data removed]"
          },
          "metadata": {
            "needs_background": "light"
          }
        },
        {
          "output_type": "stream",
          "name": "stdout",
          "text": [
            "\n",
            "\n",
            "Classification Report:\n",
            "              precision    recall  f1-score   support\n",
            "\n",
            "           0       0.96      1.00      0.98        26\n",
            "           1       1.00      0.97      0.99        37\n",
            "\n",
            "    accuracy                           0.98        63\n",
            "   macro avg       0.98      0.99      0.98        63\n",
            "weighted avg       0.98      0.98      0.98        63\n",
            "\n"
          ]
        }
      ]
    },
    {
      "cell_type": "markdown",
      "source": [
        "5.Random Forest"
      ],
      "metadata": {
        "id": "qgRr5Sgt9FwN"
      }
    },
    {
      "cell_type": "markdown",
      "source": [
        "Training the Random Foest classification on the Training set"
      ],
      "metadata": {
        "id": "OI3HLLV99F8L"
      }
    },
    {
      "cell_type": "code",
      "source": [
        "from sklearn.ensemble import RandomForestClassifier\n",
        "RF_model = RandomForestClassifier(n_estimators = 10, criterion = 'entropy', random_state = 0)\n",
        "RF_model.fit(X_train, y_train)\n",
        "y_pred = RF_model.predict(X_test)\n",
        "acc5 = accuracy_score(y_test, y_pred)"
      ],
      "metadata": {
        "id": "uYI9JyB85qBL"
      },
      "execution_count": 52,
      "outputs": []
    },
    {
      "cell_type": "code",
      "source": [
        "# Train Score\n",
        "train_score = RF_model.score(X_train, y_train)\n",
        "print('Training Score: %0.4f'% train_score)"
      ],
      "metadata": {
        "colab": {
          "base_uri": "https://localhost:8080/"
        },
        "id": "-DQVksxY9WIE",
        "outputId": "eef7e67f-f2cf-4f77-95c9-ef693b3e8b38"
      },
      "execution_count": 53,
      "outputs": [
        {
          "output_type": "stream",
          "name": "stdout",
          "text": [
            "Training Score: 1.0000\n"
          ]
        }
      ]
    },
    {
      "cell_type": "markdown",
      "source": [
        "Testing the Random classification model on the testing set"
      ],
      "metadata": {
        "id": "9KlCCp6H9dVl"
      }
    },
    {
      "cell_type": "code",
      "source": [
        "# Test score\n",
        "print('Recall score: %0.4f'% recall_score(y_test, y_pred))\n",
        "print('Precision score: %0.4f'% precision_score(y_test, y_pred))\n",
        "print('F1-Score: %0.4f'% f1_score(y_test, y_pred))\n",
        "print('Accuracy score: %0.4f'% accuracy_score(y_test, y_pred))"
      ],
      "metadata": {
        "colab": {
          "base_uri": "https://localhost:8080/"
        },
        "id": "x8sJT3_19WLx",
        "outputId": "23a5e3f7-5c15-4fc7-e02b-1a1c947aff0f"
      },
      "execution_count": 54,
      "outputs": [
        {
          "output_type": "stream",
          "name": "stdout",
          "text": [
            "Recall score: 1.0000\n",
            "Precision score: 1.0000\n",
            "F1-Score: 1.0000\n",
            "Accuracy score: 1.0000\n"
          ]
        }
      ]
    },
    {
      "cell_type": "code",
      "source": [
        "# Test Predictions\n",
        "Visualize_confusion_matrix(y_test, y_pred)"
      ],
      "metadata": {
        "colab": {
          "base_uri": "https://localhost:8080/",
          "height": 558
        },
        "id": "hvYgeGVh9WRB",
        "outputId": "78e5b582-1ac5-434d-d47a-a9894449c54a"
      },
      "execution_count": 55,
      "outputs": [
        {
          "output_type": "display_data",
          "data": {
            "text/plain": [
              "<Figure size 504x360 with 2 Axes>"
            ],
            "image/png": "[encoded data removed]"
          },
          "metadata": {
            "needs_background": "light"
          }
        },
        {
          "output_type": "stream",
          "name": "stdout",
          "text": [
            "\n",
            "\n",
            "Classification Report:\n",
            "              precision    recall  f1-score   support\n",
            "\n",
            "           0       1.00      1.00      1.00        26\n",
            "           1       1.00      1.00      1.00        37\n",
            "\n",
            "    accuracy                           1.00        63\n",
            "   macro avg       1.00      1.00      1.00        63\n",
            "weighted avg       1.00      1.00      1.00        63\n",
            "\n"
          ]
        }
      ]
    },
    {
      "cell_type": "markdown",
      "source": [
        "6. Support Vector Machine"
      ],
      "metadata": {
        "id": "5HuHbwfK9wIp"
      }
    },
    {
      "cell_type": "markdown",
      "source": [
        "Training the SVM on the training set"
      ],
      "metadata": {
        "id": "43oKs0xy-Go_"
      }
    },
    {
      "cell_type": "code",
      "source": [
        "from sklearn.svm import SVC\n",
        "SVM_model = SVC(kernel = 'linear', random_state = 0, probability=True)\n",
        "SVM_model.fit(X_train, y_train)\n",
        "y_pred = SVM_model.predict(X_test)\n",
        "acc6 = accuracy_score(y_test, y_pred)"
      ],
      "metadata": {
        "id": "kG2cN36r9WVf"
      },
      "execution_count": 56,
      "outputs": []
    },
    {
      "cell_type": "code",
      "source": [
        "# Train Score\n",
        "train_score = SVM_model.score(X_train, y_train)\n",
        "print('Training Score: %0.4f'% train_score)"
      ],
      "metadata": {
        "colab": {
          "base_uri": "https://localhost:8080/"
        },
        "id": "1URdL5dH9WZj",
        "outputId": "d038ead0-6259-4c56-d421-5e86cbedab90"
      },
      "execution_count": 57,
      "outputs": [
        {
          "output_type": "stream",
          "name": "stdout",
          "text": [
            "Training Score: 0.9947\n"
          ]
        }
      ]
    },
    {
      "cell_type": "markdown",
      "source": [
        "Testing the SVM on the testing set"
      ],
      "metadata": {
        "id": "RN9ZV3TP-M42"
      }
    },
    {
      "cell_type": "code",
      "source": [
        "# Test score\n",
        "print('Recall score: %0.4f'% recall_score(y_test, y_pred))\n",
        "print('Precision score: %0.4f'% precision_score(y_test, y_pred))\n",
        "print('F1-Score: %0.4f'% f1_score(y_test, y_pred))\n",
        "print('Accuracy score: %0.4f'% accuracy_score(y_test, y_pred))"
      ],
      "metadata": {
        "colab": {
          "base_uri": "https://localhost:8080/"
        },
        "id": "MB5RPTz39Wds",
        "outputId": "ab8a8d0f-9669-4ef4-8946-dcf4231c512b"
      },
      "execution_count": 58,
      "outputs": [
        {
          "output_type": "stream",
          "name": "stdout",
          "text": [
            "Recall score: 1.0000\n",
            "Precision score: 1.0000\n",
            "F1-Score: 1.0000\n",
            "Accuracy score: 1.0000\n"
          ]
        }
      ]
    },
    {
      "cell_type": "code",
      "source": [
        "# Test Predictions\n",
        "Visualize_confusion_matrix(y_test, y_pred)"
      ],
      "metadata": {
        "colab": {
          "base_uri": "https://localhost:8080/",
          "height": 558
        },
        "id": "sywPFSIh9WhJ",
        "outputId": "8d8049fd-0b9a-4ef2-8f50-8379415d21c7"
      },
      "execution_count": 59,
      "outputs": [
        {
          "output_type": "display_data",
          "data": {
            "text/plain": [
              "<Figure size 504x360 with 2 Axes>"
            ],
            "image/png": "[encoded data removed]"
          },
          "metadata": {
            "needs_background": "light"
          }
        },
        {
          "output_type": "stream",
          "name": "stdout",
          "text": [
            "\n",
            "\n",
            "Classification Report:\n",
            "              precision    recall  f1-score   support\n",
            "\n",
            "           0       1.00      1.00      1.00        26\n",
            "           1       1.00      1.00      1.00        37\n",
            "\n",
            "    accuracy                           1.00        63\n",
            "   macro avg       1.00      1.00      1.00        63\n",
            "weighted avg       1.00      1.00      1.00        63\n",
            "\n"
          ]
        }
      ]
    },
    {
      "cell_type": "markdown",
      "source": [
        "7.XGBoost"
      ],
      "metadata": {
        "id": "VYvwW5Ch-YBk"
      }
    },
    {
      "cell_type": "markdown",
      "source": [
        "Training the XGBoost model on the Training set"
      ],
      "metadata": {
        "id": "cC3eAlCz-YGE"
      }
    },
    {
      "cell_type": "code",
      "source": [
        "from xgboost import XGBClassifier\n",
        "XGB_model = XGBClassifier()\n",
        "XGB_model.fit(X_train, y_train)\n",
        "y_pred = XGB_model.predict(X_test)\n",
        "acc7 = accuracy_score(y_test, y_pred)"
      ],
      "metadata": {
        "id": "0Nz3k6hb9Wk2"
      },
      "execution_count": 60,
      "outputs": []
    },
    {
      "cell_type": "code",
      "source": [
        "# Train Score\n",
        "train_score = XGB_model.score(X_train, y_train)\n",
        "print('Training Score: %0.4f'% train_score)"
      ],
      "metadata": {
        "colab": {
          "base_uri": "https://localhost:8080/"
        },
        "id": "7mpnQVAM9WoW",
        "outputId": "64936349-6a67-4237-a948-1e0ac2c49854"
      },
      "execution_count": 61,
      "outputs": [
        {
          "output_type": "stream",
          "name": "stdout",
          "text": [
            "Training Score: 1.0000\n"
          ]
        }
      ]
    },
    {
      "cell_type": "markdown",
      "source": [
        "Testing the XGBoost on the training set"
      ],
      "metadata": {
        "id": "yLCzCXuq-pGh"
      }
    },
    {
      "cell_type": "code",
      "source": [
        "# Test score\n",
        "print('Recall score: %0.4f'% recall_score(y_test, y_pred))\n",
        "print('Precision score: %0.4f'% precision_score(y_test, y_pred))\n",
        "print('F1-Score: %0.4f'% f1_score(y_test, y_pred))\n",
        "print('Accuracy score: %0.4f'% accuracy_score(y_test, y_pred))"
      ],
      "metadata": {
        "colab": {
          "base_uri": "https://localhost:8080/"
        },
        "id": "99GYFNAt9WsN",
        "outputId": "62678ded-678b-498f-f344-f78c73df26c4"
      },
      "execution_count": 63,
      "outputs": [
        {
          "output_type": "stream",
          "name": "stdout",
          "text": [
            "Recall score: 1.0000\n",
            "Precision score: 1.0000\n",
            "F1-Score: 1.0000\n",
            "Accuracy score: 1.0000\n"
          ]
        }
      ]
    },
    {
      "cell_type": "code",
      "source": [
        "# Test Predictions\n",
        "Visualize_confusion_matrix(y_test, y_pred)"
      ],
      "metadata": {
        "colab": {
          "base_uri": "https://localhost:8080/",
          "height": 558
        },
        "id": "zEoZZwuJ9Wx7",
        "outputId": "b1c465ca-80c7-466f-f20a-189e08ac1800"
      },
      "execution_count": 64,
      "outputs": [
        {
          "output_type": "display_data",
          "data": {
            "text/plain": [
              "<Figure size 504x360 with 2 Axes>"
            ],
            "image/png": "[encoded data removed]"
          },
          "metadata": {
            "needs_background": "light"
          }
        },
        {
          "output_type": "stream",
          "name": "stdout",
          "text": [
            "\n",
            "\n",
            "Classification Report:\n",
            "              precision    recall  f1-score   support\n",
            "\n",
            "           0       1.00      1.00      1.00        26\n",
            "           1       1.00      1.00      1.00        37\n",
            "\n",
            "    accuracy                           1.00        63\n",
            "   macro avg       1.00      1.00      1.00        63\n",
            "weighted avg       1.00      1.00      1.00        63\n",
            "\n"
          ]
        }
      ]
    },
    {
      "cell_type": "markdown",
      "source": [
        "8.CatBoost"
      ],
      "metadata": {
        "id": "kr-AlAsh-3qX"
      }
    },
    {
      "cell_type": "markdown",
      "source": [
        "Training CatBoost on the Training Set"
      ],
      "metadata": {
        "id": "7cI7ZriT-3uT"
      }
    },
    {
      "cell_type": "code",
      "source": [
        "!pip install catboost"
      ],
      "metadata": {
        "colab": {
          "base_uri": "https://localhost:8080/"
        },
        "id": "swtDerX9ASXy",
        "outputId": "ca39e0c4-e6dd-4013-ec2b-21214d6e72cf"
      },
      "execution_count": 70,
      "outputs": [
        {
          "output_type": "stream",
          "name": "stdout",
          "text": [
            "Looking in indexes: https://pypi.org/simple, https://us-python.pkg.dev/colab-wheels/public/simple/\n",
            "Collecting catboost\n",
            "  Downloading catboost-1.1.1-cp38-none-manylinux1_x86_64.whl (76.6 MB)\n",
            "\u001b[2K     \u001b[90m━━━━━━━━━━━━━━━━━━━━━━━━━━━━━━━━━━━━━━━━\u001b[0m \u001b[32m76.6/76.6 MB\u001b[0m \u001b[31m8.3 MB/s\u001b[0m eta \u001b[36m0:00:00\u001b[0m\n",
            "\u001b[?25hRequirement already satisfied: plotly in /usr/local/lib/python3.8/dist-packages (from catboost) (5.5.0)\n",
            "Requirement already satisfied: graphviz in /usr/local/lib/python3.8/dist-packages (from catboost) (0.10.1)\n",
            "Requirement already satisfied: numpy>=1.16.0 in /usr/local/lib/python3.8/dist-packages (from catboost) (1.22.4)\n",
            "Requirement already satisfied: six in /usr/local/lib/python3.8/dist-packages (from catboost) (1.15.0)\n",
            "Requirement already satisfied: pandas>=0.24.0 in /usr/local/lib/python3.8/dist-packages (from catboost) (1.3.5)\n",
            "Requirement already satisfied: matplotlib in /usr/local/lib/python3.8/dist-packages (from catboost) (3.2.2)\n",
            "Requirement already satisfied: scipy in /usr/local/lib/python3.8/dist-packages (from catboost) (1.7.3)\n",
            "Requirement already satisfied: pytz>=2017.3 in /usr/local/lib/python3.8/dist-packages (from pandas>=0.24.0->catboost) (2022.7.1)\n",
            "Requirement already satisfied: python-dateutil>=2.7.3 in /usr/local/lib/python3.8/dist-packages (from pandas>=0.24.0->catboost) (2.8.2)\n",
            "Requirement already satisfied: cycler>=0.10 in /usr/local/lib/python3.8/dist-packages (from matplotlib->catboost) (0.11.0)\n",
            "Requirement already satisfied: pyparsing!=2.0.4,!=2.1.2,!=2.1.6,>=2.0.1 in /usr/local/lib/python3.8/dist-packages (from matplotlib->catboost) (3.0.9)\n",
            "Requirement already satisfied: kiwisolver>=1.0.1 in /usr/local/lib/python3.8/dist-packages (from matplotlib->catboost) (1.4.4)\n",
            "Requirement already satisfied: tenacity>=6.2.0 in /usr/local/lib/python3.8/dist-packages (from plotly->catboost) (8.2.1)\n",
            "Installing collected packages: catboost\n",
            "Successfully installed catboost-1.1.1\n"
          ]
        }
      ]
    },
    {
      "cell_type": "code",
      "source": [
        "from catboost import CatBoostClassifier\n",
        "catboost_model = CatBoostClassifier()\n",
        "catboost_model.fit(X_train, y_train)\n",
        "y_pred = catboost_model.predict(X_test)\n",
        "acc8 = accuracy_score(y_test, y_pred)"
      ],
      "metadata": {
        "colab": {
          "base_uri": "https://localhost:8080/"
        },
        "id": "RQrauomf9W3s",
        "outputId": "05bc7ab5-42ef-4bdc-9d77-077ed16159d5"
      },
      "execution_count": 71,
      "outputs": [
        {
          "output_type": "stream",
          "name": "stdout",
          "text": [
            "Learning rate set to 0.005035\n",
            "0:\tlearn: 0.6833416\ttotal: 47.1ms\tremaining: 47.1s\n",
            "1:\tlearn: 0.6733467\ttotal: 48.2ms\tremaining: 24.1s\n",
            "2:\tlearn: 0.6640309\ttotal: 48.9ms\tremaining: 16.2s\n",
            "3:\tlearn: 0.6521851\ttotal: 49.7ms\tremaining: 12.4s\n",
            "4:\tlearn: 0.6459277\ttotal: 50.7ms\tremaining: 10.1s\n",
            "5:\tlearn: 0.6385954\ttotal: 51.5ms\tremaining: 8.53s\n",
            "6:\tlearn: 0.6302216\ttotal: 52.2ms\tremaining: 7.4s\n",
            "7:\tlearn: 0.6214720\ttotal: 52.8ms\tremaining: 6.55s\n",
            "8:\tlearn: 0.6149495\ttotal: 53.5ms\tremaining: 5.89s\n",
            "9:\tlearn: 0.6072891\ttotal: 54.3ms\tremaining: 5.37s\n",
            "10:\tlearn: 0.5997448\ttotal: 55ms\tremaining: 4.94s\n",
            "11:\tlearn: 0.5920624\ttotal: 55.7ms\tremaining: 4.58s\n",
            "12:\tlearn: 0.5826525\ttotal: 56.4ms\tremaining: 4.28s\n",
            "13:\tlearn: 0.5741440\ttotal: 57.2ms\tremaining: 4.03s\n",
            "14:\tlearn: 0.5674722\ttotal: 57.9ms\tremaining: 3.8s\n",
            "15:\tlearn: 0.5596726\ttotal: 58.9ms\tremaining: 3.62s\n",
            "16:\tlearn: 0.5528934\ttotal: 59.5ms\tremaining: 3.44s\n",
            "17:\tlearn: 0.5465110\ttotal: 60.2ms\tremaining: 3.29s\n",
            "18:\tlearn: 0.5390926\ttotal: 61ms\tremaining: 3.15s\n",
            "19:\tlearn: 0.5327534\ttotal: 61.6ms\tremaining: 3.02s\n",
            "20:\tlearn: 0.5248832\ttotal: 62.5ms\tremaining: 2.91s\n",
            "21:\tlearn: 0.5166303\ttotal: 63.1ms\tremaining: 2.81s\n",
            "22:\tlearn: 0.5094918\ttotal: 63.8ms\tremaining: 2.71s\n",
            "23:\tlearn: 0.5026178\ttotal: 64.4ms\tremaining: 2.62s\n",
            "24:\tlearn: 0.4958214\ttotal: 65.1ms\tremaining: 2.54s\n",
            "25:\tlearn: 0.4903408\ttotal: 65.8ms\tremaining: 2.47s\n",
            "26:\tlearn: 0.4859228\ttotal: 66.7ms\tremaining: 2.4s\n",
            "27:\tlearn: 0.4801707\ttotal: 67.4ms\tremaining: 2.34s\n",
            "28:\tlearn: 0.4743690\ttotal: 68.1ms\tremaining: 2.28s\n",
            "29:\tlearn: 0.4683678\ttotal: 68.7ms\tremaining: 2.22s\n",
            "30:\tlearn: 0.4630021\ttotal: 69.4ms\tremaining: 2.17s\n",
            "31:\tlearn: 0.4574937\ttotal: 70.1ms\tremaining: 2.12s\n",
            "32:\tlearn: 0.4524513\ttotal: 70.8ms\tremaining: 2.08s\n",
            "33:\tlearn: 0.4464487\ttotal: 71.5ms\tremaining: 2.03s\n",
            "34:\tlearn: 0.4390188\ttotal: 72.1ms\tremaining: 1.99s\n",
            "35:\tlearn: 0.4331638\ttotal: 72.7ms\tremaining: 1.95s\n",
            "36:\tlearn: 0.4287653\ttotal: 73.4ms\tremaining: 1.91s\n",
            "37:\tlearn: 0.4232170\ttotal: 74.3ms\tremaining: 1.88s\n",
            "38:\tlearn: 0.4178078\ttotal: 75ms\tremaining: 1.85s\n",
            "39:\tlearn: 0.4130851\ttotal: 76.3ms\tremaining: 1.83s\n",
            "40:\tlearn: 0.4062793\ttotal: 77.5ms\tremaining: 1.81s\n",
            "41:\tlearn: 0.4003812\ttotal: 78.6ms\tremaining: 1.79s\n",
            "42:\tlearn: 0.3934249\ttotal: 78.9ms\tremaining: 1.75s\n",
            "43:\tlearn: 0.3886036\ttotal: 79.2ms\tremaining: 1.72s\n",
            "44:\tlearn: 0.3843071\ttotal: 79.6ms\tremaining: 1.69s\n",
            "45:\tlearn: 0.3792021\ttotal: 80ms\tremaining: 1.66s\n",
            "46:\tlearn: 0.3734816\ttotal: 80.4ms\tremaining: 1.63s\n",
            "47:\tlearn: 0.3689352\ttotal: 80.9ms\tremaining: 1.6s\n",
            "48:\tlearn: 0.3649509\ttotal: 81.4ms\tremaining: 1.58s\n",
            "49:\tlearn: 0.3611487\ttotal: 81.8ms\tremaining: 1.55s\n",
            "50:\tlearn: 0.3554384\ttotal: 82.2ms\tremaining: 1.53s\n",
            "51:\tlearn: 0.3508572\ttotal: 82.6ms\tremaining: 1.5s\n",
            "52:\tlearn: 0.3463847\ttotal: 82.9ms\tremaining: 1.48s\n",
            "53:\tlearn: 0.3424434\ttotal: 83.3ms\tremaining: 1.46s\n",
            "54:\tlearn: 0.3384123\ttotal: 83.8ms\tremaining: 1.44s\n",
            "55:\tlearn: 0.3347469\ttotal: 84.5ms\tremaining: 1.42s\n",
            "56:\tlearn: 0.3297261\ttotal: 85.4ms\tremaining: 1.41s\n",
            "57:\tlearn: 0.3258360\ttotal: 86.2ms\tremaining: 1.4s\n",
            "58:\tlearn: 0.3213637\ttotal: 86.8ms\tremaining: 1.38s\n",
            "59:\tlearn: 0.3181658\ttotal: 87.5ms\tremaining: 1.37s\n",
            "60:\tlearn: 0.3149213\ttotal: 88.3ms\tremaining: 1.36s\n",
            "61:\tlearn: 0.3113112\ttotal: 89ms\tremaining: 1.35s\n",
            "62:\tlearn: 0.3081184\ttotal: 89.7ms\tremaining: 1.33s\n",
            "63:\tlearn: 0.3045557\ttotal: 90.4ms\tremaining: 1.32s\n",
            "64:\tlearn: 0.3007603\ttotal: 91.1ms\tremaining: 1.31s\n",
            "65:\tlearn: 0.2969386\ttotal: 91.8ms\tremaining: 1.3s\n",
            "66:\tlearn: 0.2930648\ttotal: 92.5ms\tremaining: 1.29s\n",
            "67:\tlearn: 0.2904436\ttotal: 93.2ms\tremaining: 1.28s\n",
            "68:\tlearn: 0.2872811\ttotal: 93.9ms\tremaining: 1.27s\n",
            "69:\tlearn: 0.2841740\ttotal: 94.6ms\tremaining: 1.26s\n",
            "70:\tlearn: 0.2811135\ttotal: 95.3ms\tremaining: 1.25s\n",
            "71:\tlearn: 0.2771861\ttotal: 95.9ms\tremaining: 1.24s\n",
            "72:\tlearn: 0.2728940\ttotal: 96.6ms\tremaining: 1.23s\n",
            "73:\tlearn: 0.2702909\ttotal: 97.7ms\tremaining: 1.22s\n",
            "74:\tlearn: 0.2672045\ttotal: 98.3ms\tremaining: 1.21s\n",
            "75:\tlearn: 0.2638869\ttotal: 99ms\tremaining: 1.2s\n",
            "76:\tlearn: 0.2612422\ttotal: 99.7ms\tremaining: 1.2s\n",
            "77:\tlearn: 0.2581687\ttotal: 100ms\tremaining: 1.19s\n",
            "78:\tlearn: 0.2553207\ttotal: 101ms\tremaining: 1.18s\n",
            "79:\tlearn: 0.2516714\ttotal: 102ms\tremaining: 1.17s\n",
            "80:\tlearn: 0.2492892\ttotal: 102ms\tremaining: 1.16s\n",
            "81:\tlearn: 0.2464017\ttotal: 103ms\tremaining: 1.15s\n",
            "82:\tlearn: 0.2432868\ttotal: 104ms\tremaining: 1.14s\n",
            "83:\tlearn: 0.2410690\ttotal: 104ms\tremaining: 1.14s\n",
            "84:\tlearn: 0.2378275\ttotal: 105ms\tremaining: 1.13s\n",
            "85:\tlearn: 0.2351255\ttotal: 106ms\tremaining: 1.12s\n",
            "86:\tlearn: 0.2320435\ttotal: 106ms\tremaining: 1.11s\n",
            "87:\tlearn: 0.2295643\ttotal: 107ms\tremaining: 1.11s\n",
            "88:\tlearn: 0.2266341\ttotal: 108ms\tremaining: 1.1s\n",
            "89:\tlearn: 0.2230536\ttotal: 108ms\tremaining: 1.1s\n",
            "90:\tlearn: 0.2210789\ttotal: 109ms\tremaining: 1.09s\n",
            "91:\tlearn: 0.2182882\ttotal: 110ms\tremaining: 1.08s\n",
            "92:\tlearn: 0.2162123\ttotal: 111ms\tremaining: 1.08s\n",
            "93:\tlearn: 0.2140078\ttotal: 112ms\tremaining: 1.07s\n",
            "94:\tlearn: 0.2110815\ttotal: 112ms\tremaining: 1.07s\n",
            "95:\tlearn: 0.2087290\ttotal: 113ms\tremaining: 1.06s\n",
            "96:\tlearn: 0.2058875\ttotal: 114ms\tremaining: 1.06s\n",
            "97:\tlearn: 0.2033033\ttotal: 114ms\tremaining: 1.05s\n",
            "98:\tlearn: 0.2010216\ttotal: 115ms\tremaining: 1.05s\n",
            "99:\tlearn: 0.1990782\ttotal: 116ms\tremaining: 1.04s\n",
            "100:\tlearn: 0.1971454\ttotal: 117ms\tremaining: 1.04s\n",
            "101:\tlearn: 0.1950319\ttotal: 117ms\tremaining: 1.03s\n",
            "102:\tlearn: 0.1932608\ttotal: 118ms\tremaining: 1.03s\n",
            "103:\tlearn: 0.1912428\ttotal: 119ms\tremaining: 1.03s\n",
            "104:\tlearn: 0.1897219\ttotal: 120ms\tremaining: 1.02s\n",
            "105:\tlearn: 0.1877680\ttotal: 121ms\tremaining: 1.02s\n",
            "106:\tlearn: 0.1853158\ttotal: 122ms\tremaining: 1.02s\n",
            "107:\tlearn: 0.1837682\ttotal: 122ms\tremaining: 1.01s\n",
            "108:\tlearn: 0.1815224\ttotal: 123ms\tremaining: 1s\n",
            "109:\tlearn: 0.1787851\ttotal: 124ms\tremaining: 1s\n",
            "110:\tlearn: 0.1767245\ttotal: 125ms\tremaining: 998ms\n",
            "111:\tlearn: 0.1752487\ttotal: 125ms\tremaining: 994ms\n",
            "112:\tlearn: 0.1736646\ttotal: 126ms\tremaining: 989ms\n",
            "113:\tlearn: 0.1722022\ttotal: 127ms\tremaining: 985ms\n",
            "114:\tlearn: 0.1702215\ttotal: 128ms\tremaining: 982ms\n",
            "115:\tlearn: 0.1681270\ttotal: 128ms\tremaining: 978ms\n",
            "116:\tlearn: 0.1664323\ttotal: 129ms\tremaining: 974ms\n",
            "117:\tlearn: 0.1647443\ttotal: 130ms\tremaining: 970ms\n",
            "118:\tlearn: 0.1633322\ttotal: 131ms\tremaining: 967ms\n",
            "119:\tlearn: 0.1619745\ttotal: 131ms\tremaining: 964ms\n",
            "120:\tlearn: 0.1606066\ttotal: 132ms\tremaining: 960ms\n",
            "121:\tlearn: 0.1592545\ttotal: 133ms\tremaining: 957ms\n",
            "122:\tlearn: 0.1570790\ttotal: 134ms\tremaining: 953ms\n",
            "123:\tlearn: 0.1558106\ttotal: 134ms\tremaining: 950ms\n",
            "124:\tlearn: 0.1547021\ttotal: 135ms\tremaining: 948ms\n",
            "125:\tlearn: 0.1535136\ttotal: 136ms\tremaining: 944ms\n",
            "126:\tlearn: 0.1517342\ttotal: 137ms\tremaining: 940ms\n",
            "127:\tlearn: 0.1502768\ttotal: 137ms\tremaining: 936ms\n",
            "128:\tlearn: 0.1490612\ttotal: 138ms\tremaining: 933ms\n",
            "129:\tlearn: 0.1473117\ttotal: 139ms\tremaining: 929ms\n",
            "130:\tlearn: 0.1457235\ttotal: 140ms\tremaining: 926ms\n",
            "131:\tlearn: 0.1446060\ttotal: 140ms\tremaining: 922ms\n",
            "132:\tlearn: 0.1436083\ttotal: 141ms\tremaining: 919ms\n",
            "133:\tlearn: 0.1424732\ttotal: 142ms\tremaining: 915ms\n",
            "134:\tlearn: 0.1410240\ttotal: 142ms\tremaining: 912ms\n",
            "135:\tlearn: 0.1396142\ttotal: 143ms\tremaining: 908ms\n",
            "136:\tlearn: 0.1376487\ttotal: 144ms\tremaining: 905ms\n",
            "137:\tlearn: 0.1361375\ttotal: 144ms\tremaining: 901ms\n",
            "138:\tlearn: 0.1351282\ttotal: 145ms\tremaining: 897ms\n",
            "139:\tlearn: 0.1338336\ttotal: 146ms\tremaining: 894ms\n",
            "140:\tlearn: 0.1327274\ttotal: 146ms\tremaining: 891ms\n",
            "141:\tlearn: 0.1315068\ttotal: 147ms\tremaining: 888ms\n",
            "142:\tlearn: 0.1306380\ttotal: 148ms\tremaining: 885ms\n",
            "143:\tlearn: 0.1296484\ttotal: 148ms\tremaining: 882ms\n",
            "144:\tlearn: 0.1285491\ttotal: 149ms\tremaining: 879ms\n",
            "145:\tlearn: 0.1274088\ttotal: 150ms\tremaining: 876ms\n",
            "146:\tlearn: 0.1260791\ttotal: 150ms\tremaining: 873ms\n",
            "147:\tlearn: 0.1250232\ttotal: 151ms\tremaining: 870ms\n",
            "148:\tlearn: 0.1234257\ttotal: 152ms\tremaining: 867ms\n",
            "149:\tlearn: 0.1222909\ttotal: 152ms\tremaining: 864ms\n",
            "150:\tlearn: 0.1215848\ttotal: 153ms\tremaining: 861ms\n",
            "151:\tlearn: 0.1204821\ttotal: 154ms\tremaining: 858ms\n",
            "152:\tlearn: 0.1190406\ttotal: 154ms\tremaining: 855ms\n",
            "153:\tlearn: 0.1181353\ttotal: 155ms\tremaining: 852ms\n",
            "154:\tlearn: 0.1170150\ttotal: 156ms\tremaining: 849ms\n",
            "155:\tlearn: 0.1159927\ttotal: 156ms\tremaining: 846ms\n",
            "156:\tlearn: 0.1151405\ttotal: 157ms\tremaining: 844ms\n",
            "157:\tlearn: 0.1139537\ttotal: 158ms\tremaining: 841ms\n",
            "158:\tlearn: 0.1127331\ttotal: 158ms\tremaining: 838ms\n",
            "159:\tlearn: 0.1119159\ttotal: 159ms\tremaining: 836ms\n",
            "160:\tlearn: 0.1107195\ttotal: 160ms\tremaining: 833ms\n",
            "161:\tlearn: 0.1096416\ttotal: 161ms\tremaining: 830ms\n",
            "162:\tlearn: 0.1090012\ttotal: 161ms\tremaining: 828ms\n",
            "163:\tlearn: 0.1079946\ttotal: 162ms\tremaining: 825ms\n",
            "164:\tlearn: 0.1070176\ttotal: 163ms\tremaining: 823ms\n",
            "165:\tlearn: 0.1057178\ttotal: 163ms\tremaining: 820ms\n",
            "166:\tlearn: 0.1049149\ttotal: 164ms\tremaining: 818ms\n",
            "167:\tlearn: 0.1042138\ttotal: 165ms\tremaining: 816ms\n",
            "168:\tlearn: 0.1032512\ttotal: 165ms\tremaining: 813ms\n",
            "169:\tlearn: 0.1024062\ttotal: 166ms\tremaining: 811ms\n",
            "170:\tlearn: 0.1014740\ttotal: 167ms\tremaining: 809ms\n",
            "171:\tlearn: 0.1008161\ttotal: 168ms\tremaining: 806ms\n",
            "172:\tlearn: 0.1001544\ttotal: 168ms\tremaining: 804ms\n",
            "173:\tlearn: 0.0993964\ttotal: 169ms\tremaining: 802ms\n",
            "174:\tlearn: 0.0987701\ttotal: 170ms\tremaining: 800ms\n",
            "175:\tlearn: 0.0980387\ttotal: 170ms\tremaining: 798ms\n",
            "176:\tlearn: 0.0973339\ttotal: 171ms\tremaining: 796ms\n",
            "177:\tlearn: 0.0966718\ttotal: 172ms\tremaining: 793ms\n",
            "178:\tlearn: 0.0960304\ttotal: 173ms\tremaining: 791ms\n",
            "179:\tlearn: 0.0952082\ttotal: 173ms\tremaining: 789ms\n",
            "180:\tlearn: 0.0944283\ttotal: 175ms\tremaining: 792ms\n",
            "181:\tlearn: 0.0936547\ttotal: 175ms\tremaining: 789ms\n",
            "182:\tlearn: 0.0929267\ttotal: 176ms\tremaining: 785ms\n",
            "183:\tlearn: 0.0919449\ttotal: 176ms\tremaining: 782ms\n",
            "184:\tlearn: 0.0910688\ttotal: 177ms\tremaining: 778ms\n",
            "185:\tlearn: 0.0905892\ttotal: 177ms\tremaining: 775ms\n",
            "186:\tlearn: 0.0897258\ttotal: 183ms\tremaining: 797ms\n",
            "187:\tlearn: 0.0891520\ttotal: 185ms\tremaining: 798ms\n",
            "188:\tlearn: 0.0885142\ttotal: 186ms\tremaining: 797ms\n",
            "189:\tlearn: 0.0877363\ttotal: 187ms\tremaining: 797ms\n",
            "190:\tlearn: 0.0871202\ttotal: 187ms\tremaining: 794ms\n",
            "191:\tlearn: 0.0864911\ttotal: 188ms\tremaining: 791ms\n",
            "192:\tlearn: 0.0858264\ttotal: 188ms\tremaining: 787ms\n",
            "193:\tlearn: 0.0850499\ttotal: 189ms\tremaining: 784ms\n",
            "194:\tlearn: 0.0843048\ttotal: 189ms\tremaining: 781ms\n",
            "195:\tlearn: 0.0838256\ttotal: 190ms\tremaining: 778ms\n",
            "196:\tlearn: 0.0829798\ttotal: 190ms\tremaining: 776ms\n",
            "197:\tlearn: 0.0823168\ttotal: 191ms\tremaining: 774ms\n",
            "198:\tlearn: 0.0817017\ttotal: 192ms\tremaining: 772ms\n",
            "199:\tlearn: 0.0812090\ttotal: 192ms\tremaining: 770ms\n",
            "200:\tlearn: 0.0803119\ttotal: 193ms\tremaining: 767ms\n",
            "201:\tlearn: 0.0797434\ttotal: 194ms\tremaining: 766ms\n",
            "202:\tlearn: 0.0790624\ttotal: 195ms\tremaining: 764ms\n",
            "203:\tlearn: 0.0785518\ttotal: 195ms\tremaining: 762ms\n",
            "204:\tlearn: 0.0776953\ttotal: 196ms\tremaining: 760ms\n",
            "205:\tlearn: 0.0771664\ttotal: 197ms\tremaining: 758ms\n",
            "206:\tlearn: 0.0764992\ttotal: 197ms\tremaining: 756ms\n",
            "207:\tlearn: 0.0758193\ttotal: 198ms\tremaining: 755ms\n",
            "208:\tlearn: 0.0752807\ttotal: 199ms\tremaining: 754ms\n",
            "209:\tlearn: 0.0748591\ttotal: 200ms\tremaining: 752ms\n",
            "210:\tlearn: 0.0744216\ttotal: 201ms\tremaining: 750ms\n",
            "211:\tlearn: 0.0736260\ttotal: 201ms\tremaining: 748ms\n",
            "212:\tlearn: 0.0730687\ttotal: 202ms\tremaining: 746ms\n",
            "213:\tlearn: 0.0724509\ttotal: 203ms\tremaining: 744ms\n",
            "214:\tlearn: 0.0720642\ttotal: 204ms\tremaining: 744ms\n",
            "215:\tlearn: 0.0714356\ttotal: 204ms\tremaining: 742ms\n",
            "216:\tlearn: 0.0708859\ttotal: 205ms\tremaining: 740ms\n",
            "217:\tlearn: 0.0703418\ttotal: 206ms\tremaining: 738ms\n",
            "218:\tlearn: 0.0698159\ttotal: 206ms\tremaining: 736ms\n",
            "219:\tlearn: 0.0694198\ttotal: 207ms\tremaining: 734ms\n",
            "220:\tlearn: 0.0689174\ttotal: 208ms\tremaining: 733ms\n",
            "221:\tlearn: 0.0682013\ttotal: 209ms\tremaining: 731ms\n",
            "222:\tlearn: 0.0676994\ttotal: 209ms\tremaining: 729ms\n",
            "223:\tlearn: 0.0673616\ttotal: 210ms\tremaining: 727ms\n",
            "224:\tlearn: 0.0670171\ttotal: 211ms\tremaining: 726ms\n",
            "225:\tlearn: 0.0664197\ttotal: 211ms\tremaining: 724ms\n",
            "226:\tlearn: 0.0660833\ttotal: 212ms\tremaining: 722ms\n",
            "227:\tlearn: 0.0657313\ttotal: 213ms\tremaining: 721ms\n",
            "228:\tlearn: 0.0652829\ttotal: 214ms\tremaining: 719ms\n",
            "229:\tlearn: 0.0649372\ttotal: 214ms\tremaining: 716ms\n",
            "230:\tlearn: 0.0644688\ttotal: 215ms\tremaining: 714ms\n",
            "231:\tlearn: 0.0641304\ttotal: 215ms\tremaining: 713ms\n",
            "232:\tlearn: 0.0636933\ttotal: 216ms\tremaining: 711ms\n",
            "233:\tlearn: 0.0630529\ttotal: 217ms\tremaining: 710ms\n",
            "234:\tlearn: 0.0626978\ttotal: 218ms\tremaining: 708ms\n",
            "235:\tlearn: 0.0620915\ttotal: 218ms\tremaining: 707ms\n",
            "236:\tlearn: 0.0616917\ttotal: 219ms\tremaining: 705ms\n",
            "237:\tlearn: 0.0613050\ttotal: 220ms\tremaining: 703ms\n",
            "238:\tlearn: 0.0606974\ttotal: 220ms\tremaining: 701ms\n",
            "239:\tlearn: 0.0603956\ttotal: 221ms\tremaining: 700ms\n",
            "240:\tlearn: 0.0601327\ttotal: 222ms\tremaining: 698ms\n",
            "241:\tlearn: 0.0597285\ttotal: 222ms\tremaining: 697ms\n",
            "242:\tlearn: 0.0593879\ttotal: 223ms\tremaining: 694ms\n",
            "243:\tlearn: 0.0589739\ttotal: 224ms\tremaining: 693ms\n",
            "244:\tlearn: 0.0586614\ttotal: 224ms\tremaining: 692ms\n",
            "245:\tlearn: 0.0583517\ttotal: 225ms\tremaining: 690ms\n",
            "246:\tlearn: 0.0579166\ttotal: 226ms\tremaining: 689ms\n",
            "247:\tlearn: 0.0575416\ttotal: 227ms\tremaining: 688ms\n",
            "248:\tlearn: 0.0572489\ttotal: 227ms\tremaining: 686ms\n",
            "249:\tlearn: 0.0568749\ttotal: 228ms\tremaining: 685ms\n",
            "250:\tlearn: 0.0565354\ttotal: 229ms\tremaining: 683ms\n",
            "251:\tlearn: 0.0562848\ttotal: 230ms\tremaining: 682ms\n",
            "252:\tlearn: 0.0558734\ttotal: 230ms\tremaining: 680ms\n",
            "253:\tlearn: 0.0555236\ttotal: 231ms\tremaining: 678ms\n",
            "254:\tlearn: 0.0551703\ttotal: 232ms\tremaining: 677ms\n",
            "255:\tlearn: 0.0548607\ttotal: 232ms\tremaining: 676ms\n",
            "256:\tlearn: 0.0544658\ttotal: 233ms\tremaining: 674ms\n",
            "257:\tlearn: 0.0542149\ttotal: 234ms\tremaining: 673ms\n",
            "258:\tlearn: 0.0539475\ttotal: 235ms\tremaining: 672ms\n",
            "259:\tlearn: 0.0535643\ttotal: 236ms\tremaining: 671ms\n",
            "260:\tlearn: 0.0532047\ttotal: 236ms\tremaining: 669ms\n",
            "261:\tlearn: 0.0528724\ttotal: 237ms\tremaining: 668ms\n",
            "262:\tlearn: 0.0524839\ttotal: 238ms\tremaining: 667ms\n",
            "263:\tlearn: 0.0522514\ttotal: 239ms\tremaining: 666ms\n",
            "264:\tlearn: 0.0519050\ttotal: 240ms\tremaining: 665ms\n",
            "265:\tlearn: 0.0515636\ttotal: 240ms\tremaining: 663ms\n",
            "266:\tlearn: 0.0512600\ttotal: 241ms\tremaining: 662ms\n",
            "267:\tlearn: 0.0510245\ttotal: 242ms\tremaining: 661ms\n",
            "268:\tlearn: 0.0507616\ttotal: 243ms\tremaining: 660ms\n",
            "269:\tlearn: 0.0504882\ttotal: 244ms\tremaining: 658ms\n",
            "270:\tlearn: 0.0500415\ttotal: 244ms\tremaining: 657ms\n",
            "271:\tlearn: 0.0497765\ttotal: 245ms\tremaining: 656ms\n",
            "272:\tlearn: 0.0495321\ttotal: 246ms\tremaining: 655ms\n",
            "273:\tlearn: 0.0492645\ttotal: 247ms\tremaining: 653ms\n",
            "274:\tlearn: 0.0490439\ttotal: 247ms\tremaining: 652ms\n",
            "275:\tlearn: 0.0487004\ttotal: 248ms\tremaining: 651ms\n",
            "276:\tlearn: 0.0484080\ttotal: 249ms\tremaining: 649ms\n",
            "277:\tlearn: 0.0480567\ttotal: 249ms\tremaining: 648ms\n",
            "278:\tlearn: 0.0478348\ttotal: 250ms\tremaining: 647ms\n",
            "279:\tlearn: 0.0475819\ttotal: 251ms\tremaining: 646ms\n",
            "280:\tlearn: 0.0473787\ttotal: 252ms\tremaining: 645ms\n",
            "281:\tlearn: 0.0470813\ttotal: 253ms\tremaining: 643ms\n",
            "282:\tlearn: 0.0468817\ttotal: 253ms\tremaining: 642ms\n",
            "283:\tlearn: 0.0466160\ttotal: 254ms\tremaining: 641ms\n",
            "284:\tlearn: 0.0464264\ttotal: 255ms\tremaining: 640ms\n",
            "285:\tlearn: 0.0460877\ttotal: 256ms\tremaining: 639ms\n",
            "286:\tlearn: 0.0458944\ttotal: 257ms\tremaining: 637ms\n",
            "287:\tlearn: 0.0455518\ttotal: 257ms\tremaining: 636ms\n",
            "288:\tlearn: 0.0453511\ttotal: 258ms\tremaining: 634ms\n",
            "289:\tlearn: 0.0451584\ttotal: 259ms\tremaining: 633ms\n",
            "290:\tlearn: 0.0449107\ttotal: 259ms\tremaining: 632ms\n",
            "291:\tlearn: 0.0447107\ttotal: 260ms\tremaining: 631ms\n",
            "292:\tlearn: 0.0445290\ttotal: 261ms\tremaining: 629ms\n",
            "293:\tlearn: 0.0442597\ttotal: 262ms\tremaining: 628ms\n",
            "294:\tlearn: 0.0440225\ttotal: 262ms\tremaining: 627ms\n",
            "295:\tlearn: 0.0438393\ttotal: 263ms\tremaining: 625ms\n",
            "296:\tlearn: 0.0435449\ttotal: 264ms\tremaining: 624ms\n",
            "297:\tlearn: 0.0432545\ttotal: 264ms\tremaining: 623ms\n",
            "298:\tlearn: 0.0430328\ttotal: 265ms\tremaining: 621ms\n",
            "299:\tlearn: 0.0427217\ttotal: 266ms\tremaining: 620ms\n",
            "300:\tlearn: 0.0425188\ttotal: 266ms\tremaining: 619ms\n",
            "301:\tlearn: 0.0422420\ttotal: 267ms\tremaining: 617ms\n",
            "302:\tlearn: 0.0420350\ttotal: 268ms\tremaining: 616ms\n",
            "303:\tlearn: 0.0418387\ttotal: 269ms\tremaining: 615ms\n",
            "304:\tlearn: 0.0416236\ttotal: 269ms\tremaining: 613ms\n",
            "305:\tlearn: 0.0414217\ttotal: 270ms\tremaining: 612ms\n",
            "306:\tlearn: 0.0412698\ttotal: 271ms\tremaining: 611ms\n",
            "307:\tlearn: 0.0410669\ttotal: 271ms\tremaining: 610ms\n",
            "308:\tlearn: 0.0409021\ttotal: 272ms\tremaining: 609ms\n",
            "309:\tlearn: 0.0406341\ttotal: 273ms\tremaining: 608ms\n",
            "310:\tlearn: 0.0402962\ttotal: 274ms\tremaining: 606ms\n",
            "311:\tlearn: 0.0400461\ttotal: 274ms\tremaining: 605ms\n",
            "312:\tlearn: 0.0398432\ttotal: 275ms\tremaining: 604ms\n",
            "313:\tlearn: 0.0396835\ttotal: 276ms\tremaining: 602ms\n",
            "314:\tlearn: 0.0394755\ttotal: 279ms\tremaining: 607ms\n",
            "315:\tlearn: 0.0393286\ttotal: 280ms\tremaining: 605ms\n",
            "316:\tlearn: 0.0391636\ttotal: 280ms\tremaining: 604ms\n",
            "317:\tlearn: 0.0389921\ttotal: 287ms\tremaining: 616ms\n",
            "318:\tlearn: 0.0388230\ttotal: 288ms\tremaining: 615ms\n",
            "319:\tlearn: 0.0385904\ttotal: 289ms\tremaining: 613ms\n",
            "320:\tlearn: 0.0384308\ttotal: 289ms\tremaining: 612ms\n",
            "321:\tlearn: 0.0382855\ttotal: 290ms\tremaining: 611ms\n",
            "322:\tlearn: 0.0380117\ttotal: 291ms\tremaining: 610ms\n",
            "323:\tlearn: 0.0378346\ttotal: 292ms\tremaining: 609ms\n",
            "324:\tlearn: 0.0375955\ttotal: 292ms\tremaining: 607ms\n",
            "325:\tlearn: 0.0374130\ttotal: 293ms\tremaining: 606ms\n",
            "326:\tlearn: 0.0372217\ttotal: 294ms\tremaining: 605ms\n",
            "327:\tlearn: 0.0370742\ttotal: 295ms\tremaining: 603ms\n",
            "328:\tlearn: 0.0368988\ttotal: 295ms\tremaining: 602ms\n",
            "329:\tlearn: 0.0367243\ttotal: 296ms\tremaining: 601ms\n",
            "330:\tlearn: 0.0365079\ttotal: 297ms\tremaining: 600ms\n",
            "331:\tlearn: 0.0363856\ttotal: 297ms\tremaining: 598ms\n",
            "332:\tlearn: 0.0362090\ttotal: 298ms\tremaining: 597ms\n",
            "333:\tlearn: 0.0359874\ttotal: 299ms\tremaining: 596ms\n",
            "334:\tlearn: 0.0357894\ttotal: 300ms\tremaining: 595ms\n",
            "335:\tlearn: 0.0356672\ttotal: 301ms\tremaining: 594ms\n",
            "336:\tlearn: 0.0355365\ttotal: 302ms\tremaining: 593ms\n",
            "337:\tlearn: 0.0354058\ttotal: 302ms\tremaining: 592ms\n",
            "338:\tlearn: 0.0351984\ttotal: 303ms\tremaining: 591ms\n",
            "339:\tlearn: 0.0349859\ttotal: 304ms\tremaining: 590ms\n",
            "340:\tlearn: 0.0347785\ttotal: 304ms\tremaining: 588ms\n",
            "341:\tlearn: 0.0345103\ttotal: 305ms\tremaining: 587ms\n",
            "342:\tlearn: 0.0343113\ttotal: 306ms\tremaining: 586ms\n",
            "343:\tlearn: 0.0341835\ttotal: 306ms\tremaining: 584ms\n",
            "344:\tlearn: 0.0340669\ttotal: 307ms\tremaining: 583ms\n",
            "345:\tlearn: 0.0338365\ttotal: 308ms\tremaining: 582ms\n",
            "346:\tlearn: 0.0336900\ttotal: 309ms\tremaining: 581ms\n",
            "347:\tlearn: 0.0335595\ttotal: 309ms\tremaining: 579ms\n",
            "348:\tlearn: 0.0333356\ttotal: 310ms\tremaining: 578ms\n",
            "349:\tlearn: 0.0332174\ttotal: 311ms\tremaining: 577ms\n",
            "350:\tlearn: 0.0331165\ttotal: 311ms\tremaining: 576ms\n",
            "351:\tlearn: 0.0329721\ttotal: 312ms\tremaining: 574ms\n",
            "352:\tlearn: 0.0327837\ttotal: 313ms\tremaining: 573ms\n",
            "353:\tlearn: 0.0326407\ttotal: 313ms\tremaining: 572ms\n",
            "354:\tlearn: 0.0324968\ttotal: 314ms\tremaining: 570ms\n",
            "355:\tlearn: 0.0323893\ttotal: 315ms\tremaining: 569ms\n",
            "356:\tlearn: 0.0323061\ttotal: 315ms\tremaining: 568ms\n",
            "357:\tlearn: 0.0321646\ttotal: 316ms\tremaining: 567ms\n",
            "358:\tlearn: 0.0319261\ttotal: 317ms\tremaining: 565ms\n",
            "359:\tlearn: 0.0317770\ttotal: 317ms\tremaining: 564ms\n",
            "360:\tlearn: 0.0315879\ttotal: 318ms\tremaining: 563ms\n",
            "361:\tlearn: 0.0314493\ttotal: 319ms\tremaining: 562ms\n",
            "362:\tlearn: 0.0312771\ttotal: 319ms\tremaining: 560ms\n",
            "363:\tlearn: 0.0311491\ttotal: 322ms\tremaining: 563ms\n",
            "364:\tlearn: 0.0310070\ttotal: 323ms\tremaining: 562ms\n",
            "365:\tlearn: 0.0309065\ttotal: 324ms\tremaining: 560ms\n",
            "366:\tlearn: 0.0308024\ttotal: 324ms\tremaining: 559ms\n",
            "367:\tlearn: 0.0306309\ttotal: 325ms\tremaining: 558ms\n",
            "368:\tlearn: 0.0304936\ttotal: 326ms\tremaining: 557ms\n",
            "369:\tlearn: 0.0303937\ttotal: 326ms\tremaining: 556ms\n",
            "370:\tlearn: 0.0302780\ttotal: 327ms\tremaining: 554ms\n",
            "371:\tlearn: 0.0301154\ttotal: 328ms\tremaining: 553ms\n",
            "372:\tlearn: 0.0300160\ttotal: 328ms\tremaining: 552ms\n",
            "373:\tlearn: 0.0299137\ttotal: 329ms\tremaining: 551ms\n",
            "374:\tlearn: 0.0297852\ttotal: 330ms\tremaining: 549ms\n",
            "375:\tlearn: 0.0296231\ttotal: 330ms\tremaining: 548ms\n",
            "376:\tlearn: 0.0295310\ttotal: 331ms\tremaining: 547ms\n",
            "377:\tlearn: 0.0293698\ttotal: 332ms\tremaining: 546ms\n",
            "378:\tlearn: 0.0292439\ttotal: 332ms\tremaining: 545ms\n",
            "379:\tlearn: 0.0291546\ttotal: 333ms\tremaining: 544ms\n",
            "380:\tlearn: 0.0290417\ttotal: 334ms\tremaining: 542ms\n",
            "381:\tlearn: 0.0289158\ttotal: 335ms\tremaining: 541ms\n",
            "382:\tlearn: 0.0288357\ttotal: 335ms\tremaining: 540ms\n",
            "383:\tlearn: 0.0287531\ttotal: 336ms\tremaining: 539ms\n",
            "384:\tlearn: 0.0286256\ttotal: 337ms\tremaining: 538ms\n",
            "385:\tlearn: 0.0284777\ttotal: 337ms\tremaining: 537ms\n",
            "386:\tlearn: 0.0283550\ttotal: 338ms\tremaining: 535ms\n",
            "387:\tlearn: 0.0281576\ttotal: 339ms\tremaining: 534ms\n",
            "388:\tlearn: 0.0280712\ttotal: 339ms\tremaining: 533ms\n",
            "389:\tlearn: 0.0279914\ttotal: 340ms\tremaining: 532ms\n",
            "390:\tlearn: 0.0279065\ttotal: 341ms\tremaining: 531ms\n",
            "391:\tlearn: 0.0277554\ttotal: 341ms\tremaining: 530ms\n",
            "392:\tlearn: 0.0276380\ttotal: 342ms\tremaining: 528ms\n",
            "393:\tlearn: 0.0274949\ttotal: 343ms\tremaining: 527ms\n",
            "394:\tlearn: 0.0274146\ttotal: 343ms\tremaining: 526ms\n",
            "395:\tlearn: 0.0272778\ttotal: 344ms\tremaining: 525ms\n",
            "396:\tlearn: 0.0271617\ttotal: 345ms\tremaining: 524ms\n",
            "397:\tlearn: 0.0270801\ttotal: 346ms\tremaining: 523ms\n",
            "398:\tlearn: 0.0269328\ttotal: 346ms\tremaining: 522ms\n",
            "399:\tlearn: 0.0267981\ttotal: 347ms\tremaining: 520ms\n",
            "400:\tlearn: 0.0266960\ttotal: 348ms\tremaining: 519ms\n",
            "401:\tlearn: 0.0266091\ttotal: 348ms\tremaining: 518ms\n",
            "402:\tlearn: 0.0265284\ttotal: 349ms\tremaining: 517ms\n",
            "403:\tlearn: 0.0264566\ttotal: 350ms\tremaining: 516ms\n",
            "404:\tlearn: 0.0263739\ttotal: 350ms\tremaining: 515ms\n",
            "405:\tlearn: 0.0262714\ttotal: 351ms\tremaining: 514ms\n",
            "406:\tlearn: 0.0261954\ttotal: 353ms\tremaining: 514ms\n",
            "407:\tlearn: 0.0260568\ttotal: 353ms\tremaining: 513ms\n",
            "408:\tlearn: 0.0259447\ttotal: 354ms\tremaining: 511ms\n",
            "409:\tlearn: 0.0258325\ttotal: 354ms\tremaining: 510ms\n",
            "410:\tlearn: 0.0257291\ttotal: 355ms\tremaining: 508ms\n",
            "411:\tlearn: 0.0256016\ttotal: 355ms\tremaining: 507ms\n",
            "412:\tlearn: 0.0255111\ttotal: 356ms\tremaining: 506ms\n",
            "413:\tlearn: 0.0253434\ttotal: 356ms\tremaining: 504ms\n",
            "414:\tlearn: 0.0252535\ttotal: 361ms\tremaining: 509ms\n",
            "415:\tlearn: 0.0251336\ttotal: 362ms\tremaining: 508ms\n",
            "416:\tlearn: 0.0250627\ttotal: 363ms\tremaining: 508ms\n",
            "417:\tlearn: 0.0249779\ttotal: 364ms\tremaining: 507ms\n",
            "418:\tlearn: 0.0249032\ttotal: 365ms\tremaining: 506ms\n",
            "419:\tlearn: 0.0248364\ttotal: 366ms\tremaining: 505ms\n",
            "420:\tlearn: 0.0247426\ttotal: 366ms\tremaining: 504ms\n",
            "421:\tlearn: 0.0246516\ttotal: 367ms\tremaining: 503ms\n",
            "422:\tlearn: 0.0245712\ttotal: 368ms\tremaining: 502ms\n",
            "423:\tlearn: 0.0244969\ttotal: 368ms\tremaining: 501ms\n",
            "424:\tlearn: 0.0243393\ttotal: 369ms\tremaining: 499ms\n",
            "425:\tlearn: 0.0242132\ttotal: 370ms\tremaining: 498ms\n",
            "426:\tlearn: 0.0241433\ttotal: 370ms\tremaining: 497ms\n",
            "427:\tlearn: 0.0240641\ttotal: 371ms\tremaining: 496ms\n",
            "428:\tlearn: 0.0239108\ttotal: 372ms\tremaining: 495ms\n",
            "429:\tlearn: 0.0237903\ttotal: 373ms\tremaining: 494ms\n",
            "430:\tlearn: 0.0237241\ttotal: 373ms\tremaining: 493ms\n",
            "431:\tlearn: 0.0236356\ttotal: 374ms\tremaining: 492ms\n",
            "432:\tlearn: 0.0235713\ttotal: 375ms\tremaining: 490ms\n",
            "433:\tlearn: 0.0234882\ttotal: 375ms\tremaining: 490ms\n",
            "434:\tlearn: 0.0234068\ttotal: 376ms\tremaining: 488ms\n",
            "435:\tlearn: 0.0233004\ttotal: 377ms\tremaining: 487ms\n",
            "436:\tlearn: 0.0232319\ttotal: 377ms\tremaining: 486ms\n",
            "437:\tlearn: 0.0231537\ttotal: 378ms\tremaining: 485ms\n",
            "438:\tlearn: 0.0230864\ttotal: 379ms\tremaining: 484ms\n",
            "439:\tlearn: 0.0229845\ttotal: 379ms\tremaining: 483ms\n",
            "440:\tlearn: 0.0229134\ttotal: 380ms\tremaining: 482ms\n",
            "441:\tlearn: 0.0228475\ttotal: 381ms\tremaining: 481ms\n",
            "442:\tlearn: 0.0227900\ttotal: 381ms\tremaining: 480ms\n",
            "443:\tlearn: 0.0226901\ttotal: 382ms\tremaining: 478ms\n",
            "444:\tlearn: 0.0226028\ttotal: 383ms\tremaining: 477ms\n",
            "445:\tlearn: 0.0225472\ttotal: 383ms\tremaining: 476ms\n",
            "446:\tlearn: 0.0224868\ttotal: 384ms\tremaining: 475ms\n",
            "447:\tlearn: 0.0223830\ttotal: 385ms\tremaining: 474ms\n",
            "448:\tlearn: 0.0223177\ttotal: 385ms\tremaining: 473ms\n",
            "449:\tlearn: 0.0222570\ttotal: 386ms\tremaining: 472ms\n",
            "450:\tlearn: 0.0221560\ttotal: 387ms\tremaining: 471ms\n",
            "451:\tlearn: 0.0220976\ttotal: 388ms\tremaining: 470ms\n",
            "452:\tlearn: 0.0219973\ttotal: 388ms\tremaining: 469ms\n",
            "453:\tlearn: 0.0219382\ttotal: 389ms\tremaining: 468ms\n",
            "454:\tlearn: 0.0218818\ttotal: 390ms\tremaining: 467ms\n",
            "455:\tlearn: 0.0218161\ttotal: 390ms\tremaining: 466ms\n",
            "456:\tlearn: 0.0217298\ttotal: 391ms\tremaining: 465ms\n",
            "457:\tlearn: 0.0216742\ttotal: 392ms\tremaining: 464ms\n",
            "458:\tlearn: 0.0215659\ttotal: 392ms\tremaining: 462ms\n",
            "459:\tlearn: 0.0215113\ttotal: 393ms\tremaining: 461ms\n",
            "460:\tlearn: 0.0214417\ttotal: 394ms\tremaining: 461ms\n",
            "461:\tlearn: 0.0213908\ttotal: 395ms\tremaining: 460ms\n",
            "462:\tlearn: 0.0213190\ttotal: 395ms\tremaining: 459ms\n",
            "463:\tlearn: 0.0212128\ttotal: 396ms\tremaining: 458ms\n",
            "464:\tlearn: 0.0211196\ttotal: 397ms\tremaining: 456ms\n",
            "465:\tlearn: 0.0210469\ttotal: 397ms\tremaining: 455ms\n",
            "466:\tlearn: 0.0209898\ttotal: 398ms\tremaining: 454ms\n",
            "467:\tlearn: 0.0209378\ttotal: 399ms\tremaining: 453ms\n",
            "468:\tlearn: 0.0208857\ttotal: 400ms\tremaining: 452ms\n",
            "469:\tlearn: 0.0208080\ttotal: 400ms\tremaining: 451ms\n",
            "470:\tlearn: 0.0207595\ttotal: 401ms\tremaining: 450ms\n",
            "471:\tlearn: 0.0206894\ttotal: 402ms\tremaining: 449ms\n",
            "472:\tlearn: 0.0206412\ttotal: 402ms\tremaining: 448ms\n",
            "473:\tlearn: 0.0205201\ttotal: 403ms\tremaining: 447ms\n",
            "474:\tlearn: 0.0204740\ttotal: 404ms\tremaining: 446ms\n",
            "475:\tlearn: 0.0203868\ttotal: 404ms\tremaining: 445ms\n",
            "476:\tlearn: 0.0202995\ttotal: 405ms\tremaining: 444ms\n",
            "477:\tlearn: 0.0201816\ttotal: 406ms\tremaining: 443ms\n",
            "478:\tlearn: 0.0201162\ttotal: 406ms\tremaining: 442ms\n",
            "479:\tlearn: 0.0200492\ttotal: 407ms\tremaining: 441ms\n",
            "480:\tlearn: 0.0199843\ttotal: 408ms\tremaining: 440ms\n",
            "481:\tlearn: 0.0198924\ttotal: 409ms\tremaining: 439ms\n",
            "482:\tlearn: 0.0198282\ttotal: 409ms\tremaining: 438ms\n",
            "483:\tlearn: 0.0197861\ttotal: 410ms\tremaining: 437ms\n",
            "484:\tlearn: 0.0197046\ttotal: 411ms\tremaining: 436ms\n",
            "485:\tlearn: 0.0196557\ttotal: 412ms\tremaining: 435ms\n",
            "486:\tlearn: 0.0196120\ttotal: 412ms\tremaining: 434ms\n",
            "487:\tlearn: 0.0195319\ttotal: 413ms\tremaining: 433ms\n",
            "488:\tlearn: 0.0194841\ttotal: 414ms\tremaining: 432ms\n",
            "489:\tlearn: 0.0194384\ttotal: 415ms\tremaining: 432ms\n",
            "490:\tlearn: 0.0193986\ttotal: 415ms\tremaining: 431ms\n",
            "491:\tlearn: 0.0193411\ttotal: 416ms\tremaining: 430ms\n",
            "492:\tlearn: 0.0192732\ttotal: 417ms\tremaining: 429ms\n",
            "493:\tlearn: 0.0192023\ttotal: 418ms\tremaining: 428ms\n",
            "494:\tlearn: 0.0191518\ttotal: 419ms\tremaining: 427ms\n",
            "495:\tlearn: 0.0190756\ttotal: 419ms\tremaining: 426ms\n",
            "496:\tlearn: 0.0189978\ttotal: 420ms\tremaining: 425ms\n",
            "497:\tlearn: 0.0189525\ttotal: 421ms\tremaining: 424ms\n",
            "498:\tlearn: 0.0188936\ttotal: 422ms\tremaining: 423ms\n",
            "499:\tlearn: 0.0188504\ttotal: 422ms\tremaining: 422ms\n",
            "500:\tlearn: 0.0188076\ttotal: 423ms\tremaining: 421ms\n",
            "501:\tlearn: 0.0187622\ttotal: 424ms\tremaining: 420ms\n",
            "502:\tlearn: 0.0186885\ttotal: 425ms\tremaining: 419ms\n",
            "503:\tlearn: 0.0186117\ttotal: 425ms\tremaining: 418ms\n",
            "504:\tlearn: 0.0185241\ttotal: 426ms\tremaining: 417ms\n",
            "505:\tlearn: 0.0184544\ttotal: 427ms\tremaining: 416ms\n",
            "506:\tlearn: 0.0183788\ttotal: 427ms\tremaining: 415ms\n",
            "507:\tlearn: 0.0183346\ttotal: 428ms\tremaining: 415ms\n",
            "508:\tlearn: 0.0182926\ttotal: 429ms\tremaining: 414ms\n",
            "509:\tlearn: 0.0182148\ttotal: 429ms\tremaining: 413ms\n",
            "510:\tlearn: 0.0181447\ttotal: 430ms\tremaining: 412ms\n",
            "511:\tlearn: 0.0180903\ttotal: 431ms\tremaining: 411ms\n",
            "512:\tlearn: 0.0180495\ttotal: 432ms\tremaining: 410ms\n",
            "513:\tlearn: 0.0179654\ttotal: 432ms\tremaining: 409ms\n",
            "514:\tlearn: 0.0179256\ttotal: 433ms\tremaining: 408ms\n",
            "515:\tlearn: 0.0178798\ttotal: 434ms\tremaining: 407ms\n",
            "516:\tlearn: 0.0178410\ttotal: 435ms\tremaining: 406ms\n",
            "517:\tlearn: 0.0177993\ttotal: 435ms\tremaining: 405ms\n",
            "518:\tlearn: 0.0177234\ttotal: 436ms\tremaining: 404ms\n",
            "519:\tlearn: 0.0176816\ttotal: 437ms\tremaining: 403ms\n",
            "520:\tlearn: 0.0176401\ttotal: 438ms\tremaining: 402ms\n",
            "521:\tlearn: 0.0175461\ttotal: 438ms\tremaining: 401ms\n",
            "522:\tlearn: 0.0174920\ttotal: 439ms\tremaining: 400ms\n",
            "523:\tlearn: 0.0174436\ttotal: 440ms\tremaining: 399ms\n",
            "524:\tlearn: 0.0174073\ttotal: 440ms\tremaining: 398ms\n",
            "525:\tlearn: 0.0173637\ttotal: 441ms\tremaining: 398ms\n",
            "526:\tlearn: 0.0172714\ttotal: 442ms\tremaining: 397ms\n",
            "527:\tlearn: 0.0172325\ttotal: 443ms\tremaining: 396ms\n",
            "528:\tlearn: 0.0171910\ttotal: 443ms\tremaining: 395ms\n",
            "529:\tlearn: 0.0171115\ttotal: 444ms\tremaining: 394ms\n",
            "530:\tlearn: 0.0170562\ttotal: 445ms\tremaining: 393ms\n",
            "531:\tlearn: 0.0169869\ttotal: 445ms\tremaining: 392ms\n",
            "532:\tlearn: 0.0169183\ttotal: 446ms\tremaining: 391ms\n",
            "533:\tlearn: 0.0168719\ttotal: 447ms\tremaining: 390ms\n",
            "534:\tlearn: 0.0167957\ttotal: 448ms\tremaining: 389ms\n",
            "535:\tlearn: 0.0167602\ttotal: 448ms\tremaining: 388ms\n",
            "536:\tlearn: 0.0167235\ttotal: 449ms\tremaining: 387ms\n",
            "537:\tlearn: 0.0166603\ttotal: 450ms\tremaining: 386ms\n",
            "538:\tlearn: 0.0166167\ttotal: 451ms\tremaining: 386ms\n",
            "539:\tlearn: 0.0165796\ttotal: 452ms\tremaining: 385ms\n",
            "540:\tlearn: 0.0165423\ttotal: 453ms\tremaining: 384ms\n",
            "541:\tlearn: 0.0165049\ttotal: 453ms\tremaining: 383ms\n",
            "542:\tlearn: 0.0164304\ttotal: 454ms\tremaining: 382ms\n",
            "543:\tlearn: 0.0163601\ttotal: 455ms\tremaining: 381ms\n",
            "544:\tlearn: 0.0163059\ttotal: 455ms\tremaining: 380ms\n",
            "545:\tlearn: 0.0162707\ttotal: 456ms\tremaining: 379ms\n",
            "546:\tlearn: 0.0162352\ttotal: 457ms\tremaining: 378ms\n",
            "547:\tlearn: 0.0162037\ttotal: 457ms\tremaining: 377ms\n",
            "548:\tlearn: 0.0161608\ttotal: 458ms\tremaining: 376ms\n",
            "549:\tlearn: 0.0161002\ttotal: 459ms\tremaining: 375ms\n",
            "550:\tlearn: 0.0160447\ttotal: 459ms\tremaining: 374ms\n",
            "551:\tlearn: 0.0159844\ttotal: 460ms\tremaining: 373ms\n",
            "552:\tlearn: 0.0159528\ttotal: 461ms\tremaining: 372ms\n",
            "553:\tlearn: 0.0158979\ttotal: 461ms\tremaining: 371ms\n",
            "554:\tlearn: 0.0158661\ttotal: 462ms\tremaining: 371ms\n",
            "555:\tlearn: 0.0158318\ttotal: 463ms\tremaining: 370ms\n",
            "556:\tlearn: 0.0158022\ttotal: 464ms\tremaining: 369ms\n",
            "557:\tlearn: 0.0157591\ttotal: 464ms\tremaining: 368ms\n",
            "558:\tlearn: 0.0156895\ttotal: 465ms\tremaining: 367ms\n",
            "559:\tlearn: 0.0156570\ttotal: 466ms\tremaining: 366ms\n",
            "560:\tlearn: 0.0156236\ttotal: 466ms\tremaining: 365ms\n",
            "561:\tlearn: 0.0155801\ttotal: 467ms\tremaining: 364ms\n",
            "562:\tlearn: 0.0155526\ttotal: 468ms\tremaining: 363ms\n",
            "563:\tlearn: 0.0155236\ttotal: 468ms\tremaining: 362ms\n",
            "564:\tlearn: 0.0154816\ttotal: 469ms\tremaining: 361ms\n",
            "565:\tlearn: 0.0154494\ttotal: 470ms\tremaining: 360ms\n",
            "566:\tlearn: 0.0154205\ttotal: 471ms\tremaining: 359ms\n",
            "567:\tlearn: 0.0153915\ttotal: 471ms\tremaining: 358ms\n",
            "568:\tlearn: 0.0153571\ttotal: 472ms\tremaining: 358ms\n",
            "569:\tlearn: 0.0153260\ttotal: 473ms\tremaining: 357ms\n",
            "570:\tlearn: 0.0152981\ttotal: 473ms\tremaining: 356ms\n",
            "571:\tlearn: 0.0152228\ttotal: 474ms\tremaining: 355ms\n",
            "572:\tlearn: 0.0151673\ttotal: 475ms\tremaining: 354ms\n",
            "573:\tlearn: 0.0151335\ttotal: 476ms\tremaining: 353ms\n",
            "574:\tlearn: 0.0151008\ttotal: 476ms\tremaining: 352ms\n",
            "575:\tlearn: 0.0150449\ttotal: 477ms\tremaining: 351ms\n",
            "576:\tlearn: 0.0150169\ttotal: 478ms\tremaining: 350ms\n",
            "577:\tlearn: 0.0149447\ttotal: 478ms\tremaining: 349ms\n",
            "578:\tlearn: 0.0148934\ttotal: 479ms\tremaining: 348ms\n",
            "579:\tlearn: 0.0148545\ttotal: 480ms\tremaining: 347ms\n",
            "580:\tlearn: 0.0148152\ttotal: 480ms\tremaining: 346ms\n",
            "581:\tlearn: 0.0147632\ttotal: 481ms\tremaining: 346ms\n",
            "582:\tlearn: 0.0147356\ttotal: 482ms\tremaining: 345ms\n",
            "583:\tlearn: 0.0147080\ttotal: 482ms\tremaining: 344ms\n",
            "584:\tlearn: 0.0146518\ttotal: 483ms\tremaining: 343ms\n",
            "585:\tlearn: 0.0146182\ttotal: 484ms\tremaining: 342ms\n",
            "586:\tlearn: 0.0145810\ttotal: 485ms\tremaining: 341ms\n",
            "587:\tlearn: 0.0145496\ttotal: 485ms\tremaining: 340ms\n",
            "588:\tlearn: 0.0145249\ttotal: 486ms\tremaining: 339ms\n",
            "589:\tlearn: 0.0144962\ttotal: 487ms\tremaining: 339ms\n",
            "590:\tlearn: 0.0144693\ttotal: 488ms\tremaining: 338ms\n",
            "591:\tlearn: 0.0144413\ttotal: 488ms\tremaining: 337ms\n",
            "592:\tlearn: 0.0143982\ttotal: 489ms\tremaining: 335ms\n",
            "593:\tlearn: 0.0143684\ttotal: 489ms\tremaining: 334ms\n",
            "594:\tlearn: 0.0143003\ttotal: 490ms\tremaining: 333ms\n",
            "595:\tlearn: 0.0142482\ttotal: 490ms\tremaining: 332ms\n",
            "596:\tlearn: 0.0142197\ttotal: 491ms\tremaining: 331ms\n",
            "597:\tlearn: 0.0141933\ttotal: 492ms\tremaining: 331ms\n",
            "598:\tlearn: 0.0141269\ttotal: 493ms\tremaining: 330ms\n",
            "599:\tlearn: 0.0140744\ttotal: 495ms\tremaining: 330ms\n",
            "600:\tlearn: 0.0140499\ttotal: 495ms\tremaining: 329ms\n",
            "601:\tlearn: 0.0140260\ttotal: 496ms\tremaining: 328ms\n",
            "602:\tlearn: 0.0139756\ttotal: 496ms\tremaining: 327ms\n",
            "603:\tlearn: 0.0139163\ttotal: 497ms\tremaining: 326ms\n",
            "604:\tlearn: 0.0138902\ttotal: 498ms\tremaining: 325ms\n",
            "605:\tlearn: 0.0138626\ttotal: 499ms\tremaining: 324ms\n",
            "606:\tlearn: 0.0138370\ttotal: 500ms\tremaining: 324ms\n",
            "607:\tlearn: 0.0138012\ttotal: 501ms\tremaining: 323ms\n",
            "608:\tlearn: 0.0137377\ttotal: 502ms\tremaining: 323ms\n",
            "609:\tlearn: 0.0137092\ttotal: 504ms\tremaining: 322ms\n",
            "610:\tlearn: 0.0136675\ttotal: 505ms\tremaining: 321ms\n",
            "611:\tlearn: 0.0136442\ttotal: 506ms\tremaining: 320ms\n",
            "612:\tlearn: 0.0135824\ttotal: 506ms\tremaining: 319ms\n",
            "613:\tlearn: 0.0135556\ttotal: 506ms\tremaining: 318ms\n",
            "614:\tlearn: 0.0135320\ttotal: 507ms\tremaining: 318ms\n",
            "615:\tlearn: 0.0135018\ttotal: 508ms\tremaining: 317ms\n",
            "616:\tlearn: 0.0134573\ttotal: 509ms\tremaining: 316ms\n",
            "617:\tlearn: 0.0134139\ttotal: 510ms\tremaining: 315ms\n",
            "618:\tlearn: 0.0133934\ttotal: 510ms\tremaining: 314ms\n",
            "619:\tlearn: 0.0133604\ttotal: 511ms\tremaining: 313ms\n",
            "620:\tlearn: 0.0133277\ttotal: 512ms\tremaining: 312ms\n",
            "621:\tlearn: 0.0133051\ttotal: 513ms\tremaining: 312ms\n",
            "622:\tlearn: 0.0132639\ttotal: 513ms\tremaining: 311ms\n",
            "623:\tlearn: 0.0132303\ttotal: 514ms\tremaining: 310ms\n",
            "624:\tlearn: 0.0131980\ttotal: 515ms\tremaining: 309ms\n",
            "625:\tlearn: 0.0131535\ttotal: 515ms\tremaining: 308ms\n",
            "626:\tlearn: 0.0131295\ttotal: 516ms\tremaining: 307ms\n",
            "627:\tlearn: 0.0130893\ttotal: 517ms\tremaining: 306ms\n",
            "628:\tlearn: 0.0130663\ttotal: 518ms\tremaining: 305ms\n",
            "629:\tlearn: 0.0130414\ttotal: 519ms\tremaining: 305ms\n",
            "630:\tlearn: 0.0130198\ttotal: 519ms\tremaining: 304ms\n",
            "631:\tlearn: 0.0129900\ttotal: 520ms\tremaining: 303ms\n",
            "632:\tlearn: 0.0129666\ttotal: 521ms\tremaining: 302ms\n",
            "633:\tlearn: 0.0129447\ttotal: 522ms\tremaining: 301ms\n",
            "634:\tlearn: 0.0129021\ttotal: 522ms\tremaining: 300ms\n",
            "635:\tlearn: 0.0128785\ttotal: 523ms\tremaining: 299ms\n",
            "636:\tlearn: 0.0128563\ttotal: 524ms\tremaining: 298ms\n",
            "637:\tlearn: 0.0127999\ttotal: 525ms\tremaining: 298ms\n",
            "638:\tlearn: 0.0127766\ttotal: 527ms\tremaining: 298ms\n",
            "639:\tlearn: 0.0127431\ttotal: 528ms\tremaining: 297ms\n",
            "640:\tlearn: 0.0127055\ttotal: 528ms\tremaining: 296ms\n",
            "641:\tlearn: 0.0126852\ttotal: 529ms\tremaining: 295ms\n",
            "642:\tlearn: 0.0126326\ttotal: 530ms\tremaining: 294ms\n",
            "643:\tlearn: 0.0125805\ttotal: 530ms\tremaining: 293ms\n",
            "644:\tlearn: 0.0125400\ttotal: 532ms\tremaining: 293ms\n",
            "645:\tlearn: 0.0125026\ttotal: 533ms\tremaining: 292ms\n",
            "646:\tlearn: 0.0124620\ttotal: 533ms\tremaining: 291ms\n",
            "647:\tlearn: 0.0124390\ttotal: 534ms\tremaining: 290ms\n",
            "648:\tlearn: 0.0124110\ttotal: 535ms\tremaining: 289ms\n",
            "649:\tlearn: 0.0123886\ttotal: 536ms\tremaining: 288ms\n",
            "650:\tlearn: 0.0123618\ttotal: 536ms\tremaining: 288ms\n",
            "651:\tlearn: 0.0123407\ttotal: 537ms\tremaining: 287ms\n",
            "652:\tlearn: 0.0123097\ttotal: 538ms\tremaining: 286ms\n",
            "653:\tlearn: 0.0122949\ttotal: 539ms\tremaining: 285ms\n",
            "654:\tlearn: 0.0122751\ttotal: 539ms\tremaining: 284ms\n",
            "655:\tlearn: 0.0122551\ttotal: 540ms\tremaining: 283ms\n",
            "656:\tlearn: 0.0122209\ttotal: 541ms\tremaining: 282ms\n",
            "657:\tlearn: 0.0121909\ttotal: 541ms\tremaining: 281ms\n",
            "658:\tlearn: 0.0121544\ttotal: 542ms\tremaining: 281ms\n",
            "659:\tlearn: 0.0121348\ttotal: 543ms\tremaining: 280ms\n",
            "660:\tlearn: 0.0121161\ttotal: 544ms\tremaining: 279ms\n",
            "661:\tlearn: 0.0120773\ttotal: 544ms\tremaining: 278ms\n",
            "662:\tlearn: 0.0120559\ttotal: 545ms\tremaining: 277ms\n",
            "663:\tlearn: 0.0120165\ttotal: 546ms\tremaining: 276ms\n",
            "664:\tlearn: 0.0119808\ttotal: 546ms\tremaining: 275ms\n",
            "665:\tlearn: 0.0119623\ttotal: 547ms\tremaining: 274ms\n",
            "666:\tlearn: 0.0119376\ttotal: 548ms\tremaining: 274ms\n",
            "667:\tlearn: 0.0119182\ttotal: 549ms\tremaining: 273ms\n",
            "668:\tlearn: 0.0118995\ttotal: 549ms\tremaining: 272ms\n",
            "669:\tlearn: 0.0118722\ttotal: 550ms\tremaining: 271ms\n",
            "670:\tlearn: 0.0118486\ttotal: 551ms\tremaining: 270ms\n",
            "671:\tlearn: 0.0118107\ttotal: 551ms\tremaining: 269ms\n",
            "672:\tlearn: 0.0117758\ttotal: 552ms\tremaining: 268ms\n",
            "673:\tlearn: 0.0117427\ttotal: 553ms\tremaining: 267ms\n",
            "674:\tlearn: 0.0117246\ttotal: 554ms\tremaining: 267ms\n",
            "675:\tlearn: 0.0116763\ttotal: 554ms\tremaining: 266ms\n",
            "676:\tlearn: 0.0116426\ttotal: 555ms\tremaining: 265ms\n",
            "677:\tlearn: 0.0116250\ttotal: 556ms\tremaining: 264ms\n",
            "678:\tlearn: 0.0115933\ttotal: 556ms\tremaining: 263ms\n",
            "679:\tlearn: 0.0115699\ttotal: 557ms\tremaining: 262ms\n",
            "680:\tlearn: 0.0115475\ttotal: 558ms\tremaining: 261ms\n",
            "681:\tlearn: 0.0115283\ttotal: 558ms\tremaining: 260ms\n",
            "682:\tlearn: 0.0114807\ttotal: 559ms\tremaining: 260ms\n",
            "683:\tlearn: 0.0114611\ttotal: 560ms\tremaining: 259ms\n",
            "684:\tlearn: 0.0114385\ttotal: 561ms\tremaining: 258ms\n",
            "685:\tlearn: 0.0113933\ttotal: 561ms\tremaining: 257ms\n",
            "686:\tlearn: 0.0113478\ttotal: 562ms\tremaining: 256ms\n",
            "687:\tlearn: 0.0113281\ttotal: 563ms\tremaining: 255ms\n",
            "688:\tlearn: 0.0113036\ttotal: 563ms\tremaining: 254ms\n",
            "689:\tlearn: 0.0112720\ttotal: 564ms\tremaining: 253ms\n",
            "690:\tlearn: 0.0112503\ttotal: 565ms\tremaining: 253ms\n",
            "691:\tlearn: 0.0112266\ttotal: 565ms\tremaining: 252ms\n",
            "692:\tlearn: 0.0111966\ttotal: 566ms\tremaining: 251ms\n",
            "693:\tlearn: 0.0111724\ttotal: 567ms\tremaining: 250ms\n",
            "694:\tlearn: 0.0111530\ttotal: 568ms\tremaining: 249ms\n",
            "695:\tlearn: 0.0111310\ttotal: 569ms\tremaining: 248ms\n",
            "696:\tlearn: 0.0111137\ttotal: 569ms\tremaining: 247ms\n",
            "697:\tlearn: 0.0110901\ttotal: 570ms\tremaining: 247ms\n",
            "698:\tlearn: 0.0110719\ttotal: 571ms\tremaining: 246ms\n",
            "699:\tlearn: 0.0110547\ttotal: 573ms\tremaining: 246ms\n",
            "700:\tlearn: 0.0110317\ttotal: 574ms\tremaining: 245ms\n",
            "701:\tlearn: 0.0110078\ttotal: 574ms\tremaining: 244ms\n",
            "702:\tlearn: 0.0109788\ttotal: 575ms\tremaining: 243ms\n",
            "703:\tlearn: 0.0109558\ttotal: 576ms\tremaining: 242ms\n",
            "704:\tlearn: 0.0109352\ttotal: 577ms\tremaining: 241ms\n",
            "705:\tlearn: 0.0109185\ttotal: 577ms\tremaining: 240ms\n",
            "706:\tlearn: 0.0109000\ttotal: 578ms\tremaining: 240ms\n",
            "707:\tlearn: 0.0108826\ttotal: 579ms\tremaining: 239ms\n",
            "708:\tlearn: 0.0108684\ttotal: 580ms\tremaining: 238ms\n",
            "709:\tlearn: 0.0108519\ttotal: 580ms\tremaining: 237ms\n",
            "710:\tlearn: 0.0108097\ttotal: 581ms\tremaining: 236ms\n",
            "711:\tlearn: 0.0107682\ttotal: 582ms\tremaining: 235ms\n",
            "712:\tlearn: 0.0107512\ttotal: 582ms\tremaining: 234ms\n",
            "713:\tlearn: 0.0107347\ttotal: 583ms\tremaining: 234ms\n",
            "714:\tlearn: 0.0107156\ttotal: 584ms\tremaining: 233ms\n",
            "715:\tlearn: 0.0106996\ttotal: 584ms\tremaining: 232ms\n",
            "716:\tlearn: 0.0106827\ttotal: 585ms\tremaining: 231ms\n",
            "717:\tlearn: 0.0106685\ttotal: 586ms\tremaining: 230ms\n",
            "718:\tlearn: 0.0106468\ttotal: 587ms\tremaining: 229ms\n",
            "719:\tlearn: 0.0106128\ttotal: 587ms\tremaining: 228ms\n",
            "720:\tlearn: 0.0105976\ttotal: 588ms\tremaining: 228ms\n",
            "721:\tlearn: 0.0105819\ttotal: 589ms\tremaining: 227ms\n",
            "722:\tlearn: 0.0105642\ttotal: 589ms\tremaining: 226ms\n",
            "723:\tlearn: 0.0105422\ttotal: 590ms\tremaining: 225ms\n",
            "724:\tlearn: 0.0105223\ttotal: 591ms\tremaining: 224ms\n",
            "725:\tlearn: 0.0105061\ttotal: 592ms\tremaining: 223ms\n",
            "726:\tlearn: 0.0104660\ttotal: 592ms\tremaining: 222ms\n",
            "727:\tlearn: 0.0104261\ttotal: 593ms\tremaining: 222ms\n",
            "728:\tlearn: 0.0104095\ttotal: 594ms\tremaining: 221ms\n",
            "729:\tlearn: 0.0103805\ttotal: 594ms\tremaining: 220ms\n",
            "730:\tlearn: 0.0103672\ttotal: 595ms\tremaining: 219ms\n",
            "731:\tlearn: 0.0103534\ttotal: 596ms\tremaining: 218ms\n",
            "732:\tlearn: 0.0103373\ttotal: 596ms\tremaining: 217ms\n",
            "733:\tlearn: 0.0103074\ttotal: 597ms\tremaining: 216ms\n",
            "734:\tlearn: 0.0102918\ttotal: 598ms\tremaining: 216ms\n",
            "735:\tlearn: 0.0102709\ttotal: 599ms\tremaining: 215ms\n",
            "736:\tlearn: 0.0102553\ttotal: 599ms\tremaining: 214ms\n",
            "737:\tlearn: 0.0102295\ttotal: 600ms\tremaining: 213ms\n",
            "738:\tlearn: 0.0102134\ttotal: 601ms\tremaining: 212ms\n",
            "739:\tlearn: 0.0101938\ttotal: 601ms\tremaining: 211ms\n",
            "740:\tlearn: 0.0101779\ttotal: 602ms\tremaining: 210ms\n",
            "741:\tlearn: 0.0101573\ttotal: 603ms\tremaining: 210ms\n",
            "742:\tlearn: 0.0101415\ttotal: 604ms\tremaining: 209ms\n",
            "743:\tlearn: 0.0101039\ttotal: 604ms\tremaining: 208ms\n",
            "744:\tlearn: 0.0100860\ttotal: 605ms\tremaining: 207ms\n",
            "745:\tlearn: 0.0100728\ttotal: 606ms\tremaining: 206ms\n",
            "746:\tlearn: 0.0100593\ttotal: 606ms\tremaining: 205ms\n",
            "747:\tlearn: 0.0100444\ttotal: 607ms\tremaining: 205ms\n",
            "748:\tlearn: 0.0100302\ttotal: 608ms\tremaining: 204ms\n",
            "749:\tlearn: 0.0100015\ttotal: 609ms\tremaining: 203ms\n",
            "750:\tlearn: 0.0099745\ttotal: 609ms\tremaining: 202ms\n",
            "751:\tlearn: 0.0099541\ttotal: 610ms\tremaining: 201ms\n",
            "752:\tlearn: 0.0099406\ttotal: 610ms\tremaining: 200ms\n",
            "753:\tlearn: 0.0099279\ttotal: 611ms\tremaining: 199ms\n",
            "754:\tlearn: 0.0099104\ttotal: 612ms\tremaining: 199ms\n",
            "755:\tlearn: 0.0098885\ttotal: 612ms\tremaining: 198ms\n",
            "756:\tlearn: 0.0098759\ttotal: 613ms\tremaining: 197ms\n",
            "757:\tlearn: 0.0098620\ttotal: 614ms\tremaining: 196ms\n",
            "758:\tlearn: 0.0098422\ttotal: 621ms\tremaining: 197ms\n",
            "759:\tlearn: 0.0098055\ttotal: 621ms\tremaining: 196ms\n",
            "760:\tlearn: 0.0097871\ttotal: 622ms\tremaining: 195ms\n",
            "761:\tlearn: 0.0097552\ttotal: 622ms\tremaining: 194ms\n",
            "762:\tlearn: 0.0097236\ttotal: 623ms\tremaining: 193ms\n",
            "763:\tlearn: 0.0097052\ttotal: 623ms\tremaining: 192ms\n",
            "764:\tlearn: 0.0096697\ttotal: 630ms\tremaining: 194ms\n",
            "765:\tlearn: 0.0096342\ttotal: 631ms\tremaining: 193ms\n",
            "766:\tlearn: 0.0096175\ttotal: 633ms\tremaining: 192ms\n",
            "767:\tlearn: 0.0096038\ttotal: 633ms\tremaining: 191ms\n",
            "768:\tlearn: 0.0095913\ttotal: 634ms\tremaining: 190ms\n",
            "769:\tlearn: 0.0095709\ttotal: 634ms\tremaining: 189ms\n",
            "770:\tlearn: 0.0095454\ttotal: 634ms\tremaining: 188ms\n",
            "771:\tlearn: 0.0095111\ttotal: 635ms\tremaining: 187ms\n",
            "772:\tlearn: 0.0094864\ttotal: 635ms\tremaining: 187ms\n",
            "773:\tlearn: 0.0094755\ttotal: 641ms\tremaining: 187ms\n",
            "774:\tlearn: 0.0094615\ttotal: 641ms\tremaining: 186ms\n",
            "775:\tlearn: 0.0094359\ttotal: 642ms\tremaining: 185ms\n",
            "776:\tlearn: 0.0094233\ttotal: 643ms\tremaining: 184ms\n",
            "777:\tlearn: 0.0094060\ttotal: 644ms\tremaining: 184ms\n",
            "778:\tlearn: 0.0093825\ttotal: 645ms\tremaining: 183ms\n",
            "779:\tlearn: 0.0093656\ttotal: 646ms\tremaining: 182ms\n",
            "780:\tlearn: 0.0093498\ttotal: 647ms\tremaining: 181ms\n",
            "781:\tlearn: 0.0093331\ttotal: 648ms\tremaining: 181ms\n",
            "782:\tlearn: 0.0093159\ttotal: 649ms\tremaining: 180ms\n",
            "783:\tlearn: 0.0093026\ttotal: 650ms\tremaining: 179ms\n",
            "784:\tlearn: 0.0092799\ttotal: 651ms\tremaining: 178ms\n",
            "785:\tlearn: 0.0092687\ttotal: 653ms\tremaining: 178ms\n",
            "786:\tlearn: 0.0092471\ttotal: 653ms\tremaining: 177ms\n",
            "787:\tlearn: 0.0092221\ttotal: 654ms\tremaining: 176ms\n",
            "788:\tlearn: 0.0091980\ttotal: 655ms\tremaining: 175ms\n",
            "789:\tlearn: 0.0091817\ttotal: 656ms\tremaining: 174ms\n",
            "790:\tlearn: 0.0091661\ttotal: 657ms\tremaining: 174ms\n",
            "791:\tlearn: 0.0091542\ttotal: 658ms\tremaining: 173ms\n",
            "792:\tlearn: 0.0091404\ttotal: 660ms\tremaining: 172ms\n",
            "793:\tlearn: 0.0091279\ttotal: 661ms\tremaining: 171ms\n",
            "794:\tlearn: 0.0091111\ttotal: 662ms\tremaining: 171ms\n",
            "795:\tlearn: 0.0090892\ttotal: 663ms\tremaining: 170ms\n",
            "796:\tlearn: 0.0090567\ttotal: 664ms\tremaining: 169ms\n",
            "797:\tlearn: 0.0090451\ttotal: 665ms\tremaining: 168ms\n",
            "798:\tlearn: 0.0090327\ttotal: 666ms\tremaining: 167ms\n",
            "799:\tlearn: 0.0090201\ttotal: 667ms\tremaining: 167ms\n",
            "800:\tlearn: 0.0090088\ttotal: 668ms\tremaining: 166ms\n",
            "801:\tlearn: 0.0089983\ttotal: 669ms\tremaining: 165ms\n",
            "802:\tlearn: 0.0089765\ttotal: 670ms\tremaining: 164ms\n",
            "803:\tlearn: 0.0089624\ttotal: 671ms\tremaining: 164ms\n",
            "804:\tlearn: 0.0089508\ttotal: 672ms\tremaining: 163ms\n",
            "805:\tlearn: 0.0089326\ttotal: 673ms\tremaining: 162ms\n",
            "806:\tlearn: 0.0089212\ttotal: 674ms\tremaining: 161ms\n",
            "807:\tlearn: 0.0089107\ttotal: 675ms\tremaining: 160ms\n",
            "808:\tlearn: 0.0088991\ttotal: 676ms\tremaining: 160ms\n",
            "809:\tlearn: 0.0088830\ttotal: 678ms\tremaining: 159ms\n",
            "810:\tlearn: 0.0088670\ttotal: 679ms\tremaining: 158ms\n",
            "811:\tlearn: 0.0088555\ttotal: 680ms\tremaining: 157ms\n",
            "812:\tlearn: 0.0088416\ttotal: 681ms\tremaining: 157ms\n",
            "813:\tlearn: 0.0088291\ttotal: 682ms\tremaining: 156ms\n",
            "814:\tlearn: 0.0088136\ttotal: 683ms\tremaining: 155ms\n",
            "815:\tlearn: 0.0087912\ttotal: 684ms\tremaining: 154ms\n",
            "816:\tlearn: 0.0087786\ttotal: 686ms\tremaining: 154ms\n",
            "817:\tlearn: 0.0087492\ttotal: 687ms\tremaining: 153ms\n",
            "818:\tlearn: 0.0087357\ttotal: 688ms\tremaining: 152ms\n",
            "819:\tlearn: 0.0087050\ttotal: 689ms\tremaining: 151ms\n",
            "820:\tlearn: 0.0086839\ttotal: 689ms\tremaining: 150ms\n",
            "821:\tlearn: 0.0086731\ttotal: 691ms\tremaining: 150ms\n",
            "822:\tlearn: 0.0086540\ttotal: 692ms\tremaining: 149ms\n",
            "823:\tlearn: 0.0086319\ttotal: 692ms\tremaining: 148ms\n",
            "824:\tlearn: 0.0086119\ttotal: 693ms\tremaining: 147ms\n",
            "825:\tlearn: 0.0086030\ttotal: 694ms\tremaining: 146ms\n",
            "826:\tlearn: 0.0085848\ttotal: 695ms\tremaining: 145ms\n",
            "827:\tlearn: 0.0085743\ttotal: 696ms\tremaining: 145ms\n",
            "828:\tlearn: 0.0085618\ttotal: 697ms\tremaining: 144ms\n",
            "829:\tlearn: 0.0085516\ttotal: 698ms\tremaining: 143ms\n",
            "830:\tlearn: 0.0085331\ttotal: 699ms\tremaining: 142ms\n",
            "831:\tlearn: 0.0085135\ttotal: 700ms\tremaining: 141ms\n",
            "832:\tlearn: 0.0085036\ttotal: 701ms\tremaining: 140ms\n",
            "833:\tlearn: 0.0084925\ttotal: 701ms\tremaining: 140ms\n",
            "834:\tlearn: 0.0084823\ttotal: 702ms\tremaining: 139ms\n",
            "835:\tlearn: 0.0084712\ttotal: 703ms\tremaining: 138ms\n",
            "836:\tlearn: 0.0084606\ttotal: 704ms\tremaining: 137ms\n",
            "837:\tlearn: 0.0084510\ttotal: 705ms\tremaining: 136ms\n",
            "838:\tlearn: 0.0084412\ttotal: 706ms\tremaining: 136ms\n",
            "839:\tlearn: 0.0084302\ttotal: 707ms\tremaining: 135ms\n",
            "840:\tlearn: 0.0084159\ttotal: 708ms\tremaining: 134ms\n",
            "841:\tlearn: 0.0084057\ttotal: 709ms\tremaining: 133ms\n",
            "842:\tlearn: 0.0083958\ttotal: 710ms\tremaining: 132ms\n",
            "843:\tlearn: 0.0083829\ttotal: 711ms\tremaining: 131ms\n",
            "844:\tlearn: 0.0083643\ttotal: 712ms\tremaining: 131ms\n",
            "845:\tlearn: 0.0083538\ttotal: 713ms\tremaining: 130ms\n",
            "846:\tlearn: 0.0083338\ttotal: 714ms\tremaining: 129ms\n",
            "847:\tlearn: 0.0083048\ttotal: 715ms\tremaining: 128ms\n",
            "848:\tlearn: 0.0082910\ttotal: 716ms\tremaining: 127ms\n",
            "849:\tlearn: 0.0082788\ttotal: 717ms\tremaining: 127ms\n",
            "850:\tlearn: 0.0082698\ttotal: 719ms\tremaining: 126ms\n",
            "851:\tlearn: 0.0082497\ttotal: 720ms\tremaining: 125ms\n",
            "852:\tlearn: 0.0082405\ttotal: 720ms\tremaining: 124ms\n",
            "853:\tlearn: 0.0082207\ttotal: 722ms\tremaining: 123ms\n",
            "854:\tlearn: 0.0082032\ttotal: 723ms\tremaining: 123ms\n",
            "855:\tlearn: 0.0081837\ttotal: 723ms\tremaining: 122ms\n",
            "856:\tlearn: 0.0081647\ttotal: 725ms\tremaining: 121ms\n",
            "857:\tlearn: 0.0081531\ttotal: 725ms\tremaining: 120ms\n",
            "858:\tlearn: 0.0081273\ttotal: 726ms\tremaining: 119ms\n",
            "859:\tlearn: 0.0081128\ttotal: 727ms\tremaining: 118ms\n",
            "860:\tlearn: 0.0080951\ttotal: 728ms\tremaining: 118ms\n",
            "861:\tlearn: 0.0080861\ttotal: 729ms\tremaining: 117ms\n",
            "862:\tlearn: 0.0080729\ttotal: 730ms\tremaining: 116ms\n",
            "863:\tlearn: 0.0080478\ttotal: 731ms\tremaining: 115ms\n",
            "864:\tlearn: 0.0080378\ttotal: 732ms\tremaining: 114ms\n",
            "865:\tlearn: 0.0080252\ttotal: 733ms\tremaining: 113ms\n",
            "866:\tlearn: 0.0080150\ttotal: 734ms\tremaining: 113ms\n",
            "867:\tlearn: 0.0080060\ttotal: 735ms\tremaining: 112ms\n",
            "868:\tlearn: 0.0079872\ttotal: 736ms\tremaining: 111ms\n",
            "869:\tlearn: 0.0079766\ttotal: 737ms\tremaining: 110ms\n",
            "870:\tlearn: 0.0079516\ttotal: 738ms\tremaining: 109ms\n",
            "871:\tlearn: 0.0079428\ttotal: 739ms\tremaining: 109ms\n",
            "872:\tlearn: 0.0079255\ttotal: 740ms\tremaining: 108ms\n",
            "873:\tlearn: 0.0079154\ttotal: 741ms\tremaining: 107ms\n",
            "874:\tlearn: 0.0078985\ttotal: 742ms\tremaining: 106ms\n",
            "875:\tlearn: 0.0078804\ttotal: 743ms\tremaining: 105ms\n",
            "876:\tlearn: 0.0078635\ttotal: 744ms\tremaining: 104ms\n",
            "877:\tlearn: 0.0078549\ttotal: 745ms\tremaining: 104ms\n",
            "878:\tlearn: 0.0078457\ttotal: 746ms\tremaining: 103ms\n",
            "879:\tlearn: 0.0078193\ttotal: 747ms\tremaining: 102ms\n",
            "880:\tlearn: 0.0078066\ttotal: 748ms\tremaining: 101ms\n",
            "881:\tlearn: 0.0077792\ttotal: 749ms\tremaining: 100ms\n",
            "882:\tlearn: 0.0077553\ttotal: 750ms\tremaining: 99.4ms\n",
            "883:\tlearn: 0.0077389\ttotal: 751ms\tremaining: 98.5ms\n",
            "884:\tlearn: 0.0077302\ttotal: 752ms\tremaining: 97.8ms\n",
            "885:\tlearn: 0.0077228\ttotal: 753ms\tremaining: 96.9ms\n",
            "886:\tlearn: 0.0077060\ttotal: 754ms\tremaining: 96.1ms\n",
            "887:\tlearn: 0.0076969\ttotal: 755ms\tremaining: 95.3ms\n",
            "888:\tlearn: 0.0076812\ttotal: 756ms\tremaining: 94.4ms\n",
            "889:\tlearn: 0.0076638\ttotal: 757ms\tremaining: 93.6ms\n",
            "890:\tlearn: 0.0076554\ttotal: 758ms\tremaining: 92.8ms\n",
            "891:\tlearn: 0.0076320\ttotal: 759ms\tremaining: 92ms\n",
            "892:\tlearn: 0.0076167\ttotal: 761ms\tremaining: 91.1ms\n",
            "893:\tlearn: 0.0076080\ttotal: 762ms\tremaining: 90.3ms\n",
            "894:\tlearn: 0.0075990\ttotal: 763ms\tremaining: 89.5ms\n",
            "895:\tlearn: 0.0075923\ttotal: 764ms\tremaining: 88.6ms\n",
            "896:\tlearn: 0.0075828\ttotal: 765ms\tremaining: 87.8ms\n",
            "897:\tlearn: 0.0075716\ttotal: 766ms\tremaining: 87ms\n",
            "898:\tlearn: 0.0075626\ttotal: 767ms\tremaining: 86.1ms\n",
            "899:\tlearn: 0.0075460\ttotal: 767ms\tremaining: 85.3ms\n",
            "900:\tlearn: 0.0075370\ttotal: 768ms\tremaining: 84.4ms\n",
            "901:\tlearn: 0.0075283\ttotal: 769ms\tremaining: 83.6ms\n",
            "902:\tlearn: 0.0075056\ttotal: 770ms\tremaining: 82.7ms\n",
            "903:\tlearn: 0.0074978\ttotal: 771ms\tremaining: 81.9ms\n",
            "904:\tlearn: 0.0074870\ttotal: 772ms\tremaining: 81.1ms\n",
            "905:\tlearn: 0.0074646\ttotal: 773ms\tremaining: 80.2ms\n",
            "906:\tlearn: 0.0074528\ttotal: 774ms\tremaining: 79.4ms\n",
            "907:\tlearn: 0.0074371\ttotal: 775ms\tremaining: 78.5ms\n",
            "908:\tlearn: 0.0074293\ttotal: 776ms\tremaining: 77.7ms\n",
            "909:\tlearn: 0.0074180\ttotal: 777ms\tremaining: 76.9ms\n",
            "910:\tlearn: 0.0074020\ttotal: 778ms\tremaining: 76ms\n",
            "911:\tlearn: 0.0073936\ttotal: 779ms\tremaining: 75.2ms\n",
            "912:\tlearn: 0.0073810\ttotal: 780ms\tremaining: 74.3ms\n",
            "913:\tlearn: 0.0073715\ttotal: 781ms\tremaining: 73.5ms\n",
            "914:\tlearn: 0.0073499\ttotal: 783ms\tremaining: 72.7ms\n",
            "915:\tlearn: 0.0073261\ttotal: 783ms\tremaining: 71.8ms\n",
            "916:\tlearn: 0.0073193\ttotal: 785ms\tremaining: 71ms\n",
            "917:\tlearn: 0.0072955\ttotal: 785ms\tremaining: 70.2ms\n",
            "918:\tlearn: 0.0072872\ttotal: 786ms\tremaining: 69.3ms\n",
            "919:\tlearn: 0.0072792\ttotal: 787ms\tremaining: 68.5ms\n",
            "920:\tlearn: 0.0072649\ttotal: 788ms\tremaining: 67.6ms\n",
            "921:\tlearn: 0.0072576\ttotal: 789ms\tremaining: 66.8ms\n",
            "922:\tlearn: 0.0072366\ttotal: 790ms\tremaining: 65.9ms\n",
            "923:\tlearn: 0.0072135\ttotal: 791ms\tremaining: 65.1ms\n",
            "924:\tlearn: 0.0071993\ttotal: 792ms\tremaining: 64.2ms\n",
            "925:\tlearn: 0.0071918\ttotal: 793ms\tremaining: 63.4ms\n",
            "926:\tlearn: 0.0071858\ttotal: 795ms\tremaining: 62.6ms\n",
            "927:\tlearn: 0.0071775\ttotal: 796ms\tremaining: 61.8ms\n",
            "928:\tlearn: 0.0071696\ttotal: 798ms\tremaining: 61ms\n",
            "929:\tlearn: 0.0071578\ttotal: 800ms\tremaining: 60.2ms\n",
            "930:\tlearn: 0.0071436\ttotal: 801ms\tremaining: 59.3ms\n",
            "931:\tlearn: 0.0071335\ttotal: 802ms\tremaining: 58.5ms\n",
            "932:\tlearn: 0.0071274\ttotal: 803ms\tremaining: 57.7ms\n",
            "933:\tlearn: 0.0071046\ttotal: 804ms\tremaining: 56.8ms\n",
            "934:\tlearn: 0.0070974\ttotal: 805ms\tremaining: 56ms\n",
            "935:\tlearn: 0.0070906\ttotal: 808ms\tremaining: 55.2ms\n",
            "936:\tlearn: 0.0070838\ttotal: 809ms\tremaining: 54.4ms\n",
            "937:\tlearn: 0.0070726\ttotal: 810ms\tremaining: 53.5ms\n",
            "938:\tlearn: 0.0070639\ttotal: 811ms\tremaining: 52.7ms\n",
            "939:\tlearn: 0.0070540\ttotal: 812ms\tremaining: 51.8ms\n",
            "940:\tlearn: 0.0070388\ttotal: 814ms\tremaining: 51ms\n",
            "941:\tlearn: 0.0070300\ttotal: 815ms\tremaining: 50.2ms\n",
            "942:\tlearn: 0.0070159\ttotal: 816ms\tremaining: 49.3ms\n",
            "943:\tlearn: 0.0070059\ttotal: 816ms\tremaining: 48.4ms\n",
            "944:\tlearn: 0.0069959\ttotal: 817ms\tremaining: 47.6ms\n",
            "945:\tlearn: 0.0069831\ttotal: 819ms\tremaining: 46.7ms\n",
            "946:\tlearn: 0.0069633\ttotal: 820ms\tremaining: 45.9ms\n",
            "947:\tlearn: 0.0069546\ttotal: 821ms\tremaining: 45ms\n",
            "948:\tlearn: 0.0069472\ttotal: 822ms\tremaining: 44.2ms\n",
            "949:\tlearn: 0.0069408\ttotal: 823ms\tremaining: 43.3ms\n",
            "950:\tlearn: 0.0069311\ttotal: 824ms\tremaining: 42.5ms\n",
            "951:\tlearn: 0.0069170\ttotal: 825ms\tremaining: 41.6ms\n",
            "952:\tlearn: 0.0069094\ttotal: 826ms\tremaining: 40.7ms\n",
            "953:\tlearn: 0.0068957\ttotal: 827ms\tremaining: 39.9ms\n",
            "954:\tlearn: 0.0068885\ttotal: 828ms\tremaining: 39ms\n",
            "955:\tlearn: 0.0068793\ttotal: 829ms\tremaining: 38.2ms\n",
            "956:\tlearn: 0.0068708\ttotal: 830ms\tremaining: 37.3ms\n",
            "957:\tlearn: 0.0068639\ttotal: 831ms\tremaining: 36.4ms\n",
            "958:\tlearn: 0.0068575\ttotal: 832ms\tremaining: 35.6ms\n",
            "959:\tlearn: 0.0068487\ttotal: 833ms\tremaining: 34.7ms\n",
            "960:\tlearn: 0.0068291\ttotal: 834ms\tremaining: 33.9ms\n",
            "961:\tlearn: 0.0068198\ttotal: 835ms\tremaining: 33ms\n",
            "962:\tlearn: 0.0068011\ttotal: 836ms\tremaining: 32.1ms\n",
            "963:\tlearn: 0.0067942\ttotal: 838ms\tremaining: 31.3ms\n",
            "964:\tlearn: 0.0067854\ttotal: 844ms\tremaining: 30.6ms\n",
            "965:\tlearn: 0.0067770\ttotal: 845ms\tremaining: 29.7ms\n",
            "966:\tlearn: 0.0067676\ttotal: 850ms\tremaining: 29ms\n",
            "967:\tlearn: 0.0067490\ttotal: 852ms\tremaining: 28.2ms\n",
            "968:\tlearn: 0.0067422\ttotal: 853ms\tremaining: 27.3ms\n",
            "969:\tlearn: 0.0067362\ttotal: 857ms\tremaining: 26.5ms\n",
            "970:\tlearn: 0.0067174\ttotal: 860ms\tremaining: 25.7ms\n",
            "971:\tlearn: 0.0067106\ttotal: 861ms\tremaining: 24.8ms\n",
            "972:\tlearn: 0.0067039\ttotal: 863ms\tremaining: 23.9ms\n",
            "973:\tlearn: 0.0066948\ttotal: 864ms\tremaining: 23.1ms\n",
            "974:\tlearn: 0.0066828\ttotal: 865ms\tremaining: 22.2ms\n",
            "975:\tlearn: 0.0066645\ttotal: 866ms\tremaining: 21.3ms\n",
            "976:\tlearn: 0.0066559\ttotal: 867ms\tremaining: 20.4ms\n",
            "977:\tlearn: 0.0066493\ttotal: 868ms\tremaining: 19.5ms\n",
            "978:\tlearn: 0.0066407\ttotal: 868ms\tremaining: 18.6ms\n",
            "979:\tlearn: 0.0066300\ttotal: 870ms\tremaining: 17.7ms\n",
            "980:\tlearn: 0.0066230\ttotal: 870ms\tremaining: 16.9ms\n",
            "981:\tlearn: 0.0066158\ttotal: 871ms\tremaining: 16ms\n",
            "982:\tlearn: 0.0066066\ttotal: 872ms\tremaining: 15.1ms\n",
            "983:\tlearn: 0.0066000\ttotal: 873ms\tremaining: 14.2ms\n",
            "984:\tlearn: 0.0065921\ttotal: 874ms\tremaining: 13.3ms\n",
            "985:\tlearn: 0.0065854\ttotal: 874ms\tremaining: 12.4ms\n",
            "986:\tlearn: 0.0065679\ttotal: 875ms\tremaining: 11.5ms\n",
            "987:\tlearn: 0.0065612\ttotal: 876ms\tremaining: 10.6ms\n",
            "988:\tlearn: 0.0065543\ttotal: 877ms\tremaining: 9.75ms\n",
            "989:\tlearn: 0.0065461\ttotal: 877ms\tremaining: 8.86ms\n",
            "990:\tlearn: 0.0065398\ttotal: 882ms\tremaining: 8.01ms\n",
            "991:\tlearn: 0.0065313\ttotal: 883ms\tremaining: 7.12ms\n",
            "992:\tlearn: 0.0065253\ttotal: 883ms\tremaining: 6.22ms\n",
            "993:\tlearn: 0.0065178\ttotal: 884ms\tremaining: 5.33ms\n",
            "994:\tlearn: 0.0065120\ttotal: 884ms\tremaining: 4.44ms\n",
            "995:\tlearn: 0.0065032\ttotal: 885ms\tremaining: 3.55ms\n",
            "996:\tlearn: 0.0064927\ttotal: 889ms\tremaining: 2.68ms\n",
            "997:\tlearn: 0.0064749\ttotal: 890ms\tremaining: 1.78ms\n",
            "998:\tlearn: 0.0064622\ttotal: 891ms\tremaining: 892us\n",
            "999:\tlearn: 0.0064428\ttotal: 892ms\tremaining: 0us\n"
          ]
        }
      ]
    },
    {
      "cell_type": "code",
      "source": [
        "# Train Score\n",
        "train_score = catboost_model.score(X_train, y_train)\n",
        "print('Training Score: %0.4f'% train_score)"
      ],
      "metadata": {
        "colab": {
          "base_uri": "https://localhost:8080/"
        },
        "id": "8r-WmLr4Apqy",
        "outputId": "1ffeaf33-de14-4193-cbc7-3f41645c9b64"
      },
      "execution_count": 72,
      "outputs": [
        {
          "output_type": "stream",
          "name": "stdout",
          "text": [
            "Training Score: 1.0000\n"
          ]
        }
      ]
    },
    {
      "cell_type": "markdown",
      "source": [
        "Testing The CatBoost model on the testing set"
      ],
      "metadata": {
        "id": "HJvLycoRA8im"
      }
    },
    {
      "cell_type": "code",
      "source": [
        "# Test score\n",
        "print('Recall score: %0.4f'% recall_score(y_test, y_pred))\n",
        "print('Precision score: %0.4f'% precision_score(y_test, y_pred))\n",
        "print('F1-Score: %0.4f'% f1_score(y_test, y_pred))\n",
        "print('Accuracy score: %0.4f'% accuracy_score(y_test, y_pred))"
      ],
      "metadata": {
        "colab": {
          "base_uri": "https://localhost:8080/"
        },
        "id": "YVTbSjUCAput",
        "outputId": "be516db7-e862-4c5c-e32d-8b1fdca913d1"
      },
      "execution_count": 73,
      "outputs": [
        {
          "output_type": "stream",
          "name": "stdout",
          "text": [
            "Recall score: 1.0000\n",
            "Precision score: 1.0000\n",
            "F1-Score: 1.0000\n",
            "Accuracy score: 1.0000\n"
          ]
        }
      ]
    },
    {
      "cell_type": "code",
      "source": [
        "# Test Predictions\n",
        "Visualize_confusion_matrix(y_test, y_pred)"
      ],
      "metadata": {
        "colab": {
          "base_uri": "https://localhost:8080/",
          "height": 558
        },
        "id": "2kG84gX5ApzP",
        "outputId": "48d463d0-6fb7-4534-adbe-35595fb428a3"
      },
      "execution_count": 74,
      "outputs": [
        {
          "output_type": "display_data",
          "data": {
            "text/plain": [
              "<Figure size 504x360 with 2 Axes>"
            ],
            "image/png": "[encoded data removed]"
          },
          "metadata": {
            "needs_background": "light"
          }
        },
        {
          "output_type": "stream",
          "name": "stdout",
          "text": [
            "\n",
            "\n",
            "Classification Report:\n",
            "              precision    recall  f1-score   support\n",
            "\n",
            "           0       1.00      1.00      1.00        26\n",
            "           1       1.00      1.00      1.00        37\n",
            "\n",
            "    accuracy                           1.00        63\n",
            "   macro avg       1.00      1.00      1.00        63\n",
            "weighted avg       1.00      1.00      1.00        63\n",
            "\n"
          ]
        }
      ]
    },
    {
      "cell_type": "code",
      "source": [
        "\n",
        "mylist=[]\n",
        "mylist2=[]\n",
        "\n",
        "mylist.append(acc1)\n",
        "mylist2.append(\"Logistic Regression\")\n",
        "mylist.append(acc2)\n",
        "mylist2.append(\"Naive Bayes\")\n",
        "mylist.append(acc3)\n",
        "mylist2.append(\"KNN\")\n",
        "mylist.append(acc4)\n",
        "mylist2.append(\"Decision Tree\")\n",
        "mylist.append(acc5)\n",
        "mylist2.append(\"Random Forest\")\n",
        "mylist.append(acc6)\n",
        "mylist2.append(\"SVM\")\n",
        "mylist.append(acc7)\n",
        "mylist2.append(\"XG Boost\")\n",
        "mylist.append(acc8)\n",
        "mylist2.append(\"Cat Boost\")\n",
        "\n",
        "\n",
        "plt.figure(figsize=(22, 10))\n",
        "sns.set_style(\"darkgrid\")\n",
        "ax = sns.barplot(x = mylist2, y = mylist, palette = \"magma\", saturation =1.5)\n",
        "plt.xlabel(\"Classification Models\", fontsize = 20 )\n",
        "plt.ylabel(\"Accuracy\", fontsize = 20)\n",
        "plt.title(\"Accuracy of different Classification Models\", fontsize = 20)\n",
        "plt.xticks(fontsize = 11, horizontalalignment = 'center', rotation = 0)\n",
        "plt.yticks(fontsize = 13)\n",
        "for p in ax.patches:\n",
        "    width, height = p.get_width(), p.get_height()\n",
        "    x, y = p.get_xy() \n",
        "    ax.annotate(f'{height:.2%}', (x + width/2, y + height*1.02), ha='center', fontsize = 'x-large')\n",
        "\n",
        "    # Add Text watermark\n",
        "    plt.text(7.5, -0.1, 'Make by Lucas', fontsize = 15,\n",
        "             color ='#034235', ha ='left', va ='bottom',\n",
        "             alpha = 0.7)\n",
        "       \n",
        "plt.show();"
      ],
      "metadata": {
        "colab": {
          "base_uri": "https://localhost:8080/",
          "height": 537
        },
        "id": "iMC-PA1OBxAS",
        "outputId": "99c0fc39-4130-45e2-872a-f726da191916"
      },
      "execution_count": 81,
      "outputs": [
        {
          "output_type": "display_data",
          "data": {
            "text/plain": [
              "<Figure size 1584x720 with 1 Axes>"
            ],
            "image/png": "[encoded data removed]"
          },
          "metadata": {
            "needs_background": "light"
          }
        }
      ]
    },
    {
      "cell_type": "code",
      "source": [],
      "metadata": {
        "id": "vwqIzTcgBxEw"
      },
      "execution_count": null,
      "outputs": []
    },
    {
      "cell_type": "code",
      "source": [],
      "metadata": {
        "id": "7iGXxpDdBxJt"
      },
      "execution_count": null,
      "outputs": []
    },
    {
      "cell_type": "code",
      "source": [],
      "metadata": {
        "id": "C4rGKj58BxOZ"
      },
      "execution_count": null,
      "outputs": []
    },
    {
      "cell_type": "code",
      "source": [],
      "metadata": {
        "id": "VkaMyri8BxTG"
      },
      "execution_count": null,
      "outputs": []
    },
    {
      "cell_type": "code",
      "source": [],
      "metadata": {
        "id": "XGtm0q8wBxXj"
      },
      "execution_count": null,
      "outputs": []
    },
    {
      "cell_type": "code",
      "source": [],
      "metadata": {
        "id": "7WgpfAOVBxdW"
      },
      "execution_count": null,
      "outputs": []
    },
    {
      "cell_type": "code",
      "source": [],
      "metadata": {
        "id": "dNum36dy5qID"
      },
      "execution_count": null,
      "outputs": []
    }
  ]
}